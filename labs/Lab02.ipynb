{
 "cells": [
  {
   "cell_type": "markdown",
   "id": "a372add5",
   "metadata": {},
   "source": [
    "# Week 3, Lab \\#2\n",
    "\n",
    "*January 31, 2024*\n",
    "\n",
    "**Objectives:**\n",
    "\n",
    "- Gain more sophistication with Python as a programming language\n",
    "- Practice writing conditional expressions in Python\n",
    "- Filter and aggregate spatially explicit data"
   ]
  },
  {
   "cell_type": "markdown",
   "id": "bba78089",
   "metadata": {},
   "source": [
    "For this lab, we'll be working with data on **Net Primary Productivity (NPP).** Plants (primary producers) take up carbon dioxide from the atmosphere and use it create carbon compounds they store for energy; this is called *photosynthesis.* But plants also have to spend that energy to sustain their metabolism; this requires them to burn carbon compounds, so some of that stored carbon is returned to the atmosphere. **NPP is the amount of carbon (C) stored in plant tissues after accounting for the C they lose in respiration.**\n",
    "\n",
    "    NPP = [C fixed in photosynthesis] - [C lost in plant respiration]\n",
    "    \n",
    "NPP is often measured in grams of carbon (C) per square meter per unit time. It's most convenient to estimate NPP on annual time scales, so the data here are in grams of carbon (C) per square meter (m$^{-2}$) per year (g C m$^{-2}$ year$^{-1}$).\n",
    "\n",
    "**We'll be working with a global dataset on GPP and NPP:**\n",
    "\n",
    "- [Multiple-biome NPP estimates from the Global Primary Production Data Initiative (GPPDI)](https://daac.ornl.gov/cgi-bin/dsviewer.pl?ds_id=617)\n",
    "\n",
    "Some of the abbreviations used in this dataset include:\n",
    "\n",
    "**Biome types:**\n",
    "\n",
    "- C3 and C4 refer to two different kinds of photosynthesis; most plants are C3 but C4 plants include important agricultural varieties like corn.\n",
    "- ENL refers to Evergreen Needleleaf (\"coniferous\" trees)\n",
    "- DNL refers to Deciduous Needleleaf (like a Western Larch, it loses its needles in the fall)\n",
    "- EBL refers to Evergreen Broadleaf, like broad-leaved tropical trees\n",
    "- DBL refers to Deciduous Broadleaf, like an Oak or Maple, which lose leaves in the fall"
   ]
  },
  {
   "cell_type": "markdown",
   "id": "708e856a",
   "metadata": {},
   "source": [
    "# Introduction"
   ]
  },
  {
   "cell_type": "markdown",
   "id": "15bcc22d",
   "metadata": {},
   "source": [
    "How do rates of NPP (i.e., the amount of C fixed in plant tissues per unit area per unit time) vary between different biomes?\n",
    "\n",
    "Let's take a look at the data."
   ]
  },
  {
   "cell_type": "code",
   "execution_count": 3,
   "id": "276108a5-f4e7-4b5b-b532-a07ddce3af36",
   "metadata": {},
   "outputs": [],
   "source": [
    "import matplotlib.pyplot as plt"
   ]
  },
  {
   "cell_type": "code",
   "execution_count": 2,
   "id": "65d31e16-3e97-418f-98b1-f3280c7dba80",
   "metadata": {},
   "outputs": [],
   "source": [
    "import numpy as np"
   ]
  },
  {
   "cell_type": "code",
   "execution_count": 1,
   "id": "cc003df1",
   "metadata": {},
   "outputs": [
    {
     "data": {
      "text/html": [
       "<div>\n",
       "<style scoped>\n",
       "    .dataframe tbody tr th:only-of-type {\n",
       "        vertical-align: middle;\n",
       "    }\n",
       "\n",
       "    .dataframe tbody tr th {\n",
       "        vertical-align: top;\n",
       "    }\n",
       "\n",
       "    .dataframe thead th {\n",
       "        text-align: right;\n",
       "    }\n",
       "</style>\n",
       "<table border=\"1\" class=\"dataframe\">\n",
       "  <thead>\n",
       "    <tr style=\"text-align: right;\">\n",
       "      <th></th>\n",
       "      <th>SITE_ID</th>\n",
       "      <th>LAT_DD</th>\n",
       "      <th>LONG_DD</th>\n",
       "      <th>LAT_OLD</th>\n",
       "      <th>LONG_OLD</th>\n",
       "      <th>ELEV_GIV</th>\n",
       "      <th>SOURCE</th>\n",
       "      <th>COUNTRY</th>\n",
       "      <th>BIOMENEW</th>\n",
       "      <th>VEG_TYPE</th>\n",
       "      <th>SPECIES</th>\n",
       "      <th>TEMP_ANN</th>\n",
       "      <th>PREC_ANN</th>\n",
       "      <th>ANPP_C</th>\n",
       "      <th>BNPP_C</th>\n",
       "      <th>TNPP_C</th>\n",
       "      <th>REFERENC</th>\n",
       "      <th>YEAR_REF</th>\n",
       "      <th>MEAS_ID</th>\n",
       "    </tr>\n",
       "  </thead>\n",
       "  <tbody>\n",
       "    <tr>\n",
       "      <th>0</th>\n",
       "      <td>4</td>\n",
       "      <td>-27.75</td>\n",
       "      <td>152.45</td>\n",
       "      <td>-27.75</td>\n",
       "      <td>152.45</td>\n",
       "      <td>-999</td>\n",
       "      <td>Day</td>\n",
       "      <td>Australia</td>\n",
       "      <td>grassland / C4 tropical</td>\n",
       "      <td>grassland</td>\n",
       "      <td>Heteropogon sp.</td>\n",
       "      <td>18.5</td>\n",
       "      <td>917</td>\n",
       "      <td>165</td>\n",
       "      <td>99</td>\n",
       "      <td>264</td>\n",
       "      <td>NaN</td>\n",
       "      <td>NaN</td>\n",
       "      <td>1</td>\n",
       "    </tr>\n",
       "    <tr>\n",
       "      <th>1</th>\n",
       "      <td>5</td>\n",
       "      <td>-27.03</td>\n",
       "      <td>152.02</td>\n",
       "      <td>-27.03</td>\n",
       "      <td>152.02</td>\n",
       "      <td>-999</td>\n",
       "      <td>Day</td>\n",
       "      <td>Australia</td>\n",
       "      <td>grassland / C4 tropical</td>\n",
       "      <td>grassland</td>\n",
       "      <td>Heteropogon sp.</td>\n",
       "      <td>17.5</td>\n",
       "      <td>848</td>\n",
       "      <td>106</td>\n",
       "      <td>70</td>\n",
       "      <td>175</td>\n",
       "      <td>NaN</td>\n",
       "      <td>NaN</td>\n",
       "      <td>2</td>\n",
       "    </tr>\n",
       "    <tr>\n",
       "      <th>2</th>\n",
       "      <td>6</td>\n",
       "      <td>-26.76</td>\n",
       "      <td>148.82</td>\n",
       "      <td>-26.76</td>\n",
       "      <td>148.82</td>\n",
       "      <td>-999</td>\n",
       "      <td>Day</td>\n",
       "      <td>Australia</td>\n",
       "      <td>grassland / C4 tropical</td>\n",
       "      <td>grassland</td>\n",
       "      <td>Cenchrus ciliaris</td>\n",
       "      <td>20.4</td>\n",
       "      <td>541</td>\n",
       "      <td>68</td>\n",
       "      <td>41</td>\n",
       "      <td>110</td>\n",
       "      <td>NaN</td>\n",
       "      <td>NaN</td>\n",
       "      <td>4</td>\n",
       "    </tr>\n",
       "    <tr>\n",
       "      <th>3</th>\n",
       "      <td>6</td>\n",
       "      <td>-26.76</td>\n",
       "      <td>148.82</td>\n",
       "      <td>-26.76</td>\n",
       "      <td>148.82</td>\n",
       "      <td>-999</td>\n",
       "      <td>Day</td>\n",
       "      <td>Australia</td>\n",
       "      <td>grassland / C4 tropical</td>\n",
       "      <td>grassland</td>\n",
       "      <td>Aristida sp.</td>\n",
       "      <td>20.4</td>\n",
       "      <td>541</td>\n",
       "      <td>106</td>\n",
       "      <td>58</td>\n",
       "      <td>164</td>\n",
       "      <td>NaN</td>\n",
       "      <td>NaN</td>\n",
       "      <td>3</td>\n",
       "    </tr>\n",
       "    <tr>\n",
       "      <th>4</th>\n",
       "      <td>7</td>\n",
       "      <td>-26.58</td>\n",
       "      <td>148.77</td>\n",
       "      <td>-26.58</td>\n",
       "      <td>148.77</td>\n",
       "      <td>-999</td>\n",
       "      <td>Day</td>\n",
       "      <td>Australia</td>\n",
       "      <td>grassland / C4 tropical</td>\n",
       "      <td>grassland</td>\n",
       "      <td>Thyridolepis mitchell</td>\n",
       "      <td>20.5</td>\n",
       "      <td>553</td>\n",
       "      <td>105</td>\n",
       "      <td>57</td>\n",
       "      <td>161</td>\n",
       "      <td>NaN</td>\n",
       "      <td>NaN</td>\n",
       "      <td>5</td>\n",
       "    </tr>\n",
       "    <tr>\n",
       "      <th>...</th>\n",
       "      <td>...</td>\n",
       "      <td>...</td>\n",
       "      <td>...</td>\n",
       "      <td>...</td>\n",
       "      <td>...</td>\n",
       "      <td>...</td>\n",
       "      <td>...</td>\n",
       "      <td>...</td>\n",
       "      <td>...</td>\n",
       "      <td>...</td>\n",
       "      <td>...</td>\n",
       "      <td>...</td>\n",
       "      <td>...</td>\n",
       "      <td>...</td>\n",
       "      <td>...</td>\n",
       "      <td>...</td>\n",
       "      <td>...</td>\n",
       "      <td>...</td>\n",
       "      <td>...</td>\n",
       "    </tr>\n",
       "    <tr>\n",
       "      <th>157</th>\n",
       "      <td>145</td>\n",
       "      <td>64.75</td>\n",
       "      <td>-148.25</td>\n",
       "      <td>64.75</td>\n",
       "      <td>-148.25</td>\n",
       "      <td>-999</td>\n",
       "      <td>STG</td>\n",
       "      <td>USA</td>\n",
       "      <td>ENL forest / boreal</td>\n",
       "      <td>Boreal Forest / Evergreen</td>\n",
       "      <td>Picea glauca</td>\n",
       "      <td>-3.5</td>\n",
       "      <td>269</td>\n",
       "      <td>310</td>\n",
       "      <td>71</td>\n",
       "      <td>431</td>\n",
       "      <td>Ruess, R.W. et al. 1996; Oechel, W.C.&amp; Van Cle...</td>\n",
       "      <td>1996.0</td>\n",
       "      <td>171</td>\n",
       "    </tr>\n",
       "    <tr>\n",
       "      <th>158</th>\n",
       "      <td>145</td>\n",
       "      <td>64.75</td>\n",
       "      <td>-148.25</td>\n",
       "      <td>64.75</td>\n",
       "      <td>-148.25</td>\n",
       "      <td>-999</td>\n",
       "      <td>STG</td>\n",
       "      <td>USA</td>\n",
       "      <td>ENL forest / boreal</td>\n",
       "      <td>Boreal Forest / Deciduous</td>\n",
       "      <td>Populus balsami</td>\n",
       "      <td>-3.5</td>\n",
       "      <td>269</td>\n",
       "      <td>415</td>\n",
       "      <td>197</td>\n",
       "      <td>612</td>\n",
       "      <td>Ruess, R.W. et al. 1996; Oechel, W.C.&amp; Van Cle...</td>\n",
       "      <td>1996.0</td>\n",
       "      <td>169</td>\n",
       "    </tr>\n",
       "    <tr>\n",
       "      <th>159</th>\n",
       "      <td>145</td>\n",
       "      <td>64.75</td>\n",
       "      <td>-148.25</td>\n",
       "      <td>64.75</td>\n",
       "      <td>-148.25</td>\n",
       "      <td>-999</td>\n",
       "      <td>STG</td>\n",
       "      <td>USA</td>\n",
       "      <td>ENL forest / boreal</td>\n",
       "      <td>Boreal Forest / Deciduous</td>\n",
       "      <td>Betula papyrifera</td>\n",
       "      <td>-3.5</td>\n",
       "      <td>269</td>\n",
       "      <td>540</td>\n",
       "      <td>124</td>\n",
       "      <td>669</td>\n",
       "      <td>Ruess, R.W. et al. 1996; Oechel, W.C.&amp; Van Cle...</td>\n",
       "      <td>1996.0</td>\n",
       "      <td>168</td>\n",
       "    </tr>\n",
       "    <tr>\n",
       "      <th>160</th>\n",
       "      <td>145</td>\n",
       "      <td>64.75</td>\n",
       "      <td>-148.25</td>\n",
       "      <td>64.75</td>\n",
       "      <td>-148.25</td>\n",
       "      <td>-999</td>\n",
       "      <td>STG</td>\n",
       "      <td>USA</td>\n",
       "      <td>ENL forest / boreal</td>\n",
       "      <td>Boreal Forest / Deciduous</td>\n",
       "      <td>Alnus populus</td>\n",
       "      <td>-3.5</td>\n",
       "      <td>269</td>\n",
       "      <td>635</td>\n",
       "      <td>160</td>\n",
       "      <td>795</td>\n",
       "      <td>Ruess, R.W. et al. 1996; Oechel, W.C.&amp; Van Cle...</td>\n",
       "      <td>1996.0</td>\n",
       "      <td>167</td>\n",
       "    </tr>\n",
       "    <tr>\n",
       "      <th>161</th>\n",
       "      <td>146</td>\n",
       "      <td>66.37</td>\n",
       "      <td>29.32</td>\n",
       "      <td>66.37</td>\n",
       "      <td>29.32</td>\n",
       "      <td>270</td>\n",
       "      <td>IBP</td>\n",
       "      <td>Finland</td>\n",
       "      <td>ENL forest / boreal</td>\n",
       "      <td>Boreal Forest / Evergreen</td>\n",
       "      <td>Picea abies</td>\n",
       "      <td>-0.6</td>\n",
       "      <td>500</td>\n",
       "      <td>210</td>\n",
       "      <td>-999</td>\n",
       "      <td>368</td>\n",
       "      <td>Havas, P. 1973</td>\n",
       "      <td>1973.0</td>\n",
       "      <td>173</td>\n",
       "    </tr>\n",
       "  </tbody>\n",
       "</table>\n",
       "<p>162 rows × 19 columns</p>\n",
       "</div>"
      ],
      "text/plain": [
       "     SITE_ID  LAT_DD  LONG_DD  LAT_OLD  LONG_OLD  ELEV_GIV SOURCE    COUNTRY  \\\n",
       "0          4  -27.75   152.45   -27.75    152.45      -999    Day  Australia   \n",
       "1          5  -27.03   152.02   -27.03    152.02      -999    Day  Australia   \n",
       "2          6  -26.76   148.82   -26.76    148.82      -999    Day  Australia   \n",
       "3          6  -26.76   148.82   -26.76    148.82      -999    Day  Australia   \n",
       "4          7  -26.58   148.77   -26.58    148.77      -999    Day  Australia   \n",
       "..       ...     ...      ...      ...       ...       ...    ...        ...   \n",
       "157      145   64.75  -148.25    64.75   -148.25      -999    STG        USA   \n",
       "158      145   64.75  -148.25    64.75   -148.25      -999    STG        USA   \n",
       "159      145   64.75  -148.25    64.75   -148.25      -999    STG        USA   \n",
       "160      145   64.75  -148.25    64.75   -148.25      -999    STG        USA   \n",
       "161      146   66.37    29.32    66.37     29.32       270    IBP    Finland   \n",
       "\n",
       "                    BIOMENEW                   VEG_TYPE  \\\n",
       "0    grassland / C4 tropical                  grassland   \n",
       "1    grassland / C4 tropical                  grassland   \n",
       "2    grassland / C4 tropical                  grassland   \n",
       "3    grassland / C4 tropical                  grassland   \n",
       "4    grassland / C4 tropical                  grassland   \n",
       "..                       ...                        ...   \n",
       "157      ENL forest / boreal  Boreal Forest / Evergreen   \n",
       "158      ENL forest / boreal  Boreal Forest / Deciduous   \n",
       "159      ENL forest / boreal  Boreal Forest / Deciduous   \n",
       "160      ENL forest / boreal  Boreal Forest / Deciduous   \n",
       "161      ENL forest / boreal  Boreal Forest / Evergreen   \n",
       "\n",
       "                   SPECIES  TEMP_ANN  PREC_ANN  ANPP_C  BNPP_C  TNPP_C  \\\n",
       "0          Heteropogon sp.      18.5       917     165      99     264   \n",
       "1          Heteropogon sp.      17.5       848     106      70     175   \n",
       "2        Cenchrus ciliaris      20.4       541      68      41     110   \n",
       "3             Aristida sp.      20.4       541     106      58     164   \n",
       "4    Thyridolepis mitchell      20.5       553     105      57     161   \n",
       "..                     ...       ...       ...     ...     ...     ...   \n",
       "157           Picea glauca      -3.5       269     310      71     431   \n",
       "158        Populus balsami      -3.5       269     415     197     612   \n",
       "159      Betula papyrifera      -3.5       269     540     124     669   \n",
       "160          Alnus populus      -3.5       269     635     160     795   \n",
       "161            Picea abies      -0.6       500     210    -999     368   \n",
       "\n",
       "                                              REFERENC  YEAR_REF  MEAS_ID  \n",
       "0                                                  NaN       NaN        1  \n",
       "1                                                  NaN       NaN        2  \n",
       "2                                                  NaN       NaN        4  \n",
       "3                                                  NaN       NaN        3  \n",
       "4                                                  NaN       NaN        5  \n",
       "..                                                 ...       ...      ...  \n",
       "157  Ruess, R.W. et al. 1996; Oechel, W.C.& Van Cle...    1996.0      171  \n",
       "158  Ruess, R.W. et al. 1996; Oechel, W.C.& Van Cle...    1996.0      169  \n",
       "159  Ruess, R.W. et al. 1996; Oechel, W.C.& Van Cle...    1996.0      168  \n",
       "160  Ruess, R.W. et al. 1996; Oechel, W.C.& Van Cle...    1996.0      167  \n",
       "161                                     Havas, P. 1973    1973.0      173  \n",
       "\n",
       "[162 rows x 19 columns]"
      ]
     },
     "execution_count": 1,
     "metadata": {},
     "output_type": "execute_result"
    }
   ],
   "source": [
    "import pandas as pd\n",
    "\n",
    "pd.read_csv(\"http://files.ntsg.umt.edu/data/GIS_Programming/data/GPPDI_ClassA_NPP_162_R2.csv\")"
   ]
  },
  {
   "cell_type": "markdown",
   "id": "a68de827",
   "metadata": {},
   "source": [
    "**There are three different columns that describe NPP:**\n",
    "\n",
    "- `ANPP_C` refers to Above-ground NPP; this is the portion of NPP (carbon) that is stored in the parts of plants above ground, like leaves, stems, and tree trunks.\n",
    "- `BNPP_C` refers to Below-ground NPP; this is the portion of NPP (carbon) that is stored in below-ground plant parts, specifically the roots.\n",
    "- `TNPP_C` is the sum of `ANPP_C` and `BNPP_C`."
   ]
  },
  {
   "cell_type": "code",
   "execution_count": 3,
   "id": "8b1c86da",
   "metadata": {},
   "outputs": [],
   "source": [
    "import pandas as pd\n",
    "# Load the data with just a subset of the columns\n",
    "data = pd.read_csv(\"http://files.ntsg.umt.edu/data/GIS_Programming/data/GPPDI_ClassA_NPP_162_R2.csv\",\n",
    "                  usecols = [\"SITE_ID\", \"LAT_DD\", \"LONG_DD\", \"BIOMENEW\", \"TNPP_C\"])"
   ]
  },
  {
   "cell_type": "code",
   "execution_count": 6,
   "id": "92af2aec-3f22-4b21-8fdc-951fd6718580",
   "metadata": {},
   "outputs": [
    {
     "data": {
      "text/html": [
       "<div>\n",
       "<style scoped>\n",
       "    .dataframe tbody tr th:only-of-type {\n",
       "        vertical-align: middle;\n",
       "    }\n",
       "\n",
       "    .dataframe tbody tr th {\n",
       "        vertical-align: top;\n",
       "    }\n",
       "\n",
       "    .dataframe thead th {\n",
       "        text-align: right;\n",
       "    }\n",
       "</style>\n",
       "<table border=\"1\" class=\"dataframe\">\n",
       "  <thead>\n",
       "    <tr style=\"text-align: right;\">\n",
       "      <th></th>\n",
       "      <th>SITE_ID</th>\n",
       "      <th>LAT_DD</th>\n",
       "      <th>LONG_DD</th>\n",
       "      <th>BIOMENEW</th>\n",
       "      <th>TNPP_C</th>\n",
       "    </tr>\n",
       "  </thead>\n",
       "  <tbody>\n",
       "    <tr>\n",
       "      <th>0</th>\n",
       "      <td>4</td>\n",
       "      <td>-27.75</td>\n",
       "      <td>152.45</td>\n",
       "      <td>grassland / C4 tropical</td>\n",
       "      <td>264</td>\n",
       "    </tr>\n",
       "    <tr>\n",
       "      <th>1</th>\n",
       "      <td>5</td>\n",
       "      <td>-27.03</td>\n",
       "      <td>152.02</td>\n",
       "      <td>grassland / C4 tropical</td>\n",
       "      <td>175</td>\n",
       "    </tr>\n",
       "    <tr>\n",
       "      <th>2</th>\n",
       "      <td>6</td>\n",
       "      <td>-26.76</td>\n",
       "      <td>148.82</td>\n",
       "      <td>grassland / C4 tropical</td>\n",
       "      <td>110</td>\n",
       "    </tr>\n",
       "    <tr>\n",
       "      <th>3</th>\n",
       "      <td>6</td>\n",
       "      <td>-26.76</td>\n",
       "      <td>148.82</td>\n",
       "      <td>grassland / C4 tropical</td>\n",
       "      <td>164</td>\n",
       "    </tr>\n",
       "    <tr>\n",
       "      <th>4</th>\n",
       "      <td>7</td>\n",
       "      <td>-26.58</td>\n",
       "      <td>148.77</td>\n",
       "      <td>grassland / C4 tropical</td>\n",
       "      <td>161</td>\n",
       "    </tr>\n",
       "  </tbody>\n",
       "</table>\n",
       "</div>"
      ],
      "text/plain": [
       "   SITE_ID  LAT_DD  LONG_DD                 BIOMENEW  TNPP_C\n",
       "0        4  -27.75   152.45  grassland / C4 tropical     264\n",
       "1        5  -27.03   152.02  grassland / C4 tropical     175\n",
       "2        6  -26.76   148.82  grassland / C4 tropical     110\n",
       "3        6  -26.76   148.82  grassland / C4 tropical     164\n",
       "4        7  -26.58   148.77  grassland / C4 tropical     161"
      ]
     },
     "execution_count": 6,
     "metadata": {},
     "output_type": "execute_result"
    }
   ],
   "source": [
    "data.head()"
   ]
  },
  {
   "cell_type": "code",
   "execution_count": 4,
   "id": "2a8a321f",
   "metadata": {},
   "outputs": [
    {
     "data": {
      "text/plain": [
       "pandas.core.frame.DataFrame"
      ]
     },
     "execution_count": 4,
     "metadata": {},
     "output_type": "execute_result"
    }
   ],
   "source": [
    "type(data)"
   ]
  },
  {
   "cell_type": "markdown",
   "id": "f8a784a2",
   "metadata": {},
   "source": [
    "You haven't seen this type of object in Python before, but a pandas \"DataFrame\" is a data structure for holding tabular (row-column) data."
   ]
  },
  {
   "cell_type": "code",
   "execution_count": 5,
   "id": "104319a7",
   "metadata": {},
   "outputs": [
    {
     "data": {
      "text/plain": [
       "Index(['SITE_ID', 'LAT_DD', 'LONG_DD', 'BIOMENEW', 'TNPP_C'], dtype='object')"
      ]
     },
     "execution_count": 5,
     "metadata": {},
     "output_type": "execute_result"
    }
   ],
   "source": [
    "data.columns"
   ]
  },
  {
   "cell_type": "markdown",
   "id": "86fbdb9e",
   "metadata": {},
   "source": [
    "We can iterate through the table row-by-row if we convert the DataFrame to a NumPy array:"
   ]
  },
  {
   "cell_type": "code",
   "execution_count": 7,
   "id": "34d2815d",
   "metadata": {},
   "outputs": [
    {
     "name": "stdout",
     "output_type": "stream",
     "text": [
      "[4 -27.75 152.45 'grassland / C4 tropical' 264]\n",
      "[5 -27.03 152.02 'grassland / C4 tropical' 175]\n",
      "[6 -26.76 148.82 'grassland / C4 tropical' 110]\n",
      "[6 -26.76 148.82 'grassland / C4 tropical' 164]\n",
      "[7 -26.58 148.77 'grassland / C4 tropical' 161]\n",
      "[8 -26.48 148.68 'grassland / C4 tropical' 151]\n",
      "[8 -26.48 148.68 'grassland / C4 tropical' 161]\n",
      "[9 -26.4 146.27 'grassland / C3' 72]\n",
      "[9 -26.4 146.27 'grassland / C3' 111]\n",
      "[10 -25.67 151.75 'grassland / C4 tropical' 158]\n",
      "[10 -25.67 151.75 'grassland / C4 tropical' 196]\n",
      "[10 -25.67 151.75 'grassland / C4 tropical' 214]\n",
      "[10 -25.67 151.75 'grassland / C4 tropical' 299]\n",
      "[10 -25.67 151.75 'grassland / C4 tropical' 305]\n",
      "[10 -25.67 151.75 'grassland / C4 tropical' 362]\n",
      "[11 -25.08 146.5 'grassland / C4 tropical' 331]\n",
      "[14 -24.19 150.69 'grassland / C4 tropical' 230]\n",
      "[15 -24.16 150.95 'grassland / C4 tropical' 170]\n",
      "[15 -24.16 150.95 'grassland / C4 tropical' 206]\n",
      "[15 -24.16 150.95 'grassland / C4 tropical' 711]\n",
      "[16 -23.3 150.51 'grassland / C4 tropical' 240]\n",
      "[17 -22.37 146.69 'grassland / C4 tropical' 112]\n",
      "[18 -20.98 141.8 'grassland / C4 tropical' 157]\n",
      "[19 -20.27 148.12 'grassland / C4 tropical' 125]\n",
      "[21 -18.12 140.88 'grassland / C4 tropical' 221]\n",
      "[23 -11.48 27.6 'DBL forest / tropical' 599]\n",
      "[24 -6.0 145.18 'EBL forest / tropical' 1042]\n",
      "[26 -3.0 -59.7 'DBL forest / tropical' 1088]\n",
      "[28 -2.98 -47.52 'EBL forest / tropical' 1133]\n",
      "[30 -2.5 -60.0 'EBL forest / tropical' 945]\n",
      "[30 -2.5 -60.0 'EBL forest / tropical' 1055]\n",
      "[30 -2.5 -60.0 'EBL forest / tropical' 1227]\n",
      "[30 -2.5 -60.0 'EBL forest / tropical' 1301]\n",
      "[31 -1.33 36.83 'grassland / C4 tropical' 162]\n",
      "[33 1.93 -67.05 'EBL forest / tropical' 886]\n",
      "[33 1.93 -67.05 'EBL forest / tropical' 979]\n",
      "[34 2.98 102.31 'EBL forest / tropical' 1495]\n",
      "[36 5.25 -55.75 'EBL forest / tropical' 1135]\n",
      "[40 5.7 -4.1 'EBL forest / tropical' 1347]\n",
      "[41 6.15 -0.92 'EBL forest / tropical' 1069]\n",
      "[42 6.22 -5.03 'grassland / C4 tropical' 250]\n",
      "[43 6.33 100.93 'grassland / C4 tropical' 215]\n",
      "[44 6.39 -73.56 'EBL forest / tropical' 1272]\n",
      "[44 6.39 -73.56 'EBL forest / tropical' 1636]\n",
      "[46 7.58 99.8 'EBL forest / tropical' 1678]\n",
      "[49 8.62 -71.35 'EBL forest / tropical' 1029]\n",
      "[51 8.93 -67.42 'grassland / C4 tropical' 165]\n",
      "[51 8.93 -67.42 'grassland / C4 tropical' 186]\n",
      "[55 10.43 -83.98 'EBL forest / tropical' 879]\n",
      "[56 12.08 75.7 'EBL forest / tropical' 674]\n",
      "[57 12.82 75.6 'EBL forest / tropical' 661]\n",
      "[58 13.25 75.25 'EBL forest / tropical' 554]\n",
      "[59 13.52 75.1 'EBL forest / tropical' 661]\n",
      "[61 18.0 -66.92 'DBL forest / tropical' 758]\n",
      "[62 18.08 -76.65 'EBL forest / tropical' 853]\n",
      "[62 18.08 -76.65 'EBL forest / tropical' 853]\n",
      "[62 18.08 -76.65 'EBL forest / tropical' 956]\n",
      "[62 18.08 -76.65 'EBL forest / tropical' 981]\n",
      "[63 18.27 -65.77 'EBL forest / tropical' 491]\n",
      "[64 18.3 -65.7 'EBL forest / tropical' 956]\n",
      "[67 19.46 -98.91 'grassland / C4 temperate' 227]\n",
      "[68 19.5 -105.05 'DBL forest / tropical' 547]\n",
      "[68 19.5 -105.05 'DBL forest / tropical' 564]\n",
      "[68 19.5 -105.05 'DBL forest / tropical' 682]\n",
      "[73 24.3 83.0 'grassland / C4 tropical' 799]\n",
      "[75 29.97 76.8 'grassland / C4 tropical' 1592]\n",
      "[76 32.6 -106.85 'grassland / C4 temperate' 93]\n",
      "[78 35.3 -101.53 'grassland / C4 temperate' 401]\n",
      "[80 35.96 -84.29 'DBL forest / temperate' 827]\n",
      "[80 35.96 -84.29 'DBL forest / temperate' 833]\n",
      "[80 35.96 -84.29 'DBL forest / temperate' 871]\n",
      "[80 35.96 -84.29 'DBL forest / temperate' 920]\n",
      "[80 35.96 -84.29 'DBL forest / temperate' 1038]\n",
      "[80 35.96 -84.29 'DBL forest / temperate' 1149]\n",
      "[82 36.95 -96.55 'grassland / C4 temperate' 187]\n",
      "[84 38.87 -99.38 'grassland / C4 temperate' 183]\n",
      "[87 40.82 -104.77 'grassland / C4 temperate' 333]\n",
      "[90 43.95 -101.87 'grassland / C3' 358]\n",
      "[91 44.29 -121.33 'ENL forest / temperate' 143]\n",
      "[92 44.42 -121.84 'ENL forest / temperate' 356]\n",
      "[93 44.42 -121.67 'ENL forest / temperate' 152]\n",
      "[94 44.6 -123.27 'ENL forest / temperate' 732]\n",
      "[95 44.68 -122.61 'ENL forest / temperate' 1069]\n",
      "[96 45.05 -123.96 'ENL forest / temperate' 646]\n",
      "[99 45.78 -110.78 'grassland / C3' 263]\n",
      "[100 46.1 123.0 'grassland / C3' 173]\n",
      "[103 46.9 -102.82 'grassland / C3' 187]\n",
      "[107 47.5 -93.5 'ENL forest / boreal' 287]\n",
      "[107 47.5 -93.5 'ENL forest / boreal' 315]\n",
      "[111 49.0 123.0 'DNL forest / boreal' 688]\n",
      "[114 50.0 121.3 'DNL forest / boreal' 476]\n",
      "[114 50.0 121.3 'DNL forest / boreal' 540]\n",
      "[115 50.2 -115.5 'ENL forest / boreal' 565]\n",
      "[116 50.7 -107.72 'grassland / C3' 165]\n",
      "[117 50.83 121.5 'DNL forest / boreal' 323]\n",
      "[120 51.67 36.5 'grassland / C3' 477]\n",
      "[121 51.67 71.0 'grassland / C3' 170]\n",
      "[122 51.83 94.42 'grassland / C3' 137]\n",
      "[123 52.2 121.8 'DNL forest / boreal' 400]\n",
      "[123 52.2 121.8 'DNL forest / boreal' 420]\n",
      "[124 53.0 103.0 'ENL forest / boreal' 649]\n",
      "[124 53.0 103.0 'ENL forest / boreal' 865]\n",
      "[124 53.0 103.0 'ENL forest / boreal' 911]\n",
      "[125 53.63 -106.2 'DBL forest / boreal' 394]\n",
      "[126 53.92 -104.69 'ENL forest / boreal' 226]\n",
      "[127 53.99 -105.12 'ENL forest / boreal' 264]\n",
      "[129 55.88 -98.48 'ENL forest / boreal' 218]\n",
      "[130 55.89 -98.67 'DBL forest / boreal' 414]\n",
      "[131 55.93 -98.62 'ENL forest / boreal' 220]\n",
      "[133 58.0 83.0 'ENL forest / boreal' 391]\n",
      "[133 58.0 83.0 'ENL forest / boreal' 410]\n",
      "[133 58.0 83.0 'ENL forest / boreal' 429]\n",
      "[133 58.0 83.0 'ENL forest / boreal' 489]\n",
      "[133 58.0 83.0 'ENL forest / boreal' 508]\n",
      "[133 58.0 83.0 'ENL forest / boreal' 524]\n",
      "[133 58.0 83.0 'ENL forest / boreal' 602]\n",
      "[133 58.0 83.0 'ENL forest / boreal' 619]\n",
      "[133 58.0 83.0 'ENL forest / boreal' 694]\n",
      "[133 58.0 83.0 'ENL forest / boreal' 747]\n",
      "[133 58.0 83.0 'ENL forest / boreal' 841]\n",
      "[133 58.0 83.0 'ENL forest / boreal' 931]\n",
      "[137 60.82 16.5 'ENL forest / boreal' 152]\n",
      "[137 60.82 16.5 'ENL forest / boreal' 240]\n",
      "[137 60.82 16.5 'ENL forest / boreal' 409]\n",
      "[137 60.82 16.5 'ENL forest / boreal' 462]\n",
      "[139 60.85 128.27 'DNL forest / boreal' 152]\n",
      "[139 60.85 128.27 'DNL forest / boreal' 184]\n",
      "[139 60.85 128.27 'DNL forest / boreal' 243]\n",
      "[140 62.0 34.0 'ENL forest / boreal' 268]\n",
      "[140 62.0 34.0 'ENL forest / boreal' 287]\n",
      "[140 62.0 34.0 'ENL forest / boreal' 288]\n",
      "[140 62.0 34.0 'ENL forest / boreal' 300]\n",
      "[140 62.0 34.0 'ENL forest / boreal' 326]\n",
      "[140 62.0 34.0 'ENL forest / boreal' 337]\n",
      "[140 62.0 34.0 'ENL forest / boreal' 361]\n",
      "[140 62.0 34.0 'ENL forest / boreal' 375]\n",
      "[140 62.0 34.0 'ENL forest / boreal' 403]\n",
      "[140 62.0 34.0 'ENL forest / boreal' 404]\n",
      "[140 62.0 34.0 'ENL forest / boreal' 439]\n",
      "[140 62.0 34.0 'ENL forest / boreal' 459]\n",
      "[140 62.0 34.0 'ENL forest / boreal' 467]\n",
      "[140 62.0 34.0 'ENL forest / boreal' 487]\n",
      "[140 62.0 34.0 'ENL forest / boreal' 489]\n",
      "[140 62.0 34.0 'ENL forest / boreal' 494]\n",
      "[140 62.0 34.0 'ENL forest / boreal' 547]\n",
      "[140 62.0 34.0 'ENL forest / boreal' 585]\n",
      "[141 62.85 30.88 'DBL forest / boreal' 214]\n",
      "[141 62.85 30.88 'DBL forest / boreal' 214]\n",
      "[141 62.85 30.88 'DBL forest / boreal' 334]\n",
      "[141 62.85 30.88 'DBL forest / boreal' 350]\n",
      "[142 64.0 -148.0 'ENL forest / boreal' 144]\n",
      "[142 64.0 -148.0 'ENL forest / boreal' 181]\n",
      "[142 64.0 -148.0 'ENL forest / boreal' 210]\n",
      "[143 64.12 19.45 'ENL forest / boreal' 156]\n",
      "[144 64.67 47.5 'ENL forest / boreal' 438]\n",
      "[145 64.75 -148.25 'ENL forest / boreal' 225]\n",
      "[145 64.75 -148.25 'ENL forest / boreal' 371]\n",
      "[145 64.75 -148.25 'ENL forest / boreal' 431]\n",
      "[145 64.75 -148.25 'ENL forest / boreal' 612]\n",
      "[145 64.75 -148.25 'ENL forest / boreal' 669]\n",
      "[145 64.75 -148.25 'ENL forest / boreal' 795]\n",
      "[146 66.37 29.32 'ENL forest / boreal' 368]\n"
     ]
    }
   ],
   "source": [
    "for row in data.to_numpy():\n",
    "    print(row)"
   ]
  },
  {
   "cell_type": "markdown",
   "id": "3df82382",
   "metadata": {},
   "source": [
    "---"
   ]
  },
  {
   "cell_type": "markdown",
   "id": "1a0bf802",
   "metadata": {},
   "source": [
    "## Problem 2.1: Sorting Latitude and Longitude\n",
    "\n",
    "What are the most extreme latitude and longitude values in this dataset for each hemisphere? For instance, in the Northern Hemisphere (latitudes between 0 and 90 deg N), what is the lowest (minimum) and highest (maximum) latitude? You want to find:\n",
    "\n",
    "- North-most latitude in the Northern hemisphere\n",
    "- South-most latitude in the Southern hemisphere\n",
    "- West-most longitude in the Western hemisphere\n",
    "- East-most longitude in the Eastern hemisphere\n",
    "\n",
    "**You should use a `for` loop to do this.**\n",
    "\n",
    "**Hint:**\n",
    "\n",
    "There are `max()` and `min()` functions built into Python..."
   ]
  },
  {
   "cell_type": "code",
   "execution_count": 6,
   "id": "bf0fbf3c",
   "metadata": {},
   "outputs": [
    {
     "data": {
      "text/plain": [
       "9"
      ]
     },
     "execution_count": 6,
     "metadata": {},
     "output_type": "execute_result"
    }
   ],
   "source": [
    "max([1, 3, 5, 9])"
   ]
  },
  {
   "cell_type": "code",
   "execution_count": 7,
   "id": "abfa46f8",
   "metadata": {},
   "outputs": [
    {
     "data": {
      "text/plain": [
       "-1"
      ]
     },
     "execution_count": 7,
     "metadata": {},
     "output_type": "execute_result"
    }
   ],
   "source": [
    "min([1, -1, 2, 12, 0])"
   ]
  },
  {
   "cell_type": "markdown",
   "id": "7eecbdf7-530c-4e64-93ee-47af6bb15340",
   "metadata": {},
   "source": [
    "### Answers 2.1"
   ]
  },
  {
   "cell_type": "markdown",
   "id": "2cf3a10a-9843-43a9-875a-4eb42491fa5b",
   "metadata": {},
   "source": [
    "MANUAL VERSION"
   ]
  },
  {
   "cell_type": "code",
   "execution_count": 8,
   "id": "86f76112-e22b-4bb0-aa60-f1f23640c430",
   "metadata": {},
   "outputs": [
    {
     "name": "stdout",
     "output_type": "stream",
     "text": [
      "The furthest south latitude is -27.75 degrees\n",
      "The furthest north latitude is 66.37 degrees\n",
      "The furthest east longitude is 152.45 degrees\n",
      "The furthest west longitude is -148.25 degrees\n"
     ]
    }
   ],
   "source": [
    "most_south = min(data['LAT_DD'])\n",
    "print(f'The furthest south latitude is {most_south} degrees')\n",
    "\n",
    "most_north = max(data['LAT_DD'])\n",
    "print(f'The furthest north latitude is {most_north} degrees')\n",
    "\n",
    "most_east = max(data['LONG_DD'])\n",
    "print(f'The furthest east longitude is {most_east} degrees')\n",
    "\n",
    "most_west = min(data['LONG_DD'])\n",
    "print(f'The furthest west longitude is {most_west} degrees')"
   ]
  },
  {
   "cell_type": "markdown",
   "id": "4c155cee-8f55-4244-b97f-adc59d3658f2",
   "metadata": {},
   "source": [
    "FOR-LOOP VERSION"
   ]
  },
  {
   "cell_type": "code",
   "execution_count": 13,
   "id": "fd601ece",
   "metadata": {},
   "outputs": [
    {
     "name": "stdout",
     "output_type": "stream",
     "text": [
      "The furthest south latitude is -27.75 degrees\n",
      "The furthest north latitude is 66.37 degrees\n",
      "The furthest east longitude is 152.45 degrees\n",
      "The furthest west longitude is -148.25 degrees\n"
     ]
    }
   ],
   "source": [
    "directions = {'south': min, 'north': max, 'east': max, 'west': min}\n",
    "coordinates = {'south': 'LAT_DD', 'north': 'LAT_DD', 'east': 'LONG_DD', 'west': 'LONG_DD'}\n",
    "\n",
    "for direction, operation in directions.items():\n",
    "    value = operation(data[coordinates[direction]])\n",
    "    print(f\"The furthest {direction} {'latitude' if 'LAT' in coordinates[direction] else 'longitude'} is {value} degrees\")"
   ]
  },
  {
   "cell_type": "markdown",
   "id": "4a273c2d",
   "metadata": {},
   "source": [
    "---"
   ]
  },
  {
   "cell_type": "markdown",
   "id": "b1281d18",
   "metadata": {},
   "source": [
    "## Problem 2.2: What are the Unique Biomes?\n",
    "\n",
    "Write a Python code block that prints the unique biome names in this dataset. If you know a better way, feel free to show multiple ways of doing the same thing. You'll also need to store the unique names as a Python `list` so you can use it later.\n",
    "\n",
    "**You should use a `for` loop to do this.**\n",
    "\n",
    "As an example, here's how we might iterate through the \"BIOMENEW\" values in each row..."
   ]
  },
  {
   "cell_type": "code",
   "execution_count": 8,
   "id": "812e9672",
   "metadata": {},
   "outputs": [
    {
     "name": "stdout",
     "output_type": "stream",
     "text": [
      "grassland / C4 tropical\n",
      "grassland / C4 tropical\n",
      "grassland / C4 tropical\n",
      "grassland / C4 tropical\n",
      "grassland / C4 tropical\n",
      "grassland / C4 tropical\n",
      "grassland / C4 tropical\n",
      "grassland / C3\n",
      "grassland / C3\n",
      "grassland / C4 tropical\n",
      "grassland / C4 tropical\n",
      "grassland / C4 tropical\n",
      "grassland / C4 tropical\n",
      "grassland / C4 tropical\n",
      "grassland / C4 tropical\n",
      "grassland / C4 tropical\n",
      "grassland / C4 tropical\n",
      "grassland / C4 tropical\n",
      "grassland / C4 tropical\n",
      "grassland / C4 tropical\n",
      "grassland / C4 tropical\n",
      "grassland / C4 tropical\n",
      "grassland / C4 tropical\n",
      "grassland / C4 tropical\n",
      "grassland / C4 tropical\n",
      "DBL forest / tropical\n",
      "EBL forest / tropical\n",
      "DBL forest / tropical\n",
      "EBL forest / tropical\n",
      "EBL forest / tropical\n",
      "EBL forest / tropical\n",
      "EBL forest / tropical\n",
      "EBL forest / tropical\n",
      "grassland / C4 tropical\n",
      "EBL forest / tropical\n",
      "EBL forest / tropical\n",
      "EBL forest / tropical\n",
      "EBL forest / tropical\n",
      "EBL forest / tropical\n",
      "EBL forest / tropical\n",
      "grassland / C4 tropical\n",
      "grassland / C4 tropical\n",
      "EBL forest / tropical\n",
      "EBL forest / tropical\n",
      "EBL forest / tropical\n",
      "EBL forest / tropical\n",
      "grassland / C4 tropical\n",
      "grassland / C4 tropical\n",
      "EBL forest / tropical\n",
      "EBL forest / tropical\n",
      "EBL forest / tropical\n",
      "EBL forest / tropical\n",
      "EBL forest / tropical\n",
      "DBL forest / tropical\n",
      "EBL forest / tropical\n",
      "EBL forest / tropical\n",
      "EBL forest / tropical\n",
      "EBL forest / tropical\n",
      "EBL forest / tropical\n",
      "EBL forest / tropical\n",
      "grassland / C4 temperate\n",
      "DBL forest / tropical\n",
      "DBL forest / tropical\n",
      "DBL forest / tropical\n",
      "grassland / C4 tropical\n",
      "grassland / C4 tropical\n",
      "grassland / C4 temperate\n",
      "grassland / C4 temperate\n",
      "DBL forest / temperate\n",
      "DBL forest / temperate\n",
      "DBL forest / temperate\n",
      "DBL forest / temperate\n",
      "DBL forest / temperate\n",
      "DBL forest / temperate\n",
      "grassland / C4 temperate\n",
      "grassland / C4 temperate\n",
      "grassland / C4 temperate\n",
      "grassland / C3\n",
      "ENL forest / temperate\n",
      "ENL forest / temperate\n",
      "ENL forest / temperate\n",
      "ENL forest / temperate\n",
      "ENL forest / temperate\n",
      "ENL forest / temperate\n",
      "grassland / C3\n",
      "grassland / C3\n",
      "grassland / C3\n",
      "ENL forest / boreal\n",
      "ENL forest / boreal\n",
      "DNL forest / boreal\n",
      "DNL forest / boreal\n",
      "DNL forest / boreal\n",
      "ENL forest / boreal\n",
      "grassland / C3\n",
      "DNL forest / boreal\n",
      "grassland / C3\n",
      "grassland / C3\n",
      "grassland / C3\n",
      "DNL forest / boreal\n",
      "DNL forest / boreal\n",
      "ENL forest / boreal\n",
      "ENL forest / boreal\n",
      "ENL forest / boreal\n",
      "DBL forest / boreal\n",
      "ENL forest / boreal\n",
      "ENL forest / boreal\n",
      "ENL forest / boreal\n",
      "DBL forest / boreal\n",
      "ENL forest / boreal\n",
      "ENL forest / boreal\n",
      "ENL forest / boreal\n",
      "ENL forest / boreal\n",
      "ENL forest / boreal\n",
      "ENL forest / boreal\n",
      "ENL forest / boreal\n",
      "ENL forest / boreal\n",
      "ENL forest / boreal\n",
      "ENL forest / boreal\n",
      "ENL forest / boreal\n",
      "ENL forest / boreal\n",
      "ENL forest / boreal\n",
      "ENL forest / boreal\n",
      "ENL forest / boreal\n",
      "ENL forest / boreal\n",
      "ENL forest / boreal\n",
      "DNL forest / boreal\n",
      "DNL forest / boreal\n",
      "DNL forest / boreal\n",
      "ENL forest / boreal\n",
      "ENL forest / boreal\n",
      "ENL forest / boreal\n",
      "ENL forest / boreal\n",
      "ENL forest / boreal\n",
      "ENL forest / boreal\n",
      "ENL forest / boreal\n",
      "ENL forest / boreal\n",
      "ENL forest / boreal\n",
      "ENL forest / boreal\n",
      "ENL forest / boreal\n",
      "ENL forest / boreal\n",
      "ENL forest / boreal\n",
      "ENL forest / boreal\n",
      "ENL forest / boreal\n",
      "ENL forest / boreal\n",
      "ENL forest / boreal\n",
      "ENL forest / boreal\n",
      "DBL forest / boreal\n",
      "DBL forest / boreal\n",
      "DBL forest / boreal\n",
      "DBL forest / boreal\n",
      "ENL forest / boreal\n",
      "ENL forest / boreal\n",
      "ENL forest / boreal\n",
      "ENL forest / boreal\n",
      "ENL forest / boreal\n",
      "ENL forest / boreal\n",
      "ENL forest / boreal\n",
      "ENL forest / boreal\n",
      "ENL forest / boreal\n",
      "ENL forest / boreal\n",
      "ENL forest / boreal\n",
      "ENL forest / boreal\n"
     ]
    }
   ],
   "source": [
    "# Print just the biome type\n",
    "for row in data.to_numpy():\n",
    "    # We can \"unpack\" each element in a row\n",
    "    site_id, latitude, longitude, biome, npp = row\n",
    "    print(biome)"
   ]
  },
  {
   "cell_type": "markdown",
   "id": "a17db746-a66c-4902-8ace-49212d7bd7d6",
   "metadata": {},
   "source": [
    "### Answer 2.2"
   ]
  },
  {
   "cell_type": "markdown",
   "id": "32720b5c-555d-4553-8df7-ed1afe6026bc",
   "metadata": {},
   "source": [
    "PANDAS VERSION"
   ]
  },
  {
   "cell_type": "code",
   "execution_count": 22,
   "id": "77f2d4e0-09be-4941-807e-19cc7cb844db",
   "metadata": {},
   "outputs": [
    {
     "data": {
      "text/plain": [
       "['grassland / C4 tropical',\n",
       " 'grassland / C3',\n",
       " 'DBL forest / tropical',\n",
       " 'EBL forest / tropical',\n",
       " 'grassland / C4 temperate',\n",
       " 'DBL forest / temperate',\n",
       " 'ENL forest / temperate',\n",
       " 'ENL forest / boreal',\n",
       " 'DNL forest / boreal',\n",
       " 'DBL forest / boreal']"
      ]
     },
     "execution_count": 22,
     "metadata": {},
     "output_type": "execute_result"
    }
   ],
   "source": [
    "biome_names = data['BIOMENEW'].unique().tolist()\n",
    "biome_names"
   ]
  },
  {
   "cell_type": "markdown",
   "id": "18e068eb-2745-42d6-a098-66f6f3ff9ccb",
   "metadata": {},
   "source": [
    "NUMPY VERSION"
   ]
  },
  {
   "cell_type": "code",
   "execution_count": 15,
   "id": "b35972b8-dc96-41e9-885b-1ab164381463",
   "metadata": {},
   "outputs": [
    {
     "data": {
      "text/plain": [
       "{'DBL forest / boreal',\n",
       " 'DBL forest / temperate',\n",
       " 'DBL forest / tropical',\n",
       " 'DNL forest / boreal',\n",
       " 'EBL forest / tropical',\n",
       " 'ENL forest / boreal',\n",
       " 'ENL forest / temperate',\n",
       " 'grassland / C3',\n",
       " 'grassland / C4 temperate',\n",
       " 'grassland / C4 tropical'}"
      ]
     },
     "execution_count": 15,
     "metadata": {},
     "output_type": "execute_result"
    }
   ],
   "source": [
    "biome_names2 = set()\n",
    "\n",
    "for row in data.to_numpy():\n",
    "    site_id, latitude, longitude, biome, npp = row\n",
    "    biome_names2.add(biome)\n",
    "\n",
    "biome_names2"
   ]
  },
  {
   "cell_type": "markdown",
   "id": "9e2e80fa",
   "metadata": {},
   "source": [
    "---"
   ]
  },
  {
   "cell_type": "markdown",
   "id": "9a6d80ca",
   "metadata": {},
   "source": [
    "## Problem 2.3: Summarize NPP by Biome\n",
    "\n",
    "Now that you have a list of unique biomes, calculate the mean NPP for each biome. Display the results in some meaningful way. I included a script for plotting the data if you want to use that."
   ]
  },
  {
   "cell_type": "code",
   "execution_count": 29,
   "id": "090042db",
   "metadata": {},
   "outputs": [
    {
     "data": {
      "text/plain": [
       "<BarContainer object of 5 artists>"
      ]
     },
     "execution_count": 29,
     "metadata": {},
     "output_type": "execute_result"
    },
    {
     "data": {
      "image/png": "[encoded data removed]",
      "text/plain": [
       "<Figure size 640x480 with 1 Axes>"
      ]
     },
     "metadata": {},
     "output_type": "display_data"
    }
   ],
   "source": [
    "import numpy as np\n",
    "from matplotlib import pyplot\n",
    "\n",
    "# By now, you'll have a list of the *real* biome names\n",
    "unique_biomes = ['Blue', 'Red', 'Green', 'Fuzzy', 'Prickly']\n",
    "\n",
    "# If you calculated the average NPP by biome and stored it in npp_by_biome...for now, we'll use random values\n",
    "npp_by_biome = np.random.randint(0, 2000, len(unique_biomes))\n",
    "\n",
    "# A horizontal bar plot, assuming you have a list \"unique_biomes\" of the unique biome labels\n",
    "pyplot.barh(unique_biomes, npp_by_biome)"
   ]
  },
  {
   "cell_type": "markdown",
   "id": "b2bcb450-4e40-4691-bf98-5a6620c8d323",
   "metadata": {},
   "source": [
    "### Amnswer 2.3"
   ]
  },
  {
   "cell_type": "markdown",
   "id": "c1ae7bf3-1ff8-4f79-8e6f-d11e17656907",
   "metadata": {},
   "source": [
    "PANDAS VERSION"
   ]
  },
  {
   "cell_type": "code",
   "execution_count": 36,
   "id": "150832fa-6463-4cd0-8d06-89163b7476ff",
   "metadata": {},
   "outputs": [
    {
     "data": {
      "text/plain": [
       "<BarContainer object of 10 artists>"
      ]
     },
     "execution_count": 36,
     "metadata": {},
     "output_type": "execute_result"
    },
    {
     "data": {
      "image/png": "[encoded data removed]",
      "text/plain": [
       "<Figure size 640x480 with 1 Axes>"
      ]
     },
     "metadata": {},
     "output_type": "display_data"
    }
   ],
   "source": [
    "mean_npp_df = data.groupby('BIOMENEW')['TNPP_C'].mean().reset_index()\n",
    "\n",
    "plt.barh(mean_npp_df['BIOMENEW'], mean_npp_df['TNPP_C'])"
   ]
  },
  {
   "cell_type": "markdown",
   "id": "27062b47-bc23-4c7a-899f-f723ea91d052",
   "metadata": {},
   "source": [
    "NUMPY VERSION"
   ]
  },
  {
   "cell_type": "code",
   "execution_count": 20,
   "id": "443b7c15-dfbc-4cde-90d7-a6112965dffe",
   "metadata": {},
   "outputs": [
    {
     "data": {
      "text/plain": [
       "<BarContainer object of 10 artists>"
      ]
     },
     "execution_count": 20,
     "metadata": {},
     "output_type": "execute_result"
    },
    {
     "data": {
      "image/png": "[encoded data removed]",
      "text/plain": [
       "<Figure size 640x480 with 1 Axes>"
      ]
     },
     "metadata": {},
     "output_type": "display_data"
    }
   ],
   "source": [
    "import numpy as np\n",
    "import matplotlib.pyplot as plt\n",
    "\n",
    "data_np = data.to_numpy()\n",
    "\n",
    "mean_npp = []\n",
    "\n",
    "# Iterate over each unique biome\n",
    "for biome in biome_names2:\n",
    "    npp_values = data_np[data_np[:, 3] == biome][:, -1].astype(float)\n",
    "    mean_value = npp_values.mean()\n",
    "    mean_npp.append([biome, mean_value])\n",
    "\n",
    "mean_npp = np.array(mean_npp)\n",
    "\n",
    "# Plot the results\n",
    "biomes = mean_npp[:, 0]\n",
    "mean_values = mean_npp[:, 1].astype(float)  # Convert to float for plotting\n",
    "\n",
    "# Create a horizontal bar plot\n",
    "plt.barh(biomes, mean_values)"
   ]
  },
  {
   "cell_type": "markdown",
   "id": "2adbb14c",
   "metadata": {},
   "source": [
    "---"
   ]
  },
  {
   "cell_type": "markdown",
   "id": "87e72381",
   "metadata": {},
   "source": [
    "## Problem 2.4: Calculating Distances on a Sphere"
   ]
  },
  {
   "cell_type": "markdown",
   "id": "f4c84d1f",
   "metadata": {},
   "source": [
    "Let's revisit the previous challenge in a different way. Can we calculate the distance between latitude and longitude pairs to determine if they are \"close enough\" to be considered the same point?\n",
    "\n",
    "The Haversine function can be used to calculate *great circle distance* (shortest path on a sphere) between two points, but this is a complicated function so we'll just pretend the Earth is flat. For flat distances between two points that are close together, `(x1, y1)` and `(x2, y2)` (`x` and `y` refer to longitude and latitude, respectively), the Euclidean distance function is a good approximation:\n",
    "\n",
    "$$\n",
    "d = \\sqrt{(x_2 - x_1)^2 + (y_2 - y_1)^2}\n",
    "$$\n",
    "\n",
    "**Write the Euclidean distance function as a Python function (your own function, using the `def` keyword) and use it to calculate the distance between the first two rows of the `data` table.**"
   ]
  },
  {
   "cell_type": "code",
   "execution_count": 10,
   "id": "96b50bba",
   "metadata": {},
   "outputs": [
    {
     "data": {
      "text/html": [
       "<div>\n",
       "<style scoped>\n",
       "    .dataframe tbody tr th:only-of-type {\n",
       "        vertical-align: middle;\n",
       "    }\n",
       "\n",
       "    .dataframe tbody tr th {\n",
       "        vertical-align: top;\n",
       "    }\n",
       "\n",
       "    .dataframe thead th {\n",
       "        text-align: right;\n",
       "    }\n",
       "</style>\n",
       "<table border=\"1\" class=\"dataframe\">\n",
       "  <thead>\n",
       "    <tr style=\"text-align: right;\">\n",
       "      <th></th>\n",
       "      <th>SITE_ID</th>\n",
       "      <th>LAT_DD</th>\n",
       "      <th>LONG_DD</th>\n",
       "      <th>BIOMENEW</th>\n",
       "      <th>TNPP_C</th>\n",
       "    </tr>\n",
       "  </thead>\n",
       "  <tbody>\n",
       "    <tr>\n",
       "      <th>0</th>\n",
       "      <td>4</td>\n",
       "      <td>-27.75</td>\n",
       "      <td>152.45</td>\n",
       "      <td>grassland / C4 tropical</td>\n",
       "      <td>264</td>\n",
       "    </tr>\n",
       "    <tr>\n",
       "      <th>1</th>\n",
       "      <td>5</td>\n",
       "      <td>-27.03</td>\n",
       "      <td>152.02</td>\n",
       "      <td>grassland / C4 tropical</td>\n",
       "      <td>175</td>\n",
       "    </tr>\n",
       "  </tbody>\n",
       "</table>\n",
       "</div>"
      ],
      "text/plain": [
       "   SITE_ID  LAT_DD  LONG_DD                 BIOMENEW  TNPP_C\n",
       "0        4  -27.75   152.45  grassland / C4 tropical     264\n",
       "1        5  -27.03   152.02  grassland / C4 tropical     175"
      ]
     },
     "execution_count": 10,
     "metadata": {},
     "output_type": "execute_result"
    }
   ],
   "source": [
    "data[0:2]"
   ]
  },
  {
   "cell_type": "markdown",
   "id": "423f7c2f",
   "metadata": {},
   "source": [
    "**Hint:** You can calculate square roots one of two ways.\n",
    "\n",
    "You could raise a number to the power `(1/2)`:"
   ]
  },
  {
   "cell_type": "code",
   "execution_count": 11,
   "id": "30dda6ba",
   "metadata": {},
   "outputs": [
    {
     "data": {
      "text/plain": [
       "2.0"
      ]
     },
     "execution_count": 11,
     "metadata": {},
     "output_type": "execute_result"
    }
   ],
   "source": [
    "4 ** 0.5"
   ]
  },
  {
   "cell_type": "markdown",
   "id": "09a0ce34",
   "metadata": {},
   "source": [
    "Or, you could:"
   ]
  },
  {
   "cell_type": "code",
   "execution_count": 37,
   "id": "878cb0b5",
   "metadata": {},
   "outputs": [
    {
     "data": {
      "text/plain": [
       "2.0"
      ]
     },
     "execution_count": 37,
     "metadata": {},
     "output_type": "execute_result"
    }
   ],
   "source": [
    "from math import sqrt\n",
    "sqrt(4)"
   ]
  },
  {
   "cell_type": "markdown",
   "id": "8927390d-027d-4ae4-ae01-1d186d467da4",
   "metadata": {},
   "source": [
    "### Answer 2.4"
   ]
  },
  {
   "cell_type": "code",
   "execution_count": 38,
   "id": "eef85d57-19ae-4cef-81d0-6bbb2080566e",
   "metadata": {},
   "outputs": [],
   "source": [
    "def calc_dist(x1, x2, y1, y2):\n",
    "    distance = sqrt(pow((x2 - x1), 2) + pow((y2 - y1), 2))\n",
    "    return round(distance, 2)"
   ]
  },
  {
   "cell_type": "code",
   "execution_count": 41,
   "id": "40bd22d8-84e5-49e2-a0e5-e99fade313a9",
   "metadata": {},
   "outputs": [
    {
     "data": {
      "text/plain": [
       "0.84"
      ]
     },
     "execution_count": 41,
     "metadata": {},
     "output_type": "execute_result"
    }
   ],
   "source": [
    "first2 = data[0:2]\n",
    "\n",
    "x1 = first2.iloc[0, 2]\n",
    "x2 = first2.iloc[1, 2]\n",
    "y1 = first2.iloc[0, 1]\n",
    "y2 = first2.iloc[1, 1]\n",
    "\n",
    "calc_dist(x1, x2, y1, y2)"
   ]
  },
  {
   "cell_type": "markdown",
   "id": "7e25b322",
   "metadata": {},
   "source": [
    "---"
   ]
  },
  {
   "cell_type": "markdown",
   "id": "f2441f0c",
   "metadata": {},
   "source": [
    "## Challenge Yourself (Optional):\n",
    "\n",
    "If you want to take these examples further, consider:\n",
    "\n",
    "- Is there a relationship between mean annual temperature (`TEMP_ANN`) or mean annual precipitation (`PREC_ANN`) and total NPP?\n",
    "- How many records of each biome type are in each country? That is, can you do a *cross-tabulation* of countries and biome types?\n",
    "\n",
    "These are NOT eligible for extra credit, but feel free to include them in your submitted lab report."
   ]
  }
 ],
 "metadata": {
  "kernelspec": {
   "display_name": "Python 3 (ipykernel)",
   "language": "python",
   "name": "python3"
  },
  "language_info": {
   "codemirror_mode": {
    "name": "ipython",
    "version": 3
   },
   "file_extension": ".py",
   "mimetype": "text/x-python",
   "name": "python",
   "nbconvert_exporter": "python",
   "pygments_lexer": "ipython3",
   "version": "3.11.3"
  }
 },
 "nbformat": 4,
 "nbformat_minor": 5
}
