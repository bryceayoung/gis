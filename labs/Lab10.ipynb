{
 "cells": [
  {
   "cell_type": "markdown",
   "id": "eaae0dba",
   "metadata": {},
   "source": [
    "# Lab \\#10 (Week 12)\n",
    "\n",
    "*April 3, 2024*"
   ]
  },
  {
   "cell_type": "markdown",
   "id": "a2c9178d",
   "metadata": {},
   "source": [
    "## Introduction\n",
    "\n",
    "In today's lab, we'll be using data from the U.S. Census Bureau on housing, income, and migration. I've prepared county-level data and data on \"Census Places\" (towns, cities, and other developed areas) from two surveys:\n",
    "\n",
    "- The American Community Survey (ACS) 5-year summary for 2017\n",
    "- The American Community Survey (ACS) 5-year summary for 2021\n",
    "\n",
    "The ACS is conducted more frequently than the decennial census, allowing for more frequent studies of how communities are changing. However, they are less accurate than the decennial census because they use only a small sample from each enumeration area.\n",
    "\n",
    "**Some other things you should consider when interpreting these data:**\n",
    "\n",
    "- The 5-year ACS is an average of small samples over a 5-year period, centered on the report year: the \"2017\" ACS includes data from 2015-2019 and the \"2021\" ACS includes data from 2019-2023.\n",
    "- The Place-based estimates aggregate over potentially large areas; for example, there is a single median home sale price for all of Missoula.\n",
    "\n",
    "**For these reasons, when comparing ACS estimates over time, we tend to get results that underestimate the magnitude of change** (essentially, the data are smoothed). If we were really interested in studying change over multiple cities, we should use decennial Census data. If we were interested in studying change in a specific place (like Missoula), we should probably use finer-scale data, like data at the level of Census tracts or block groups.\n",
    "\n",
    "### Data Dictionary\n",
    "\n",
    "**The `df.housing` data frame** includes the following fields:\n",
    "\n",
    "- `name` - Name of the city/ Census Place\n",
    "- `year` - Year of the survey, either `\"Y2017\"` or `\"Y2021\"`\n",
    "- `housing.units` - Total number of housing units (of any kind)\n",
    "- `housing.units.occupied` - Number of housing units occupied (part of `housing.units` total)\n",
    "- `housing.units.owner.occ` - Number of housing units that are owner-occupied (part of `housing.units.occupied` total)\n",
    "- `housing.units.renter.occ` - Number of housing units that are renter-occupied (part of `housing.units.occupied` total)\n",
    "- `median.year.built` - Across all housing units, the median year of construction\n",
    "- `median.value.2021.USD` - The median home sale value (in 2021 dollars)\n",
    "- `median.gross.rent.2021.USD` - The median gross rent value (in 2021 dollars)\n",
    "- `median.gross.rent.as.pct` - Across all reported gross rents as percentages of the respective household income, the median value (in 2021 dollars)\n",
    "- `vacant.units` - Total number of vacant housing units\n",
    "- `vacant.units.for.rent` - Total number of vacant housing units listed for rent (part of `vacant.units` total)\n",
    "- `vacant.units.for.sale` - Total number of vacant housing units listed for sale (part of `vacant.units` total)\n",
    "- `housing.single` - Number of single-family housing units (part of `housing.units` total)\n",
    "- `housing.duplex` - Number of duplexes (part of `housing.units` total)\n",
    "- `housing.triplex.fourplex` - Number of triplexes and fourplexes (part of `housing.units` total)\n",
    "- `housing.mobile.home` - Number of mobile homes (part of `housing.units` total)\n",
    "- `housing.multifamily` - Number of multi-family housing units (i.e., apartment complexes, part of `housing.units` total)\n",
    "\n",
    "**And in the `df.income` data frame,** in addition to the `name` and `year` columns that are the same:\n",
    "\n",
    "- `pop.total` - Total population\n",
    "- `households` - Total number of households\n",
    "- `median.household.income.2021.USD` - Median household income, adjusted to 2021 dollars\n",
    "- `median.renter.household.income.2021.USD` - Median household income among renter households (in 2021 dollars)\n",
    "- `median.owner.household.income.2021.USD` - Median household income among non-renter households (in 2021 dollars)\n",
    "\n",
    "**And in the `df.migration` data frame:**\n",
    "\n",
    "- `state.code` - Two letter U.S. state code, [see reference](https://en.wikipedia.org/wiki/List_of_U.S._state_and_territory_abbreviations#ANSI_standard_INCITS_38:2009)\n",
    "- `county.current` - Current county of residence (within state indicated by `state.code`)\n",
    "- `total.asked` - Total number of people 1 year or older\n",
    "- `total.same.house` - Total number of people who were in the same house 1 year ago\n",
    "- `total.moved.within.county` - Total number of people who moved within the same county, within last year\n",
    "- `total.moved.within.state` - Total number of people who moved within the same state, within last year\n",
    "- `total.moved.from.other.state` - Total number of people who moved from another state, within last year\n",
    "- `total.moved.from.abroad` - Total number of people who moved from abroad, within last year\n",
    "\n",
    "### Terminology\n",
    "\n",
    "**\"Gross rent\"** refers to the combined cost of rent and utilities.\n",
    "\n",
    "When a household is paying 30% or more of its income toward (gross) rent, we would describe that household as **rent-burdened.** Rent-burdened households may have difficulty paying for food, health care, or other important things, because so much of their income is being spent on housing.\n",
    "\n",
    "### Loading the Data"
   ]
  },
  {
   "cell_type": "code",
   "execution_count": 1,
   "id": "65507a96",
   "metadata": {
    "collapsed": true,
    "jupyter": {
     "outputs_hidden": true
    },
    "scrolled": true
   },
   "outputs": [
    {
     "ename": "SyntaxError",
     "evalue": "expression cannot contain assignment, perhaps you meant \"==\"? (2503085463.py, line 1)",
     "output_type": "error",
     "traceback": [
      "\u001b[1;36m  Cell \u001b[1;32mIn[1], line 1\u001b[1;36m\u001b[0m\n\u001b[1;33m    library(dplyr, warn.conflicts = F)\u001b[0m\n\u001b[1;37m                   ^\u001b[0m\n\u001b[1;31mSyntaxError\u001b[0m\u001b[1;31m:\u001b[0m expression cannot contain assignment, perhaps you meant \"==\"?\n"
     ]
    }
   ],
   "source": [
    "library(dplyr, warn.conflicts = F)\n",
    "library(stringr)\n",
    "\n",
    "df.housing <- read.csv('http://files.ntsg.umt.edu/data/GIS_Programming/data/Census_ACS_Montana_housing_2017-2021_in_2021_dollars.csv') %>%\n",
    "  mutate(year = sprintf('Y%d', year))\n",
    "df.income <- read.csv('http://files.ntsg.umt.edu/data/GIS_Programming/data/Census_ACS_Montana_income_2017-2021_in_2021_dollars.csv') %>%\n",
    "  mutate(year = sprintf('Y%d', year))\n",
    "df.migration <- read.csv('http://files.ntsg.umt.edu/data/GIS_Programming/data/Census_ACS_Montana_migration_2021.csv')"
   ]
  },
  {
   "cell_type": "markdown",
   "id": "47de3124",
   "metadata": {},
   "source": [
    "---\n",
    "\n",
    "## Problem 10.1 - Median Gross Rent in Missoula in 2021?\n",
    "\n",
    "Write a `dplyr` pipeline that returns a single data frame row to answer the question: What was the median gross rent in Missoula in 2021?\n",
    "\n",
    "- The result should have only three columns: the name of the City, the year, and the median gross rent (in 2021 USD).\n",
    "\n",
    "**Hint:** You're going to have to figure out what is Missoula's exact name in this table. In Python, we could search for sub-strings using something like:\n",
    "\n",
    "```python\n",
    "\"Missoula\" in name\n",
    "```\n",
    "\n",
    "Unfortunately, we can't do that with R. Instead, we need to use the `str_detect()` function from the `stringr` library. The first argument is a string we want to search and the second argument is the sub-string we want to find."
   ]
  },
  {
   "cell_type": "code",
   "execution_count": 2,
   "id": "aa33738f",
   "metadata": {},
   "outputs": [
    {
     "data": {
      "text/html": [
       "TRUE"
      ],
      "text/latex": [
       "TRUE"
      ],
      "text/markdown": [
       "TRUE"
      ],
      "text/plain": [
       "[1] TRUE"
      ]
     },
     "metadata": {},
     "output_type": "display_data"
    }
   ],
   "source": [
    "library(stringr)\n",
    "\n",
    "str_detect('Miss-oo-lala', 'Miss')"
   ]
  },
  {
   "cell_type": "code",
   "execution_count": 3,
   "id": "2faa2760",
   "metadata": {},
   "outputs": [
    {
     "data": {
      "text/html": [
       "FALSE"
      ],
      "text/latex": [
       "FALSE"
      ],
      "text/markdown": [
       "FALSE"
      ],
      "text/plain": [
       "[1] FALSE"
      ]
     },
     "metadata": {},
     "output_type": "display_data"
    }
   ],
   "source": [
    "str_detect('Miss-oo-lala', 'oops')"
   ]
  },
  {
   "cell_type": "markdown",
   "id": "4e41e83f",
   "metadata": {},
   "source": [
    "---\n",
    "\n",
    "## Problem 10.2 - Occupancy Rates\n",
    "\n",
    "Write a `dplyr` pipeline that computes the owner-occupancy and rental vacancy rates in Missoula.\n",
    "\n",
    "- The owner-occupancy rate is the number of owner-occupied housing units as a percentage (%) of the total number of housing units.\n",
    "- The rental vacancy rate is the number of vacant rental units as a percentage (%) of the total number of housing units.\n",
    "\n",
    "*Your output table should show (only) the* `name`, `year`, *and these two rates.*"
   ]
  },
  {
   "cell_type": "markdown",
   "id": "781cda2b",
   "metadata": {},
   "source": [
    "---\n",
    "\n",
    "## Problem 10.3 - Fastest Growth in Housing Prices\n",
    "\n",
    "Where did housing prices increase the most, in Montana, between 2017 and 2021? Write a `dplyr` pipeline to answer this question.\n",
    "\n",
    "1. First, remove any Places that have `\"CDP\"` in their name. These \"Census Designated Places\" are not incorporated towns or cities, so they're hard to study.\n",
    "2. Calculate change in housing prices as a percentage (I have a written a function for you to do this):\n",
    "$$\n",
    "\\Delta\\text{Price}_{\\%} = 100\\times\\frac{\\text{Price}_{2021} - \\text{Price}_{2017}}{\\text{Price}_{2017}}\n",
    "$$\n",
    "3. Order the rows of the output data frame from largest change to smallest.\n",
    "4. You should have only one row per Census Place (town or city).\n",
    "\n",
    "**I have written a percent-change function for you, below.** (You can use any R expression, including calling a function on a column, within a `mutate()` step.) **This function will only work if the rows of your data frame are ordered by `year`!**"
   ]
  },
  {
   "cell_type": "code",
   "execution_count": 7,
   "id": "3dd07c7d-c759-44de-b9c8-e9ac7fe0d417",
   "metadata": {},
   "outputs": [],
   "source": [
    "pct.change <- function (values) {\n",
    "  # Subtract the second year (2021) from the first year (2017), divide by first year's value\n",
    "  100 * ((values[2] - values[1]) / values[1])\n",
    "}"
   ]
  },
  {
   "cell_type": "markdown",
   "id": "29e6690d",
   "metadata": {},
   "source": [
    "---\n",
    "\n",
    "## Problem 10.4 - Direction of Change\n",
    "\n",
    "**Starting from the solution to the previous problem,** count how many Census Places experienced an increase in housing prices and how many experienced a decrease.\n",
    "\n",
    "**Hint:** You can use `if_else()` within a `mutate()` step to convert a numeric column to a categorical column. For example:"
   ]
  },
  {
   "cell_type": "code",
   "execution_count": 9,
   "id": "95d24a3a",
   "metadata": {},
   "outputs": [
    {
     "data": {
      "text/html": [
       "<table class=\"dataframe\">\n",
       "<caption>A tibble: 3 × 2</caption>\n",
       "<thead>\n",
       "\t<tr><th scope=col>Category</th><th scope=col>n</th></tr>\n",
       "\t<tr><th scope=col>&lt;chr&gt;</th><th scope=col>&lt;int&gt;</th></tr>\n",
       "</thead>\n",
       "<tbody>\n",
       "\t<tr><td>Burdened    </td><td>114</td></tr>\n",
       "\t<tr><td>Not Burdened</td><td>348</td></tr>\n",
       "\t<tr><td>NA          </td><td>246</td></tr>\n",
       "</tbody>\n",
       "</table>\n"
      ],
      "text/latex": [
       "A tibble: 3 × 2\n",
       "\\begin{tabular}{ll}\n",
       " Category & n\\\\\n",
       " <chr> & <int>\\\\\n",
       "\\hline\n",
       "\t Burdened     & 114\\\\\n",
       "\t Not Burdened & 348\\\\\n",
       "\t NA           & 246\\\\\n",
       "\\end{tabular}\n"
      ],
      "text/markdown": [
       "\n",
       "A tibble: 3 × 2\n",
       "\n",
       "| Category &lt;chr&gt; | n &lt;int&gt; |\n",
       "|---|---|\n",
       "| Burdened     | 114 |\n",
       "| Not Burdened | 348 |\n",
       "| NA           | 246 |\n",
       "\n"
      ],
      "text/plain": [
       "  Category     n  \n",
       "1 Burdened     114\n",
       "2 Not Burdened 348\n",
       "3 NA           246"
      ]
     },
     "metadata": {},
     "output_type": "display_data"
    }
   ],
   "source": [
    "df.housing %>%\n",
    "  select(name, median.gross.rent.as.pct) %>%\n",
    "  mutate(Category = if_else(median.gross.rent.as.pct > 30, 'Burdened', 'Not Burdened')) %>%\n",
    "  group_by(Category) %>%\n",
    "  tally()"
   ]
  },
  {
   "cell_type": "markdown",
   "id": "c5301873-6961-4940-800b-afaf69cb8670",
   "metadata": {},
   "source": [
    "--- \n",
    "\n",
    "## Problem 10.5 - New Arrivals\n",
    "\n",
    "1. **What are the top 6 states with the greatest number of new arrivals (people moving from out of the state or from abroad)?**\n",
    "2. **What about the top 6 states with the greatest percentage of its population having recently arrived from out of state or abroad?**\n",
    "\n",
    "Write a `dplyr` pipeline to answer *each* of these questions. Consider:\n",
    "\n",
    "- The `head()` function will show the first 6 rows of a data frame.\n",
    "- Only functions that aggregate values (i.e., generate exactly one value for multiple input values) should be used in a `summarize()` step! \n",
    "- Your pipeline should not generate any Warnings (this can happen if you use `summarize()` in the wrong way).\n",
    "- Question 2 builds on Question 1!"
   ]
  },
  {
   "cell_type": "markdown",
   "id": "58e6d516",
   "metadata": {},
   "source": [
    "---\n",
    "\n",
    "## Extra Challenges\n",
    "\n",
    "- Based on the solution to Problem 10.4... **Did median gross rent or the median household income of renters change faster over this period?** If rent increased faster than the income of renters, then renters will be paying a greater share of their income towards rent in 2021 than they did in 2017. This means there will be an increase in the share of households that are rent-burdened. Conversely, if income increased faster than rent, then there may be fewer households that are rent-burdened.\n",
    "\n",
    "- Based on the solution to Problem 10.4... You can also calculate whether or not the median household is rent-burdened; i.e., if median (annual) gross rent is divided by median (annual) income, you obtain the portion of income that is spent on rent. Remember that `median.gross.rent.2021.USD` is a monthly quantity but `median.renter.household.income.2021.USD` is an annual quantity!\n",
    "  \n",
    "- In how many Census Places in Montana are at least half of the renters experiencing rent burden as of 2021?"
   ]
  }
 ],
 "metadata": {
  "kernelspec": {
   "display_name": "Python 3 (ipykernel)",
   "language": "python",
   "name": "python3"
  },
  "language_info": {
   "codemirror_mode": {
    "name": "ipython",
    "version": 3
   },
   "file_extension": ".py",
   "mimetype": "text/x-python",
   "name": "python",
   "nbconvert_exporter": "python",
   "pygments_lexer": "ipython3",
   "version": "3.9.18"
  }
 },
 "nbformat": 4,
 "nbformat_minor": 5
}
