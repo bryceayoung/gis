{
 "cells": [
  {
   "cell_type": "markdown",
   "id": "fc35f0a6-7859-486a-967f-a81a0bb6f815",
   "metadata": {},
   "source": [
    "# Week 5, Lab \\#4\n",
    "\n",
    "*February 14, 2024*\n",
    "\n",
    "```sh\n",
    "# Possibly required\n",
    "pip install requests numpy\n",
    "```\n",
    "\n",
    "In today's lab, we'll practice working with NumPy arrays using two different climate datasets:\n",
    "\n",
    "- [A record of ice break-up on the Nenana River in Alaska.](https://nsidc.org/data/nsidc-0064/versions/2)\n",
    "- [Soil temperatures from the Montana AgriMet station in Corvallis, Montana.](https://mesonet.climate.umt.edu/dash/)"
   ]
  },
  {
   "cell_type": "markdown",
   "id": "ec46c2e5-4880-4a5c-8017-b981677dad0a",
   "metadata": {},
   "source": [
    "## Lab 4, Part 1: Nenana Ice Classic\n",
    "\n",
    "Every year, Alaska residents compete to guess when the ice in the Nenana River in central Alaska will break up, enabling navigation of this historically important waterway. [Participants bet the exact minute when the ice will break up](https://www.nenanaakiceclassic.com/) and the a correct guess can net winners tens or hundreds of thousands of dollars!\n",
    "\n",
    "Below is some Python code I provided to prepare the data for you: **a NumPy array with 105 rows, one for each (contest) year. The two columns represent the Julian date of the year and the hour when the ice broke up, respectively.**"
   ]
  },
  {
   "cell_type": "code",
   "execution_count": 1,
   "id": "2ab02b55-db03-4353-9bb0-9ce249278092",
   "metadata": {},
   "outputs": [],
   "source": [
    "import requests\n",
    "import numpy as np\n",
    "\n",
    "content = requests.get('http://files.ntsg.umt.edu/data/GIS_Programming/data/NenanaIceClassic_1917-2021_105x2_JDate+Hour.flt32')\n",
    "data = np.frombuffer(content.content, dtype = np.float32)\\\n",
    "    .reshape((105, 2))"
   ]
  },
  {
   "cell_type": "markdown",
   "id": "0fab6104-ce80-4094-baab-d9d4c879d110",
   "metadata": {},
   "source": [
    "For example:\n",
    "\n",
    "- A Julian date of 120.4 means the ice broke up on the 120th day of the year at the hour `0.4 * 24 = 9.6` (9:36 AM local time).\n",
    "\n",
    "[**This table will help you convert between calendar days (Month, Day) and Julian days.**](https://landweb.modaps.eosdis.nasa.gov/browse/calendar.html)\n",
    "\n",
    "If you're trying to get the integer part of a number, remember that you can use `int()` without worrying about rounding:"
   ]
  },
  {
   "cell_type": "code",
   "execution_count": 2,
   "id": "f1b682ff-c6f5-4da2-a259-671ac58ed3ad",
   "metadata": {},
   "outputs": [
    {
     "data": {
      "text/plain": [
       "120"
      ]
     },
     "execution_count": 2,
     "metadata": {},
     "output_type": "execute_result"
    }
   ],
   "source": [
    "int(120.99)"
   ]
  },
  {
   "cell_type": "markdown",
   "id": "75494d09-a912-4848-9dc0-66281b8209f8",
   "metadata": {},
   "source": [
    "---\n",
    "\n",
    "## Problem 4.1: Average Break-Up Date"
   ]
  },
  {
   "cell_type": "markdown",
   "id": "4beccfad-2f6e-4d7c-99ea-1698d581375a",
   "metadata": {},
   "source": [
    "With no other information available to us, the mean Julian date of break-up might be the best prediction for this year's break-up.\n",
    "\n",
    "Write Python code that determines:\n",
    "\n",
    "- The earliest (Julian) day of break-up\n",
    "- The latest (Julian) day of break-up\n",
    "- The mean (Julian) day of break-up\n",
    "\n",
    "For each of these, your Python code should **print a single numeric value,** *not* an array of more than one value; i.e., you may need to index an array to get a single value."
   ]
  },
  {
   "cell_type": "code",
   "execution_count": 2,
   "id": "a6d24054-ed20-4c93-9e91-f4a078d6fa06",
   "metadata": {},
   "outputs": [
    {
     "data": {
      "text/plain": [
       "array([[120.4792,  11.    ],\n",
       "       [131.3979,   9.    ],\n",
       "       [123.6063,  14.    ],\n",
       "       [132.4486,  10.    ],\n",
       "       [131.2792,   6.    ]], dtype=float32)"
      ]
     },
     "execution_count": 2,
     "metadata": {},
     "output_type": "execute_result"
    }
   ],
   "source": [
    "data[0:5]"
   ]
  },
  {
   "cell_type": "code",
   "execution_count": 8,
   "id": "55c115ae-f6a3-46dd-a4f0-8b320e675e5a",
   "metadata": {},
   "outputs": [],
   "source": [
    "earliest = np.min(data[:,0])\n",
    "latest = np.max(data[:,0])\n",
    "average = np.mean(data[:,0])"
   ]
  },
  {
   "cell_type": "code",
   "execution_count": 9,
   "id": "da2bc078-b3c6-4d1d-b85d-54940636c9b6",
   "metadata": {},
   "outputs": [
    {
     "name": "stdout",
     "output_type": "stream",
     "text": [
      "Earliest day: 104\n",
      "Latest day: 141\n",
      "Average day: 124\n"
     ]
    }
   ],
   "source": [
    "print(f'Earliest day: {int(earliest)}')\n",
    "print(f'Latest day: {int(latest)}')\n",
    "print(f'Average day: {int(average)}')"
   ]
  },
  {
   "cell_type": "markdown",
   "id": "073f44e9",
   "metadata": {},
   "source": [
    "---\n",
    "\n",
    "## Problem 4.2: Early Break-Up\n",
    "\n",
    "**In which years did the Nenana break-up occur before May 1?** Write Python code to answer this question. \n",
    "\n",
    "May 1 is the 121st day of the year, at the earliest (depending on whether or not it is a leap year), but *let's pretend that every year is a standard (non-leap) year.* **Recall that the years in this dataset range from 1917 to 2021, inclusive.**\n",
    "\n",
    "**Hint:** There are multiple ways to solve this problem and they might involve functions like `np.arange()` or `np.argwhere()`, if you're looking for a place to start."
   ]
  },
  {
   "cell_type": "code",
   "execution_count": 7,
   "id": "7553b060-895d-49f5-a039-74171bf877f9",
   "metadata": {},
   "outputs": [
    {
     "data": {
      "text/plain": [
       "array([[1917],\n",
       "       [1926],\n",
       "       [1934],\n",
       "       [1939],\n",
       "       [1940],\n",
       "       [1942],\n",
       "       [1943],\n",
       "       [1951],\n",
       "       [1953],\n",
       "       [1958],\n",
       "       [1969],\n",
       "       [1978],\n",
       "       [1979],\n",
       "       [1980],\n",
       "       [1981],\n",
       "       [1983],\n",
       "       [1988],\n",
       "       [1990],\n",
       "       [1993],\n",
       "       [1994],\n",
       "       [1995],\n",
       "       [1997],\n",
       "       [1998],\n",
       "       [1999],\n",
       "       [2003],\n",
       "       [2004],\n",
       "       [2005],\n",
       "       [2007],\n",
       "       [2010],\n",
       "       [2012],\n",
       "       [2014],\n",
       "       [2015],\n",
       "       [2016],\n",
       "       [2019],\n",
       "       [2020],\n",
       "       [2021]], dtype=int64)"
      ]
     },
     "execution_count": 7,
     "metadata": {},
     "output_type": "execute_result"
    }
   ],
   "source": [
    "early = np.argwhere(data[:,0] < 121)\n",
    "early + 1917"
   ]
  },
  {
   "cell_type": "markdown",
   "id": "8f27969e",
   "metadata": {},
   "source": [
    "---\n",
    "\n",
    "## Problem 4.3: Hour of Break-up\n",
    "\n",
    "Using either:\n",
    "\n",
    "- A `for` loop, or\n",
    "- A Python function\n",
    "\n",
    "**Write Python code that determines the most common hour of break-up.** There may be two or more hours tied for the most common! Be sure to note whether or not this is the case."
   ]
  },
  {
   "cell_type": "code",
   "execution_count": 33,
   "id": "7f3fd7c8-d558-4b33-8c79-deb3d9a65367",
   "metadata": {},
   "outputs": [],
   "source": [
    "# Count occurrences of unique values in data[:,1]\n",
    "unique_values, counts = np.unique(data[:,1], return_counts = True)"
   ]
  },
  {
   "cell_type": "code",
   "execution_count": 18,
   "id": "cfa184c0-bf11-484e-973b-29c69a9a7e35",
   "metadata": {},
   "outputs": [
    {
     "data": {
      "text/plain": [
       "array([ 1,  1,  1,  1,  2,  7,  6,  8, 11, 10,  9, 11,  6,  6,  7,  6,  4,\n",
       "        3,  2,  3], dtype=int64)"
      ]
     },
     "execution_count": 18,
     "metadata": {},
     "output_type": "execute_result"
    }
   ],
   "source": [
    "counts"
   ]
  },
  {
   "cell_type": "code",
   "execution_count": 19,
   "id": "aa2af038-c10e-4e6c-ab37-baaedcb7004d",
   "metadata": {},
   "outputs": [
    {
     "data": {
      "text/plain": [
       "array([ 0.,  1.,  2.,  5.,  6.,  9., 10., 11., 12., 13., 14., 15., 16.,\n",
       "       17., 18., 19., 20., 21., 22., 23.], dtype=float32)"
      ]
     },
     "execution_count": 19,
     "metadata": {},
     "output_type": "execute_result"
    }
   ],
   "source": [
    "unique_values"
   ]
  },
  {
   "cell_type": "code",
   "execution_count": 38,
   "id": "a86b5b8d-92f6-413d-b0e5-748159d7bc15",
   "metadata": {},
   "outputs": [
    {
     "data": {
      "text/plain": [
       "array([[ 8],\n",
       "       [11]], dtype=int64)"
      ]
     },
     "execution_count": 38,
     "metadata": {},
     "output_type": "execute_result"
    }
   ],
   "source": [
    "np.argwhere(counts == np.max(counts))"
   ]
  },
  {
   "cell_type": "code",
   "execution_count": 34,
   "id": "097a1122-6944-4645-a685-6adc06610d4a",
   "metadata": {},
   "outputs": [
    {
     "name": "stdout",
     "output_type": "stream",
     "text": [
      "at the 12th and 15th hours, ice melted 11 times\n"
     ]
    }
   ],
   "source": [
    "print(f\"at the {int(unique_values[8])}th and {int(unique_values[11])}th hours, ice melted {np.max(counts)} times\")"
   ]
  },
  {
   "cell_type": "markdown",
   "id": "d17755fd",
   "metadata": {},
   "source": [
    "---\n",
    "\n",
    "## Lab 4, Part 2: Corvallis Soil Temperatures\n",
    "\n",
    "In this next section, we'll use data on soil temperatures from the AgriMet station in Corvallis, MT.\n",
    "\n",
    "The `temps` array, below, contains soil temperatures for each of 4 soil layers (depths below) from 2017-01-01 through 2022-12-31.\n",
    "\n",
    "- 10 cm depth\n",
    "- 20 cm depth\n",
    "- 50 cm depth\n",
    "- 90 cm depth\n",
    "\n",
    "*Note:* I have modified this time series so that there is no February 29 in 2022; i.e., there are no leap years in these data."
   ]
  },
  {
   "cell_type": "code",
   "execution_count": 4,
   "id": "4ae8f9d0",
   "metadata": {},
   "outputs": [
    {
     "data": {
      "text/plain": [
       "(2190, 4)"
      ]
     },
     "execution_count": 4,
     "metadata": {},
     "output_type": "execute_result"
    }
   ],
   "source": [
    "import requests\n",
    "content = requests.get('http://files.ntsg.umt.edu/data/GIS_Programming/data/MT_AgriMet_soil_temps_Corvallis_20170101-20221231_2190x4.float32')\n",
    "temps = np.frombuffer(content.content, dtype = np.float32)\\\n",
    "    .reshape((2190, 4))\n",
    "\n",
    "temps.shape"
   ]
  },
  {
   "cell_type": "code",
   "execution_count": 39,
   "id": "b285db44-53a4-430e-9bdf-c7d6cca97e06",
   "metadata": {},
   "outputs": [
    {
     "data": {
      "text/plain": [
       "array([[29.716, 32.117, 34.641, 39.92 ],\n",
       "       [29.529, 32.   , 34.509, 39.852],\n",
       "       [29.075, 31.865, 34.333, 39.74 ],\n",
       "       [27.981, 31.591, 34.167, 39.684],\n",
       "       [26.011, 31.014, 34.077, 39.56 ]], dtype=float32)"
      ]
     },
     "execution_count": 39,
     "metadata": {},
     "output_type": "execute_result"
    }
   ],
   "source": [
    "temps[0:5]"
   ]
  },
  {
   "cell_type": "markdown",
   "id": "91fe4205",
   "metadata": {},
   "source": [
    "## Problem 4.4: Soil Temperature Profile\n",
    "\n",
    "Write Python code to calculate the range (maximum minus minimum) in soil temperatures for each depth."
   ]
  },
  {
   "cell_type": "code",
   "execution_count": 5,
   "id": "79e9982e-8ca4-460e-a823-6f29cbf4efc1",
   "metadata": {},
   "outputs": [
    {
     "data": {
      "text/plain": [
       "[array([76.968   , 56.876   , 45.117   , 36.488003], dtype=float32)]"
      ]
     },
     "execution_count": 5,
     "metadata": {},
     "output_type": "execute_result"
    }
   ],
   "source": [
    "ranges = []\n",
    "\n",
    "max = np.nanmax(temps, axis = 0)\n",
    "min = np.nanmin(temps, axis = 0)\n",
    "range = max - min\n",
    "\n",
    "ranges.append(range)\n",
    "ranges"
   ]
  },
  {
   "cell_type": "markdown",
   "id": "6501e6df",
   "metadata": {},
   "source": [
    "---\n",
    "\n",
    "## Problem 4.5: Soil Temperature Climatology\n",
    "\n",
    "A **climatology** is a climate record that records the average conditions on each date, month, or year for a certain length of time. For example, a monthly air temperature climatology would consist of 12 values: the mean monthly air temperature in each month.\n",
    "\n",
    "**Write Python code to compute a 365-day soil temperature climatology for each soil layer.** That is, there should be an average soil temperature value, for each soil layer, for each day of a 365-day year.\n",
    "\n",
    "**Hint:** The easiest way to do this would be to reshape the `temps` array *so that you can calculate the average along a certain axis.* Assume there are 365 days in each year in this (6-year) record."
   ]
  },
  {
   "cell_type": "code",
   "execution_count": 6,
   "id": "2b3a0218-f155-4153-a26e-15de527f5935",
   "metadata": {},
   "outputs": [],
   "source": [
    "temps2 = temps.reshape((6, 365, 4))"
   ]
  },
  {
   "cell_type": "code",
   "execution_count": 7,
   "id": "a0bbfc74-5ad4-47b4-8223-805f34c4bc43",
   "metadata": {},
   "outputs": [
    {
     "data": {
      "text/plain": [
       "array([[51.777725, 51.450325, 51.208237, 51.660248],\n",
       "       [51.018322, 50.508167, 50.52443 , 51.298485],\n",
       "       [50.10955 , 49.1798  , 49.171238, 49.99211 ],\n",
       "       [52.005074, 50.932476, 50.87868 , 51.327137],\n",
       "       [48.061363, 47.695133, 47.54164 , 48.269466],\n",
       "       [50.957657, 49.565834, 49.60309 , 50.37357 ]], dtype=float32)"
      ]
     },
     "execution_count": 7,
     "metadata": {},
     "output_type": "execute_result"
    }
   ],
   "source": [
    "# Average for the year where axis 0 is years and axis 1 is soil layers\n",
    "np.nanmean(temps2, axis = 1)"
   ]
  },
  {
   "cell_type": "code",
   "execution_count": 8,
   "id": "ce736732-e3ab-4783-b4b4-1011edaa4504",
   "metadata": {},
   "outputs": [
    {
     "data": {
      "text/plain": [
       "array([[29.680334, 31.710833, 34.128666, 39.64967 ],\n",
       "       [29.797998, 31.76467 , 34.156998, 39.55917 ],\n",
       "       [30.781166, 31.761002, 34.156834, 39.48833 ],\n",
       "       ...,\n",
       "       [30.286499, 30.658333, 34.515667, 40.17133 ],\n",
       "       [30.981665, 31.156668, 34.296833, 40.011833],\n",
       "       [30.922998, 31.722666, 34.236   , 39.858166]], dtype=float32)"
      ]
     },
     "execution_count": 8,
     "metadata": {},
     "output_type": "execute_result"
    }
   ],
   "source": [
    "# Average for each day, regardless of year\n",
    "daily_avgs = np.nanmean(temps2, axis = 0)\n",
    "daily_avgs"
   ]
  },
  {
   "cell_type": "markdown",
   "id": "4749b10b",
   "metadata": {},
   "source": [
    "---\n",
    "\n",
    "## Extra Challenge: Plotting Soil Temperatures\n",
    "\n",
    "Using `matplotlib.pyplot()`, create a line plot showing the 365-day soil temperature climatology for each soil layer. The temperature in each soil layer should be shown as a separate line, using a separate color, with a legend to differentiate the soil depths. The horizontal (X) axis should show the day of year. As usual, this is not for extra credit, just for extra fun."
   ]
  },
  {
   "cell_type": "code",
   "execution_count": 9,
   "id": "efb8d134-cbae-4663-885a-9a771c4a05f7",
   "metadata": {},
   "outputs": [
    {
     "data": {
      "text/plain": [
       "(365, 4)"
      ]
     },
     "execution_count": 9,
     "metadata": {},
     "output_type": "execute_result"
    }
   ],
   "source": [
    "np.shape(daily_avgs)"
   ]
  },
  {
   "cell_type": "code",
   "execution_count": 19,
   "id": "2b963090-a61e-43c4-bace-701d55d7db26",
   "metadata": {
    "scrolled": true
   },
   "outputs": [
    {
     "data": {
      "text/plain": [
       "array([  1,   2,   3,   4,   5,   6,   7,   8,   9,  10,  11,  12,  13,\n",
       "        14,  15,  16,  17,  18,  19,  20,  21,  22,  23,  24,  25,  26,\n",
       "        27,  28,  29,  30,  31,  32,  33,  34,  35,  36,  37,  38,  39,\n",
       "        40,  41,  42,  43,  44,  45,  46,  47,  48,  49,  50,  51,  52,\n",
       "        53,  54,  55,  56,  57,  58,  59,  60,  61,  62,  63,  64,  65,\n",
       "        66,  67,  68,  69,  70,  71,  72,  73,  74,  75,  76,  77,  78,\n",
       "        79,  80,  81,  82,  83,  84,  85,  86,  87,  88,  89,  90,  91,\n",
       "        92,  93,  94,  95,  96,  97,  98,  99, 100, 101, 102, 103, 104,\n",
       "       105, 106, 107, 108, 109, 110, 111, 112, 113, 114, 115, 116, 117,\n",
       "       118, 119, 120, 121, 122, 123, 124, 125, 126, 127, 128, 129, 130,\n",
       "       131, 132, 133, 134, 135, 136, 137, 138, 139, 140, 141, 142, 143,\n",
       "       144, 145, 146, 147, 148, 149, 150, 151, 152, 153, 154, 155, 156,\n",
       "       157, 158, 159, 160, 161, 162, 163, 164, 165, 166, 167, 168, 169,\n",
       "       170, 171, 172, 173, 174, 175, 176, 177, 178, 179, 180, 181, 182,\n",
       "       183, 184, 185, 186, 187, 188, 189, 190, 191, 192, 193, 194, 195,\n",
       "       196, 197, 198, 199, 200, 201, 202, 203, 204, 205, 206, 207, 208,\n",
       "       209, 210, 211, 212, 213, 214, 215, 216, 217, 218, 219, 220, 221,\n",
       "       222, 223, 224, 225, 226, 227, 228, 229, 230, 231, 232, 233, 234,\n",
       "       235, 236, 237, 238, 239, 240, 241, 242, 243, 244, 245, 246, 247,\n",
       "       248, 249, 250, 251, 252, 253, 254, 255, 256, 257, 258, 259, 260,\n",
       "       261, 262, 263, 264, 265, 266, 267, 268, 269, 270, 271, 272, 273,\n",
       "       274, 275, 276, 277, 278, 279, 280, 281, 282, 283, 284, 285, 286,\n",
       "       287, 288, 289, 290, 291, 292, 293, 294, 295, 296, 297, 298, 299,\n",
       "       300, 301, 302, 303, 304, 305, 306, 307, 308, 309, 310, 311, 312,\n",
       "       313, 314, 315, 316, 317, 318, 319, 320, 321, 322, 323, 324, 325,\n",
       "       326, 327, 328, 329, 330, 331, 332, 333, 334, 335, 336, 337, 338,\n",
       "       339, 340, 341, 342, 343, 344, 345, 346, 347, 348, 349, 350, 351,\n",
       "       352, 353, 354, 355, 356, 357, 358, 359, 360, 361, 362, 363, 364,\n",
       "       365])"
      ]
     },
     "execution_count": 19,
     "metadata": {},
     "output_type": "execute_result"
    }
   ],
   "source": [
    "import numpy as np\n",
    "days = np.arange(1, 366)\n",
    "days"
   ]
  },
  {
   "cell_type": "code",
   "execution_count": 28,
   "id": "1d7e200b-dc80-48fc-b6b0-3aa803e13f25",
   "metadata": {},
   "outputs": [
    {
     "data": {
      "image/png": "[encoded data removed]",
      "text/plain": [
       "<Figure size 640x480 with 1 Axes>"
      ]
     },
     "metadata": {},
     "output_type": "display_data"
    }
   ],
   "source": [
    "import matplotlib.pyplot as plt\n",
    "\n",
    "plt.plot(days, daily_avgs[:, 0], label='10cm')\n",
    "plt.plot(days, daily_avgs[:, 1], label='20cm')\n",
    "plt.plot(days, daily_avgs[:, 2], label='50cm')\n",
    "plt.plot(days, daily_avgs[:, 3], label='90cm')\n",
    "\n",
    "plt.title('Daily Temp Averages for 2017 - 2022')\n",
    "plt.xlabel('Day of Year')\n",
    "plt.ylabel('Temp (F)')\n",
    "plt.legend(title = 'Soil Depths')\n",
    "\n",
    "plt.show()"
   ]
  }
 ],
 "metadata": {
  "kernelspec": {
   "display_name": "Python 3 (ipykernel)",
   "language": "python",
   "name": "python3"
  },
  "language_info": {
   "codemirror_mode": {
    "name": "ipython",
    "version": 3
   },
   "file_extension": ".py",
   "mimetype": "text/x-python",
   "name": "python",
   "nbconvert_exporter": "python",
   "pygments_lexer": "ipython3",
   "version": "3.9.18"
  }
 },
 "nbformat": 4,
 "nbformat_minor": 5
}
