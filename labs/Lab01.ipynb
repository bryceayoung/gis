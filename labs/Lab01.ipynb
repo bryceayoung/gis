{
 "cells": [
  {
   "cell_type": "markdown",
   "id": "d30f865c",
   "metadata": {},
   "source": [
    "# Week 2, Lab \\#1\n",
    "\n",
    "*January 24, 2024*"
   ]
  },
  {
   "cell_type": "markdown",
   "id": "8febcf03",
   "metadata": {},
   "source": [
    "## Problem 1.1: Unit Conversion\n",
    "\n",
    "Here is a sequence of temperatures in degrees Kelvin."
   ]
  },
  {
   "cell_type": "code",
   "execution_count": 4,
   "id": "d1d2d6b1",
   "metadata": {},
   "outputs": [
    {
     "data": {
      "text/plain": [
       "[248, 264, 243, 279, 263, 255, 288, 250, 270, 292]"
      ]
     },
     "execution_count": 4,
     "metadata": {},
     "output_type": "execute_result"
    }
   ],
   "source": [
    "import numpy as np\n",
    "np.random.seed(100)\n",
    "\n",
    "temps_k = np.random.randint(240, 300, size = 10).tolist()\n",
    "temps_k"
   ]
  },
  {
   "cell_type": "markdown",
   "id": "6336fe4f",
   "metadata": {},
   "source": [
    "**Write Python code that converts the *third* (3rd) temperature in this list from degrees Kelvin to degrees Fahrenheit.** Below is an equation describing how to convert a temperature from degrees Kelvin (deg K) to degrees Fahrenheit (deg F).\n",
    "\n",
    "$$\n",
    "[\\text{deg F}] = \\left([\\text{deg K}]\\times \\frac{9}{5}\\right) - 459.67\n",
    "$$"
   ]
  },
  {
   "cell_type": "code",
   "execution_count": 2,
   "id": "d18647bc-077c-4253-9540-8555e40743eb",
   "metadata": {},
   "outputs": [
    {
     "data": {
      "text/plain": [
       "-22.269999999999982"
      ]
     },
     "execution_count": 2,
     "metadata": {},
     "output_type": "execute_result"
    }
   ],
   "source": [
    "deg_f = (temps_k[2] * (9/5)) - 459.67\n",
    "deg_f"
   ]
  },
  {
   "cell_type": "markdown",
   "id": "abbed508",
   "metadata": {},
   "source": [
    "---\n",
    "\n",
    "## Problem 1.2: Order of Operations\n",
    "\n",
    "In class we practiced converting from Degrees-Minutes-Seconds to decimal degrees. Now we'll do the reverse!\n",
    "\n",
    "- **Write Python code that expresses the following latitude value (below) in Degrees, Minutes, Seconds.**\n",
    "- The answer has 3 parts: Degrees, Minutes, Seconds. **You must store these 3 values, in order, in a Python list.**"
   ]
  },
  {
   "cell_type": "markdown",
   "id": "0cb2b706",
   "metadata": {},
   "source": [
    "**Write Python code that expresses the following latitude value (below) in Degrees, Minutes, Seconds.**"
   ]
  },
  {
   "cell_type": "code",
   "execution_count": 3,
   "id": "3e5941c4",
   "metadata": {},
   "outputs": [
    {
     "data": {
      "text/plain": [
       "61"
      ]
     },
     "execution_count": 3,
     "metadata": {},
     "output_type": "execute_result"
    }
   ],
   "source": [
    "lat = 61.216667\n",
    "d = int(lat)\n",
    "d"
   ]
  },
  {
   "cell_type": "code",
   "execution_count": 5,
   "id": "ad7fab5d-2416-4cdc-9dd1-c9f973a14155",
   "metadata": {},
   "outputs": [
    {
     "data": {
      "text/plain": [
       "13"
      ]
     },
     "execution_count": 5,
     "metadata": {},
     "output_type": "execute_result"
    }
   ],
   "source": [
    "m = int(0.216667 * 60)\n",
    "m"
   ]
  },
  {
   "cell_type": "code",
   "execution_count": 6,
   "id": "a6aa16a0-fb5b-4c48-aa60-67c5a4ace3a3",
   "metadata": {},
   "outputs": [
    {
     "data": {
      "text/plain": [
       "13.00002"
      ]
     },
     "execution_count": 6,
     "metadata": {},
     "output_type": "execute_result"
    }
   ],
   "source": [
    "0.216667 * 60"
   ]
  },
  {
   "cell_type": "code",
   "execution_count": 8,
   "id": "1c7ccc08-9b5c-4590-817e-3b14c374addf",
   "metadata": {},
   "outputs": [
    {
     "data": {
      "text/plain": [
       "0"
      ]
     },
     "execution_count": 8,
     "metadata": {},
     "output_type": "execute_result"
    }
   ],
   "source": [
    "s = int(0.00002 * 3600)\n",
    "s"
   ]
  },
  {
   "cell_type": "code",
   "execution_count": 11,
   "id": "dd1bb24d-eb43-4116-be04-1cefcafd9178",
   "metadata": {},
   "outputs": [
    {
     "name": "stdout",
     "output_type": "stream",
     "text": [
      "[61, 13, 0]\n"
     ]
    }
   ],
   "source": [
    "dms = [d, m, s]\n",
    "print(dms)"
   ]
  },
  {
   "cell_type": "markdown",
   "id": "1bec6dd7",
   "metadata": {},
   "source": [
    "---\n",
    "\n",
    "## Interlude: String Formatting\n",
    "\n",
    "When you have two or more strings that you want to combine into a single Python string, you can use the `+` operator to combine them:"
   ]
  },
  {
   "cell_type": "code",
   "execution_count": 3,
   "id": "64f8e158",
   "metadata": {},
   "outputs": [
    {
     "data": {
      "text/plain": [
       "'Justlikethis'"
      ]
     },
     "execution_count": 3,
     "metadata": {},
     "output_type": "execute_result"
    }
   ],
   "source": [
    "\"Just\" + \"like\" + \"this\""
   ]
  },
  {
   "cell_type": "markdown",
   "id": "a5f543bc",
   "metadata": {},
   "source": [
    "But as the above example shows, you have to be careful to add whitespace (or not) in the correct places.\n",
    "\n",
    "A better way to do build up a complex string is to use Python's *string formatting* syntax. Here are a couple of examples."
   ]
  },
  {
   "cell_type": "code",
   "execution_count": 4,
   "id": "55524118",
   "metadata": {},
   "outputs": [
    {
     "data": {
      "text/plain": [
       "'Hello there, my good chum!'"
      ]
     },
     "execution_count": 4,
     "metadata": {},
     "output_type": "execute_result"
    }
   ],
   "source": [
    "# Some variable assigned to a string\n",
    "compliment = 'good'\n",
    "\n",
    "# Notice the lower-case f at the beginning (outside) of this string\n",
    "f\"Hello there, my {compliment} chum!\""
   ]
  },
  {
   "cell_type": "code",
   "execution_count": 5,
   "id": "2dedde7a",
   "metadata": {},
   "outputs": [
    {
     "data": {
      "text/plain": [
       "\"Nothing like mom's home-made brown stew; it's so shrimpy!\""
      ]
     },
     "execution_count": 5,
     "metadata": {},
     "output_type": "execute_result"
    }
   ],
   "source": [
    "color = 'brown'\n",
    "flavor = 'shrimpy'\n",
    "\n",
    "f\"Nothing like mom's home-made {color} stew; it's so {flavor}!\""
   ]
  },
  {
   "cell_type": "markdown",
   "id": "3478d43c",
   "metadata": {},
   "source": [
    "With string formatting, you can put any Python expression inside the curly braces. In the two examples above, we just wrote variable names..."
   ]
  },
  {
   "cell_type": "code",
   "execution_count": 6,
   "id": "f30a2e0c",
   "metadata": {},
   "outputs": [
    {
     "data": {
      "text/plain": [
       "'The temperature is 25.4 deg C outside!'"
      ]
     },
     "execution_count": 6,
     "metadata": {},
     "output_type": "execute_result"
    }
   ],
   "source": [
    "temperature = 298.5\n",
    "\n",
    "f'The temperature is {round(temperature - 273.15, 1)} deg C outside!'"
   ]
  },
  {
   "cell_type": "markdown",
   "id": "fff6508b",
   "metadata": {},
   "source": [
    "It's also possible to format a Python string that *doesn't* have the lower-case f in front (e.g., a regular string that was already defined elsewhere):"
   ]
  },
  {
   "cell_type": "code",
   "execution_count": 7,
   "id": "1750f37c",
   "metadata": {},
   "outputs": [
    {
     "data": {
      "text/plain": [
       "'the sky is yellow'"
      ]
     },
     "execution_count": 7,
     "metadata": {},
     "output_type": "execute_result"
    }
   ],
   "source": [
    "statement = \"the sky is {color}\"\n",
    "\n",
    "statement.format(color = 'yellow')"
   ]
  },
  {
   "cell_type": "markdown",
   "id": "88cb7ff0",
   "metadata": {},
   "source": [
    "---\n",
    "\n",
    "## Problem 1.3: String Formatting\n",
    "\n",
    "**Using string formatting,** write Python code that produces a string that looks like the one below, **but with the correct Degrees, Minutes, Seconds from Problem 1.2.**\n",
    "\n",
    "```\n",
    "Anchorage, AK: 46 deg 51 min 45 sec N\n",
    "```"
   ]
  },
  {
   "cell_type": "code",
   "execution_count": 12,
   "id": "d2224d0c-d722-4617-bbce-a5da142cc4b1",
   "metadata": {},
   "outputs": [
    {
     "data": {
      "text/plain": [
       "'Anchorage, AK: 61 deg 13 min 0 sec N'"
      ]
     },
     "execution_count": 12,
     "metadata": {},
     "output_type": "execute_result"
    }
   ],
   "source": [
    "f'Anchorage, AK: {d} deg {m} min {s} sec N'"
   ]
  },
  {
   "cell_type": "markdown",
   "id": "a800a154",
   "metadata": {},
   "source": [
    "---\n",
    "\n",
    "## Problem 1.4: Writing a Loop\n",
    "\n",
    "Let's revisit Problem 1.1. We need a more efficient way to convert *all* the temperatures in `temps_k` (Problem 1.1) to degrees Fahrenheit. **You can simply `print()` the converted temperature to the screen.**\n",
    "\n",
    "**Write a `for` loop to accomplish this.**"
   ]
  },
  {
   "cell_type": "code",
   "execution_count": 18,
   "id": "2fd12b02-f7aa-4123-90d2-898129c8d516",
   "metadata": {},
   "outputs": [
    {
     "data": {
      "text/plain": [
       "[-13.27, 15.53, -22.27, 42.53, 13.73, -0.67, 58.73, -9.67, 26.33, 65.93]"
      ]
     },
     "execution_count": 18,
     "metadata": {},
     "output_type": "execute_result"
    }
   ],
   "source": [
    "temps_f = []\n",
    "\n",
    "for i, temp_k in enumerate(temps_k):\n",
    "    temp_f = round((temp_k * (9/5)) - 459.67, 2)\n",
    "    temps_f.append(temp_f)\n",
    "\n",
    "temps_f"
   ]
  },
  {
   "cell_type": "markdown",
   "id": "f362782d",
   "metadata": {},
   "source": [
    "---\n",
    "\n",
    "## Problem 1.5\n",
    "\n",
    "**NOTE: You may find this one difficult to complete until we discuss Python functions in detail on January 25.**\n",
    "\n",
    "1. Write a Python function that performs the Kelvin-to-Fahrenheit conversion from Problem 1.1 This function should accept a single input argument (numeric value) and return a single output (numeric value).\n",
    "2. Copy the `for` loop you wrote for Problem 1.4 to a new code block, below. \n",
    "3. Change this `for` loop so that, instead of doing the unit conversion in the body of the `for` loop, you call the function you wrote in each step. You should still `print()` the result to the screen."
   ]
  },
  {
   "cell_type": "code",
   "execution_count": 1,
   "id": "e0749e28-e284-42aa-8c7c-a47843720fce",
   "metadata": {},
   "outputs": [],
   "source": [
    "def k2f(temp_k):\n",
    "    temp_f = (temp_k * (9/5)) - 459.67\n",
    "    return temp_f"
   ]
  },
  {
   "cell_type": "code",
   "execution_count": 2,
   "id": "db89d6e5-596f-43de-a202-15ee60eda6ba",
   "metadata": {},
   "outputs": [
    {
     "name": "stdout",
     "output_type": "stream",
     "text": [
      "-459.67\n"
     ]
    }
   ],
   "source": [
    "print(k2f(0))"
   ]
  },
  {
   "cell_type": "code",
   "execution_count": 5,
   "id": "40af6a4a-de7b-40bc-8ad8-8f0c9f186f2a",
   "metadata": {},
   "outputs": [
    {
     "data": {
      "text/plain": [
       "[-13.27, 15.53, -22.27, 42.53, 13.73, -0.67, 58.73, -9.67, 26.33, 65.93]"
      ]
     },
     "execution_count": 5,
     "metadata": {},
     "output_type": "execute_result"
    }
   ],
   "source": [
    "temps_f = []\n",
    "\n",
    "for i, temp_k in enumerate(temps_k):\n",
    "    temp_f = round(k2f(temp_k), 2)\n",
    "    temps_f.append(temp_f)\n",
    "\n",
    "temps_f"
   ]
  },
  {
   "cell_type": "markdown",
   "id": "121d0a30",
   "metadata": {},
   "source": [
    "---\n",
    "\n",
    "## Extra Challenges (Optional)\n",
    "\n",
    "If you'd like to challenge yourself, try these extra challenges. No extra credit can be awarded, but feel free to include the solutions in your submitted Lab notebook, so they're all in one place.\n",
    "\n",
    "1. Starting from your Problem 1.4 solution, change the loop so that it prints a string-formatted statement about each temperature.\n",
    "2. Starting from your Problem 1.4 solution, change the loop so that it *changes* the temperature value in the `temps_k` list."
   ]
  },
  {
   "cell_type": "code",
   "execution_count": 6,
   "id": "cc20c050-c4ca-4a70-b1a2-59fb5e294aab",
   "metadata": {},
   "outputs": [
    {
     "name": "stdout",
     "output_type": "stream",
     "text": [
      "At index 0, 248 kelvin = -13.27 Farenheit\n",
      "At index 1, 264 kelvin = 15.53 Farenheit\n",
      "At index 2, 243 kelvin = -22.27 Farenheit\n",
      "At index 3, 279 kelvin = 42.53 Farenheit\n",
      "At index 4, 263 kelvin = 13.73 Farenheit\n",
      "At index 5, 255 kelvin = -0.67 Farenheit\n",
      "At index 6, 288 kelvin = 58.73 Farenheit\n",
      "At index 7, 250 kelvin = -9.67 Farenheit\n",
      "At index 8, 270 kelvin = 26.33 Farenheit\n",
      "At index 9, 292 kelvin = 65.93 Farenheit\n"
     ]
    }
   ],
   "source": [
    "for i, temp_k in enumerate(temps_k):\n",
    "    temp_f = round((temp_k * (9/5)) - 459.67, 2)\n",
    "    temps_f.append(temp_f)\n",
    "    print(f'At index {i}, {temp_k} kelvin = {temp_f} Farenheit')"
   ]
  },
  {
   "cell_type": "code",
   "execution_count": 7,
   "id": "d43f4bed-2ef6-4624-989e-ddacbe263ea4",
   "metadata": {},
   "outputs": [],
   "source": [
    "for i, temp_k in enumerate(temps_k):\n",
    "    temp_f = round((temp_k * (9/5)) - 459.67, 2)\n",
    "    temps_k[i] = temp_f"
   ]
  }
 ],
 "metadata": {
  "kernelspec": {
   "display_name": "Python 3 (ipykernel)",
   "language": "python",
   "name": "python3"
  },
  "language_info": {
   "codemirror_mode": {
    "name": "ipython",
    "version": 3
   },
   "file_extension": ".py",
   "mimetype": "text/x-python",
   "name": "python",
   "nbconvert_exporter": "python",
   "pygments_lexer": "ipython3",
   "version": "3.9.5"
  }
 },
 "nbformat": 4,
 "nbformat_minor": 5
}
