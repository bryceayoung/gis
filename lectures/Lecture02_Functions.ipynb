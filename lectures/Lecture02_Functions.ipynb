{
 "cells": [
  {
   "cell_type": "markdown",
   "id": "f5e38d92-63fc-4c43-850b-306a6df8bcb1",
   "metadata": {},
   "source": [
    "## `None` as an expression (e.g. `function(a, b, c = None)`)"
   ]
  },
  {
   "cell_type": "code",
   "execution_count": 2,
   "id": "2f1e3e0f-146a-4fa5-9cd2-aba62ddd602d",
   "metadata": {},
   "outputs": [
    {
     "name": "stdout",
     "output_type": "stream",
     "text": [
      "number is not too large\n"
     ]
    }
   ],
   "source": [
    "def too_large(number):\n",
    "    if number > 1e9:\n",
    "        print('Number is too large!')\n",
    "    else:\n",
    "        print('number is not too large')\n",
    "\n",
    "result = too_large(1e6)"
   ]
  },
  {
   "cell_type": "code",
   "execution_count": 3,
   "id": "ba986e25-547a-4c08-901a-4a6b76434a77",
   "metadata": {},
   "outputs": [
    {
     "data": {
      "text/plain": [
       "True"
      ]
     },
     "execution_count": 3,
     "metadata": {},
     "output_type": "execute_result"
    }
   ],
   "source": [
    "result is None"
   ]
  },
  {
   "cell_type": "raw",
   "id": "43694608-bf56-455d-8ab5-21715d7f47cf",
   "metadata": {},
   "source": [
    "result"
   ]
  },
  {
   "cell_type": "markdown",
   "id": "5beac6bd-ea05-43d0-97b2-2563fbd5c6ad",
   "metadata": {},
   "source": [
    "In the above function, there is no `return` value. That is why `result` is `None`"
   ]
  },
  {
   "cell_type": "code",
   "execution_count": 5,
   "id": "1a229f16-0d05-4cf2-b4d2-bcb898030fae",
   "metadata": {},
   "outputs": [
    {
     "ename": "TypeError",
     "evalue": "unsupported operand type(s) for /: 'NoneType' and 'int'",
     "output_type": "error",
     "traceback": [
      "\u001b[1;31m---------------------------------------------------------------------------\u001b[0m",
      "\u001b[1;31mTypeError\u001b[0m                                 Traceback (most recent call last)",
      "Cell \u001b[1;32mIn[5], line 4\u001b[0m\n\u001b[0;32m      1\u001b[0m \u001b[38;5;28;01mdef\u001b[39;00m \u001b[38;5;21mdms_to_dd\u001b[39m(d, m, s \u001b[38;5;241m=\u001b[39m \u001b[38;5;28;01mNone\u001b[39;00m):\n\u001b[0;32m      2\u001b[0m     \u001b[38;5;28;01mreturn\u001b[39;00m d \u001b[38;5;241m+\u001b[39m (m\u001b[38;5;241m/\u001b[39m\u001b[38;5;241m60\u001b[39m) \u001b[38;5;241m+\u001b[39m (s\u001b[38;5;241m/\u001b[39m\u001b[38;5;241m3600\u001b[39m)\n\u001b[1;32m----> 4\u001b[0m \u001b[43mdms_to_dd\u001b[49m\u001b[43m(\u001b[49m\u001b[38;5;241;43m60\u001b[39;49m\u001b[43m,\u001b[49m\u001b[43m \u001b[49m\u001b[38;5;241;43m30\u001b[39;49m\u001b[43m)\u001b[49m\n",
      "Cell \u001b[1;32mIn[5], line 2\u001b[0m, in \u001b[0;36mdms_to_dd\u001b[1;34m(d, m, s)\u001b[0m\n\u001b[0;32m      1\u001b[0m \u001b[38;5;28;01mdef\u001b[39;00m \u001b[38;5;21mdms_to_dd\u001b[39m(d, m, s \u001b[38;5;241m=\u001b[39m \u001b[38;5;28;01mNone\u001b[39;00m):\n\u001b[1;32m----> 2\u001b[0m     \u001b[38;5;28;01mreturn\u001b[39;00m d \u001b[38;5;241m+\u001b[39m (m\u001b[38;5;241m/\u001b[39m\u001b[38;5;241m60\u001b[39m) \u001b[38;5;241m+\u001b[39m (\u001b[43ms\u001b[49m\u001b[38;5;241;43m/\u001b[39;49m\u001b[38;5;241;43m3600\u001b[39;49m)\n",
      "\u001b[1;31mTypeError\u001b[0m: unsupported operand type(s) for /: 'NoneType' and 'int'"
     ]
    }
   ],
   "source": [
    "def dms_to_dd(d, m, s = None):\n",
    "    return d + (m/60) + (s/3600)\n",
    "\n",
    "dms_to_dd(60, 30)"
   ]
  },
  {
   "cell_type": "markdown",
   "id": "07268725-db70-4e4c-9f74-d8e5b131eba8",
   "metadata": {},
   "source": [
    "ABOVE: Because `s = None` and is not specified in the argument, and `s` is a mandatory variable in the function in `(s/3600)` we get an error because `None` cannot be divided.\n",
    "\n",
    "BELOW: So we have to make a conditional statement for what to do if `s=None`"
   ]
  },
  {
   "cell_type": "code",
   "execution_count": 21,
   "id": "d3037540-74cf-41cc-9a46-62ffee6b6aa3",
   "metadata": {},
   "outputs": [
    {
     "data": {
      "text/plain": [
       "60.50278"
      ]
     },
     "execution_count": 21,
     "metadata": {},
     "output_type": "execute_result"
    }
   ],
   "source": [
    "def dms_to_dd(d, m, s = None):\n",
    "    dd = d + (m/60)\n",
    "    if s is None:\n",
    "        s = 0\n",
    "    else:\n",
    "        dd = dd + (s/3600)\n",
    "    return round(dd, 5)\n",
    "\n",
    "dms_to_dd(60, 30, 10)"
   ]
  },
  {
   "cell_type": "markdown",
   "id": "4c743d99-54c5-479e-86b0-bc24c7d1a299",
   "metadata": {},
   "source": [
    "## Objects in Python"
   ]
  },
  {
   "cell_type": "markdown",
   "id": "90e6ac25-7b84-4e9a-8b2f-34e8a975c6d5",
   "metadata": {},
   "source": [
    "*Functional paradigm*\n",
    "\n",
    "`data = load_data()`\n",
    "\n",
    "`new_data = transform(data)`\n",
    "\n",
    "`save_data(new_data)`"
   ]
  },
  {
   "cell_type": "code",
   "execution_count": 20,
   "id": "dca8bb24-b41f-4608-a70e-238637bbb319",
   "metadata": {},
   "outputs": [
    {
     "name": "stdout",
     "output_type": "stream",
     "text": [
      "60.50278\n"
     ]
    }
   ],
   "source": [
    "print(round(dms_to_dd(60,30,10), 5))"
   ]
  },
  {
   "cell_type": "code",
   "execution_count": 14,
   "id": "3c48c41a-1dba-44d2-8ab0-0a5ad4c10cb5",
   "metadata": {},
   "outputs": [
    {
     "data": {
      "text/plain": [
       "['__add__',\n",
       " '__class__',\n",
       " '__contains__',\n",
       " '__delattr__',\n",
       " '__dir__',\n",
       " '__doc__',\n",
       " '__eq__',\n",
       " '__format__',\n",
       " '__ge__',\n",
       " '__getattribute__',\n",
       " '__getitem__',\n",
       " '__getnewargs__',\n",
       " '__gt__',\n",
       " '__hash__',\n",
       " '__init__',\n",
       " '__init_subclass__',\n",
       " '__iter__',\n",
       " '__le__',\n",
       " '__len__',\n",
       " '__lt__',\n",
       " '__mod__',\n",
       " '__mul__',\n",
       " '__ne__',\n",
       " '__new__',\n",
       " '__reduce__',\n",
       " '__reduce_ex__',\n",
       " '__repr__',\n",
       " '__rmod__',\n",
       " '__rmul__',\n",
       " '__setattr__',\n",
       " '__sizeof__',\n",
       " '__str__',\n",
       " '__subclasshook__',\n",
       " 'capitalize',\n",
       " 'casefold',\n",
       " 'center',\n",
       " 'count',\n",
       " 'encode',\n",
       " 'endswith',\n",
       " 'expandtabs',\n",
       " 'find',\n",
       " 'format',\n",
       " 'format_map',\n",
       " 'index',\n",
       " 'isalnum',\n",
       " 'isalpha',\n",
       " 'isascii',\n",
       " 'isdecimal',\n",
       " 'isdigit',\n",
       " 'isidentifier',\n",
       " 'islower',\n",
       " 'isnumeric',\n",
       " 'isprintable',\n",
       " 'isspace',\n",
       " 'istitle',\n",
       " 'isupper',\n",
       " 'join',\n",
       " 'ljust',\n",
       " 'lower',\n",
       " 'lstrip',\n",
       " 'maketrans',\n",
       " 'partition',\n",
       " 'removeprefix',\n",
       " 'removesuffix',\n",
       " 'replace',\n",
       " 'rfind',\n",
       " 'rindex',\n",
       " 'rjust',\n",
       " 'rpartition',\n",
       " 'rsplit',\n",
       " 'rstrip',\n",
       " 'split',\n",
       " 'splitlines',\n",
       " 'startswith',\n",
       " 'strip',\n",
       " 'swapcase',\n",
       " 'title',\n",
       " 'translate',\n",
       " 'upper',\n",
       " 'zfill']"
      ]
     },
     "execution_count": 14,
     "metadata": {},
     "output_type": "execute_result"
    }
   ],
   "source": [
    "dir('Missoula')"
   ]
  },
  {
   "cell_type": "markdown",
   "id": "2ff6ec1d-8140-4bb4-af01-15110cd3df71",
   "metadata": {},
   "source": [
    "ABOVE: These are all the things that Python knows how to do with a STRING, aka the **methods** you can call on a string"
   ]
  },
  {
   "cell_type": "code",
   "execution_count": 16,
   "id": "4bbd4f92-bf6a-4af2-b514-a04848516e95",
   "metadata": {},
   "outputs": [
    {
     "data": {
      "text/plain": [
       "'mISSOULA'"
      ]
     },
     "execution_count": 16,
     "metadata": {},
     "output_type": "execute_result"
    }
   ],
   "source": [
    "result = 'Missoula'.swapcase()\n",
    "result"
   ]
  },
  {
   "cell_type": "code",
   "execution_count": 17,
   "id": "3b4a86ca-4d13-4c74-a234-6424e7b7bd55",
   "metadata": {},
   "outputs": [
    {
     "data": {
      "text/plain": [
       "2"
      ]
     },
     "execution_count": 17,
     "metadata": {},
     "output_type": "execute_result"
    }
   ],
   "source": [
    "\"Missoula\".count('s')"
   ]
  },
  {
   "cell_type": "code",
   "execution_count": 18,
   "id": "03597c4a-a9d4-4ed2-9770-1eb74e85a52e",
   "metadata": {},
   "outputs": [
    {
     "data": {
      "text/plain": [
       "'missoula'"
      ]
     },
     "execution_count": 18,
     "metadata": {},
     "output_type": "execute_result"
    }
   ],
   "source": [
    "city = 'MISSOULA'\n",
    "city.lower()"
   ]
  },
  {
   "cell_type": "code",
   "execution_count": 22,
   "id": "864bad31-c273-4074-bb79-2f9b035d3f03",
   "metadata": {},
   "outputs": [
    {
     "data": {
      "text/plain": [
       "['__abs__',\n",
       " '__add__',\n",
       " '__bool__',\n",
       " '__ceil__',\n",
       " '__class__',\n",
       " '__delattr__',\n",
       " '__dir__',\n",
       " '__divmod__',\n",
       " '__doc__',\n",
       " '__eq__',\n",
       " '__float__',\n",
       " '__floor__',\n",
       " '__floordiv__',\n",
       " '__format__',\n",
       " '__ge__',\n",
       " '__getattribute__',\n",
       " '__getformat__',\n",
       " '__getnewargs__',\n",
       " '__gt__',\n",
       " '__hash__',\n",
       " '__init__',\n",
       " '__init_subclass__',\n",
       " '__int__',\n",
       " '__le__',\n",
       " '__lt__',\n",
       " '__mod__',\n",
       " '__mul__',\n",
       " '__ne__',\n",
       " '__neg__',\n",
       " '__new__',\n",
       " '__pos__',\n",
       " '__pow__',\n",
       " '__radd__',\n",
       " '__rdivmod__',\n",
       " '__reduce__',\n",
       " '__reduce_ex__',\n",
       " '__repr__',\n",
       " '__rfloordiv__',\n",
       " '__rmod__',\n",
       " '__rmul__',\n",
       " '__round__',\n",
       " '__rpow__',\n",
       " '__rsub__',\n",
       " '__rtruediv__',\n",
       " '__set_format__',\n",
       " '__setattr__',\n",
       " '__sizeof__',\n",
       " '__str__',\n",
       " '__sub__',\n",
       " '__subclasshook__',\n",
       " '__truediv__',\n",
       " '__trunc__',\n",
       " 'as_integer_ratio',\n",
       " 'conjugate',\n",
       " 'fromhex',\n",
       " 'hex',\n",
       " 'imag',\n",
       " 'is_integer',\n",
       " 'real']"
      ]
     },
     "execution_count": 22,
     "metadata": {},
     "output_type": "execute_result"
    }
   ],
   "source": [
    "dir(345.678)"
   ]
  },
  {
   "cell_type": "code",
   "execution_count": 23,
   "id": "0d9a1fcf-8abe-4b50-9a5d-249fbe0d0fd9",
   "metadata": {},
   "outputs": [
    {
     "data": {
      "text/plain": [
       "(3040615843730817, 8796093022208)"
      ]
     },
     "execution_count": 23,
     "metadata": {},
     "output_type": "execute_result"
    }
   ],
   "source": [
    "number = 345.678\n",
    "number.as_integer_ratio()"
   ]
  },
  {
   "cell_type": "code",
   "execution_count": 29,
   "id": "1680600f-f76e-4a65-9957-a750b0ee8540",
   "metadata": {},
   "outputs": [
    {
     "name": "stdout",
     "output_type": "stream",
     "text": [
      "Help on built-in function fromhex:\n",
      "\n",
      "fromhex(string, /) method of builtins.type instance\n",
      "    Create a floating-point number from a hexadecimal string.\n",
      "    \n",
      "    >>> float.fromhex('0x1.ffffp10')\n",
      "    2047.984375\n",
      "    >>> float.fromhex('-0x1p-1074')\n",
      "    -5e-324\n",
      "\n"
     ]
    }
   ],
   "source": [
    "help(number.fromhex)"
   ]
  },
  {
   "cell_type": "code",
   "execution_count": 32,
   "id": "18d37567-b6c3-4d23-a81f-a9dbcd475571",
   "metadata": {},
   "outputs": [
    {
     "data": {
      "text/plain": [
       "False"
      ]
     },
     "execution_count": 32,
     "metadata": {},
     "output_type": "execute_result"
    }
   ],
   "source": [
    "number.is_integer()"
   ]
  },
  {
   "cell_type": "markdown",
   "id": "9b9d8701-5bb6-4e35-b119-084a591b52e4",
   "metadata": {},
   "source": [
    "### Now we try with a list"
   ]
  },
  {
   "cell_type": "code",
   "execution_count": 33,
   "id": "0b7ede72-43b7-4f0f-ad80-329f9e47dcb8",
   "metadata": {},
   "outputs": [],
   "source": [
    "cities = ['Butte', 'Billings', 'Helena', 'Missoula', 'Great Falls', 'Bozeman']"
   ]
  },
  {
   "cell_type": "code",
   "execution_count": 34,
   "id": "903a0cc9-9b43-4d9f-aa12-16ec7cf6147f",
   "metadata": {},
   "outputs": [
    {
     "data": {
      "text/plain": [
       "['__add__',\n",
       " '__class__',\n",
       " '__class_getitem__',\n",
       " '__contains__',\n",
       " '__delattr__',\n",
       " '__delitem__',\n",
       " '__dir__',\n",
       " '__doc__',\n",
       " '__eq__',\n",
       " '__format__',\n",
       " '__ge__',\n",
       " '__getattribute__',\n",
       " '__getitem__',\n",
       " '__gt__',\n",
       " '__hash__',\n",
       " '__iadd__',\n",
       " '__imul__',\n",
       " '__init__',\n",
       " '__init_subclass__',\n",
       " '__iter__',\n",
       " '__le__',\n",
       " '__len__',\n",
       " '__lt__',\n",
       " '__mul__',\n",
       " '__ne__',\n",
       " '__new__',\n",
       " '__reduce__',\n",
       " '__reduce_ex__',\n",
       " '__repr__',\n",
       " '__reversed__',\n",
       " '__rmul__',\n",
       " '__setattr__',\n",
       " '__setitem__',\n",
       " '__sizeof__',\n",
       " '__str__',\n",
       " '__subclasshook__',\n",
       " 'append',\n",
       " 'clear',\n",
       " 'copy',\n",
       " 'count',\n",
       " 'extend',\n",
       " 'index',\n",
       " 'insert',\n",
       " 'pop',\n",
       " 'remove',\n",
       " 'reverse',\n",
       " 'sort']"
      ]
     },
     "execution_count": 34,
     "metadata": {},
     "output_type": "execute_result"
    }
   ],
   "source": [
    "dir(cities)"
   ]
  },
  {
   "cell_type": "code",
   "execution_count": 35,
   "id": "3b2ac3f4-dcfb-4637-996d-26ebb0ddfa3e",
   "metadata": {},
   "outputs": [
    {
     "name": "stdout",
     "output_type": "stream",
     "text": [
      "Help on built-in function copy:\n",
      "\n",
      "copy() method of builtins.list instance\n",
      "    Return a shallow copy of the list.\n",
      "\n"
     ]
    }
   ],
   "source": [
    "help(cities.copy)"
   ]
  },
  {
   "cell_type": "code",
   "execution_count": 36,
   "id": "9b832b8b-e6c6-4e31-b0ac-86bb39660517",
   "metadata": {},
   "outputs": [
    {
     "name": "stdout",
     "output_type": "stream",
     "text": [
      "Help on built-in function remove:\n",
      "\n",
      "remove(value, /) method of builtins.list instance\n",
      "    Remove first occurrence of value.\n",
      "    \n",
      "    Raises ValueError if the value is not present.\n",
      "\n"
     ]
    }
   ],
   "source": [
    "help(cities.remove)"
   ]
  },
  {
   "cell_type": "code",
   "execution_count": 37,
   "id": "ced91377-5bf8-455a-8ea5-870a7f6ba7ca",
   "metadata": {},
   "outputs": [
    {
     "name": "stdout",
     "output_type": "stream",
     "text": [
      "Help on built-in function pop:\n",
      "\n",
      "pop(index=-1, /) method of builtins.list instance\n",
      "    Remove and return item at index (default last).\n",
      "    \n",
      "    Raises IndexError if list is empty or index is out of range.\n",
      "\n"
     ]
    }
   ],
   "source": [
    "help(cities.pop)"
   ]
  },
  {
   "cell_type": "code",
   "execution_count": 38,
   "id": "68406c7b-2792-47ef-8d55-9a270a601a04",
   "metadata": {},
   "outputs": [
    {
     "data": {
      "text/plain": [
       "'Butte'"
      ]
     },
     "execution_count": 38,
     "metadata": {},
     "output_type": "execute_result"
    }
   ],
   "source": [
    "cities.pop(0)"
   ]
  },
  {
   "cell_type": "code",
   "execution_count": 39,
   "id": "16d47802-f7a8-4822-8111-402f4817a41a",
   "metadata": {},
   "outputs": [
    {
     "data": {
      "text/plain": [
       "['Billings', 'Helena', 'Missoula', 'Great Falls', 'Bozeman']"
      ]
     },
     "execution_count": 39,
     "metadata": {},
     "output_type": "execute_result"
    }
   ],
   "source": [
    "cities"
   ]
  },
  {
   "cell_type": "markdown",
   "id": "fbb9d1ee-38b3-47da-aac2-8d19e8e366d0",
   "metadata": {},
   "source": [
    "## Python data structures\n",
    "- strings\n",
    "- integers\n",
    "- floating points (floats)\n",
    "- lists\n",
    "- tuples: tuple is an **immutable** version of a list, meaning you can't change it!\n",
    "- dictionaries: defined with `{}`, dictionaries map values to other values AKA 'associative array'"
   ]
  },
  {
   "cell_type": "code",
   "execution_count": 43,
   "id": "24566235-81cd-443b-8a0e-8ead9c3a2c9f",
   "metadata": {},
   "outputs": [
    {
     "data": {
      "text/plain": [
       "4"
      ]
     },
     "execution_count": 43,
     "metadata": {},
     "output_type": "execute_result"
    }
   ],
   "source": [
    "counties = {\n",
    "    'Billings' : 2,\n",
    "    'Butte' : 1,\n",
    "    'Great Falls': 3,\n",
    "    'Missoula' : 4,\n",
    "    'Helena' : 5,\n",
    "    'Bozeman' : 6,\n",
    "    'Kalispell' : 7\n",
    "}\n",
    "\n",
    "counties['Missoula']"
   ]
  },
  {
   "cell_type": "markdown",
   "id": "d72a5097-d3c1-4b85-9f86-e59701d4cc42",
   "metadata": {},
   "source": [
    "It's recommended that dictionary **'keys'** only use strings or numbers, and they have to be unique\n",
    "\n",
    "Dictionary **'values'** can be anything, but a key can only have one value."
   ]
  },
  {
   "cell_type": "code",
   "execution_count": null,
   "id": "03f0d748-7ac7-4252-a822-112a8f0a1937",
   "metadata": {},
   "outputs": [],
   "source": []
  }
 ],
 "metadata": {
  "kernelspec": {
   "display_name": "Python 3 (ipykernel)",
   "language": "python",
   "name": "python3"
  },
  "language_info": {
   "codemirror_mode": {
    "name": "ipython",
    "version": 3
   },
   "file_extension": ".py",
   "mimetype": "text/x-python",
   "name": "python",
   "nbconvert_exporter": "python",
   "pygments_lexer": "ipython3",
   "version": "3.9.5"
  }
 },
 "nbformat": 4,
 "nbformat_minor": 5
}
