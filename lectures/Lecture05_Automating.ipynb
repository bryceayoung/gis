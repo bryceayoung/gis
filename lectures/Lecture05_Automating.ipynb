{
 "cells": [
  {
   "cell_type": "markdown",
   "id": "aadc1fc2-c916-421e-85c7-7edb037dae66",
   "metadata": {},
   "source": [
    "# Week 4: Automating Tasks with Python"
   ]
  },
  {
   "cell_type": "markdown",
   "id": "359ccc3f-51f4-4e77-b4fa-b0f3daf675dd",
   "metadata": {},
   "source": [
    "*February 8, 2024*"
   ]
  },
  {
   "cell_type": "markdown",
   "id": "7a6deecd",
   "metadata": {},
   "source": [
    "**Jumpstart Comprehension Check**\n",
    "\n",
    "What will be printed to the screen as a result of running this Python code?\n",
    "\n",
    "```py\n",
    "co2_list = [315, 317, 323, 330, 334, 339]\n",
    "sites = [\"Mauna Loa\", \"Barrow\", \"Mauna Loa\", \"Mauna Loa\", \"Barrow\", \"Mauna Loa\"]\n",
    "\n",
    "for i, value in enumerate(co2_list):\n",
    "    if sites[i] == \"Mauna Loa\":\n",
    "        if sites[i-1] == \"Barrow\":\n",
    "            print(value)\n",
    "            break\n",
    "        print(value)\n",
    "```\n"
   ]
  },
  {
   "cell_type": "markdown",
   "id": "c387baed",
   "metadata": {},
   "source": [
    "## Writing Python Scripts"
   ]
  },
  {
   "cell_type": "markdown",
   "id": "9dc5297b",
   "metadata": {},
   "source": [
    "### Your First Python Script"
   ]
  },
  {
   "cell_type": "markdown",
   "id": "ef17387e-ea0b-4140-b1fc-91c71c4e59b9",
   "metadata": {},
   "source": [
    "We may want this as a script because...?"
   ]
  },
  {
   "cell_type": "code",
   "execution_count": 1,
   "id": "1b6bef0b",
   "metadata": {},
   "outputs": [
    {
     "name": "stdout",
     "output_type": "stream",
     "text": [
      "VEG_TYPE\n",
      "Alpine meadow steppe          263.0\n",
      "Boreal Forest / Deciduous     435.0\n",
      "Boreal Forest / Evergreen     421.0\n",
      "Cold desert steppe            160.0\n",
      "Forest-meadow-paramo          227.0\n",
      "Miombo woodland               599.0\n",
      "Savanna                       115.0\n",
      "Sub-tropical semi-desert       93.0\n",
      "Temperate coniferous fore     516.0\n",
      "Temperate dry steppe          187.0\n",
      "Tropical Forest               981.0\n",
      "Tropical forest               974.0\n",
      "coniferous forest             409.0\n",
      "derived savanna               799.0\n",
      "grassland                     227.0\n",
      "humid savanna                 204.0\n",
      "humid temperate prairie       282.0\n",
      "mixed prairie                 358.0\n",
      "shortgrass prairie            367.0\n",
      "temperate dry steppe          165.0\n",
      "tropical grassland           1592.0\n",
      "upland oak forest             940.0\n",
      "western montane forest        565.0\n",
      "Name: TNPP_C, dtype: float64\n"
     ]
    }
   ],
   "source": [
    "import pandas as pd\n",
    "\n",
    "data = pd.read_csv(\"http://files.ntsg.umt.edu/data/GIS_Programming/data/GPPDI_ClassA_NPP_162_R2.csv\")\n",
    "\n",
    "# Group the data by VEG_TYPE\n",
    "summary = data.groupby(\"VEG_TYPE\")\n",
    "\n",
    "# Print the means of the TNPP_C column\n",
    "print(summary[\"TNPP_C\"].mean().round(0))"
   ]
  },
  {
   "cell_type": "markdown",
   "id": "c1c56f60",
   "metadata": {},
   "source": [
    "### Accepting User Input"
   ]
  },
  {
   "cell_type": "markdown",
   "id": "5721d7de",
   "metadata": {},
   "source": [
    "### Parsing User Input"
   ]
  },
  {
   "cell_type": "markdown",
   "id": "c3860d26",
   "metadata": {},
   "source": [
    "```py\n",
    "# scripts/Week02_dms_to_dd.py\n",
    "\n",
    "import sys\n",
    "\n",
    "def dms2dd(degrees, minutes, seconds):\n",
    "    degs = int(degrees)\n",
    "    mins = int(minutes)\n",
    "    secs = int(seconds)\n",
    "    return degs + (mins / 60.0) + (secs / (60.0 * 60.0))\n",
    "\n",
    "result = dms2dd(sys.argv[1], sys.argv[2], sys.argv[3])\n",
    "print(result)\n",
    "```\n",
    "\n",
    "---\n",
    "\n",
    "**Try running this as:**\n",
    "\n",
    "\n",
    "```sh\n",
    "python dms2dd.py 45 12 57\n",
    "```\n",
    "\n",
    "\n",
    "**NOTE:**\n",
    "\n",
    "- **Why do we start indexing `sys.argv` at 1 instead of 0?**\n",
    "- **Why do we call the `print()` function at the end of this script?**\n",
    "- **Why do we convert our function's inputs to integers?**\n",
    "- **What happens if you remove the trailing zero from `60.0`?**"
   ]
  },
  {
   "cell_type": "markdown",
   "id": "bf3dfbe8",
   "metadata": {},
   "source": [
    "---"
   ]
  },
  {
   "cell_type": "markdown",
   "id": "e2211f3f",
   "metadata": {},
   "source": [
    "## Documentation"
   ]
  },
  {
   "cell_type": "markdown",
   "id": "4db95d39-c94e-4201-bbf6-c7a3ac61bfcb",
   "metadata": {},
   "source": [
    "Can provide a documentation string with three quotes:\n",
    "\n",
    "'''\n",
    "\n",
    "Now everything between the strings is documentation.\n",
    "\n",
    "'''\n",
    "\n",
    "Doc strings go directly under the `def` line. They appear when you call `help()` on the function.\n",
    "\n",
    "Example below."
   ]
  },
  {
   "cell_type": "code",
   "execution_count": 3,
   "id": "e3c4ad58-c3f8-4309-b552-95af6b0218a9",
   "metadata": {},
   "outputs": [],
   "source": [
    "import sys\n",
    "\n",
    "def dms2dd(degrees, minutes, seconds):\n",
    "    '''\n",
    "    Converts degrees, minutes, seconds to decimal degrees.\n",
    "\n",
    "    Parameters\n",
    "    ---------\n",
    "    degrees: int\n",
    "    minutes: int\n",
    "    seconds: int\n",
    "\n",
    "    Returns\n",
    "    ---------\n",
    "    float\n",
    "    '''\n",
    "    degs = int(degrees)\n",
    "    mins = int(minutes)\n",
    "    secs = int(seconds)\n",
    "    return degs + (mins / 60.0) + (secs / (60.0 * 60.0))"
   ]
  },
  {
   "cell_type": "code",
   "execution_count": 4,
   "id": "28bc8e84-b043-4a10-bb81-ece39bac267f",
   "metadata": {},
   "outputs": [
    {
     "name": "stdout",
     "output_type": "stream",
     "text": [
      "Help on function dms2dd in module __main__:\n",
      "\n",
      "dms2dd(degrees, minutes, seconds)\n",
      "    Converts degrees, minutes, seconds to decimal degrees.\n",
      "    \n",
      "    Parameters\n",
      "    ---------\n",
      "    degrees: int\n",
      "    minutes: int\n",
      "    seconds: int\n",
      "    \n",
      "    Returns\n",
      "    ---------\n",
      "    float\n",
      "\n"
     ]
    }
   ],
   "source": [
    "help(dms2dd)"
   ]
  },
  {
   "cell_type": "markdown",
   "id": "011cd2c0",
   "metadata": {},
   "source": [
    "---"
   ]
  },
  {
   "cell_type": "markdown",
   "id": "3dce8a84",
   "metadata": {},
   "source": [
    "## From Scripts to Modules"
   ]
  },
  {
   "cell_type": "code",
   "execution_count": 5,
   "id": "1a0cec72-926f-4e21-90b5-86c487bb34a8",
   "metadata": {},
   "outputs": [],
   "source": [
    "import datetime\n",
    "\n",
    "import matplotlib.pyplot as plt"
   ]
  },
  {
   "cell_type": "markdown",
   "id": "bf0e5957-b84c-44d6-ba26-9a6abd3ddef9",
   "metadata": {},
   "source": [
    "#### 'Dunders' or double-underscore modules"
   ]
  },
  {
   "cell_type": "code",
   "execution_count": 7,
   "id": "a59216d9-efb8-4f9a-870d-7ca61b9e098d",
   "metadata": {},
   "outputs": [
    {
     "data": {
      "text/plain": [
       "'C:\\\\Program Files\\\\ArcGIS\\\\Pro\\\\bin\\\\Python\\\\envs\\\\arcgispro-py3\\\\lib\\\\datetime.py'"
      ]
     },
     "execution_count": 7,
     "metadata": {},
     "output_type": "execute_result"
    }
   ],
   "source": [
    "datetime.__file__"
   ]
  },
  {
   "cell_type": "code",
   "execution_count": 8,
   "id": "03568fd3-3691-4993-b4f5-ee7886328b52",
   "metadata": {},
   "outputs": [
    {
     "data": {
      "text/plain": [
       "'datetime'"
      ]
     },
     "execution_count": 8,
     "metadata": {},
     "output_type": "execute_result"
    }
   ],
   "source": [
    "datetime.__name__"
   ]
  },
  {
   "cell_type": "markdown",
   "id": "dc183c42-3704-475d-9087-152f07ed9db5",
   "metadata": {},
   "source": [
    "Alias does not change actual name, as shown below"
   ]
  },
  {
   "cell_type": "code",
   "execution_count": 9,
   "id": "6844ff12-0d79-444c-b6f8-90d3ea4fd0f4",
   "metadata": {},
   "outputs": [
    {
     "data": {
      "text/plain": [
       "'datetime'"
      ]
     },
     "execution_count": 9,
     "metadata": {},
     "output_type": "execute_result"
    }
   ],
   "source": [
    "import datetime as dt\n",
    "dt.__name__"
   ]
  },
  {
   "cell_type": "code",
   "execution_count": 10,
   "id": "977d1a67-3ae3-4653-93c3-dd3558313449",
   "metadata": {},
   "outputs": [
    {
     "name": "stdout",
     "output_type": "stream",
     "text": [
      "__main__\n"
     ]
    }
   ],
   "source": [
    "print(__name__)"
   ]
  },
  {
   "cell_type": "markdown",
   "id": "0666602b",
   "metadata": {},
   "source": [
    "---"
   ]
  },
  {
   "cell_type": "markdown",
   "id": "a9c8f0ba",
   "metadata": {},
   "source": [
    "## The Python Module Pattern"
   ]
  },
  {
   "cell_type": "markdown",
   "id": "6401e798",
   "metadata": {},
   "source": [
    "The `dms2dd.py` script you just wrote is an important Python programming pattern that you'll use again and again in your career. Consider this example:\n",
    "\n",
    "---\n",
    "\n",
    "```py\n",
    "import pandas as pd\n",
    "\n",
    "GROUP_COLUMN = \"VEG_TYPE\"\n",
    "VALUE_COLUMN = \"TNPP_C\"\n",
    "\n",
    "def main(csv_file): \n",
    "    data = pd.read_csv(CSV_FILE)\n",
    "    summary = group_data(data_frame)\n",
    "    # Print the means of the TNPP_C column\n",
    "    print(summary[VALUE_COLUMN].mean().round(0))\n",
    "\n",
    "\n",
    "def group_data(data_frame):\n",
    "    # Group the data by VEG_TYPE\n",
    "    return data_frame.groupby(GROUP_COLUMN)\n",
    "\n",
    "\n",
    "if __name__ == '__main__':\n",
    "    import sys\n",
    "    main(sys.argv[1])\n",
    "```\n",
    "\n",
    "---\n",
    "\n",
    "Even though the `group_data()` function consists of just one line of code, you can imagine that in a real-world example this function could be pretty complicated. \n",
    "\n",
    "**It's good practice to identify re-useable parts of your code and put them in separate functions. This also helps to organize your code and make it clearer to read.** The `main()` function is just that: the main part of your script that orchestrates all the tasks that should be executed when you run the script."
   ]
  },
  {
   "cell_type": "markdown",
   "id": "32769146",
   "metadata": {},
   "source": [
    "---"
   ]
  },
  {
   "cell_type": "markdown",
   "id": "2c638d93",
   "metadata": {},
   "source": [
    "## Repeating Tasks within Loops"
   ]
  },
  {
   "cell_type": "code",
   "execution_count": null,
   "id": "d77eff70",
   "metadata": {},
   "outputs": [],
   "source": [
    "import pandas as pd\n",
    "\n",
    "data = pd.read_csv(\"http://files.ntsg.umt.edu/data/GIS_Programming/data/monthly_in_situ_co2_mlo.csv\")\n",
    "data"
   ]
  },
  {
   "cell_type": "markdown",
   "id": "ef75f8ef",
   "metadata": {},
   "source": [
    "### Reading Data from Files"
   ]
  },
  {
   "cell_type": "markdown",
   "id": "a3f9afb7",
   "metadata": {},
   "source": [
    "We can also *write* data files using this same pattern."
   ]
  },
  {
   "cell_type": "code",
   "execution_count": null,
   "id": "fe70a0f8",
   "metadata": {},
   "outputs": [],
   "source": [
    "import datetime\n",
    "\n",
    "with open(\"temp.csv\", \"w\") as file:\n",
    "    writer = csv.writer(file)\n",
    "    \n",
    "    # Write the header row first\n",
    "    writer.writerow([\"date\", \"value\"])\n",
    "    \n",
    "    record = data[data['year'] == 2012]['co2_ppm'].values\n",
    "    \n",
    "    # Then, write each data record as a new row\n",
    "    for month in range(1, 12):\n",
    "        # Create a date for each month, e.g., the 1st of each month\n",
    "        date = datetime.date(2012, month, 1)\n",
    "        writer.writerow([date.strftime('%Y-%m-%d'), record[month-1]])"
   ]
  }
 ],
 "metadata": {
  "kernelspec": {
   "display_name": "Python 3 (ipykernel)",
   "language": "python",
   "name": "python3"
  },
  "language_info": {
   "codemirror_mode": {
    "name": "ipython",
    "version": 3
   },
   "file_extension": ".py",
   "mimetype": "text/x-python",
   "name": "python",
   "nbconvert_exporter": "python",
   "pygments_lexer": "ipython3",
   "version": "3.9.18"
  }
 },
 "nbformat": 4,
 "nbformat_minor": 5
}
