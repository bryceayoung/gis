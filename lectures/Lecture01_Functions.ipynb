{
 "cells": [
  {
   "cell_type": "markdown",
   "id": "afdc26f6-cf86-49e6-a6cd-ec9cce39f710",
   "metadata": {},
   "source": [
    "## Let's look at some functions"
   ]
  },
  {
   "cell_type": "markdown",
   "id": "90d63425-a335-4787-a026-965119f4b0d6",
   "metadata": {},
   "source": [
    "We write functions when we need to do a task over and over again"
   ]
  },
  {
   "cell_type": "code",
   "execution_count": 5,
   "id": "19769e0a-22e9-4e53-9e20-42e5dcedc908",
   "metadata": {},
   "outputs": [],
   "source": [
    "def power(base, exponent):\n",
    "    result = base ** exponent\n",
    "    return result"
   ]
  },
  {
   "cell_type": "code",
   "execution_count": 6,
   "id": "2c1e2593-b830-4b33-a9b4-ccd5cf592e45",
   "metadata": {},
   "outputs": [
    {
     "data": {
      "text/plain": [
       "8"
      ]
     },
     "execution_count": 6,
     "metadata": {},
     "output_type": "execute_result"
    }
   ],
   "source": [
    "power(2, 3)"
   ]
  },
  {
   "cell_type": "markdown",
   "id": "cb2aa06c-17d9-49e4-9b92-c00ba382dc4b",
   "metadata": {},
   "source": [
    "Worth noting is that the variables `exponent` and `result` do not exist outside of the function, as shown below"
   ]
  },
  {
   "cell_type": "code",
   "execution_count": 4,
   "id": "faca9acd-8969-4f6e-a4b3-3a70a5f47f38",
   "metadata": {},
   "outputs": [
    {
     "ename": "NameError",
     "evalue": "name 'exponent' is not defined",
     "output_type": "error",
     "traceback": [
      "\u001b[1;31m---------------------------------------------------------------------------\u001b[0m",
      "\u001b[1;31mNameError\u001b[0m                                 Traceback (most recent call last)",
      "Cell \u001b[1;32mIn[4], line 1\u001b[0m\n\u001b[1;32m----> 1\u001b[0m \u001b[43mexponent\u001b[49m\n",
      "\u001b[1;31mNameError\u001b[0m: name 'exponent' is not defined"
     ]
    }
   ],
   "source": [
    "exponent"
   ]
  },
  {
   "cell_type": "markdown",
   "id": "d2e5f0ad-07a0-46e4-8f97-3766ab5aaeb9",
   "metadata": {},
   "source": [
    "It's good to name the function's variables/arguments explicitly because they often appear in error messages, as shown below."
   ]
  },
  {
   "cell_type": "code",
   "execution_count": 7,
   "id": "bb2265f6-cfb1-4623-bb24-7cc2d42b0a26",
   "metadata": {},
   "outputs": [
    {
     "ename": "TypeError",
     "evalue": "power() missing 2 required positional arguments: 'base' and 'exponent'",
     "output_type": "error",
     "traceback": [
      "\u001b[1;31m---------------------------------------------------------------------------\u001b[0m",
      "\u001b[1;31mTypeError\u001b[0m                                 Traceback (most recent call last)",
      "Cell \u001b[1;32mIn[7], line 1\u001b[0m\n\u001b[1;32m----> 1\u001b[0m \u001b[43mpower\u001b[49m\u001b[43m(\u001b[49m\u001b[43m)\u001b[49m\n",
      "\u001b[1;31mTypeError\u001b[0m: power() missing 2 required positional arguments: 'base' and 'exponent'"
     ]
    }
   ],
   "source": [
    "power()"
   ]
  },
  {
   "cell_type": "markdown",
   "id": "8c18ad31-81ff-47a2-a23d-31e623885051",
   "metadata": {},
   "source": [
    "Let's define a function that converts degrees, minutes, seconds to decimal degrees"
   ]
  },
  {
   "cell_type": "code",
   "execution_count": 16,
   "id": "48d79236-cd32-4d98-bb84-817831ff56ec",
   "metadata": {},
   "outputs": [],
   "source": [
    "def dms2dd(d, m, s, sigfig = 5):\n",
    "    dd = d + (m/60) + (s/3600) # 60 min in a degree, 3600 seconds in a degree\n",
    "    return round(dd, sigfig)"
   ]
  },
  {
   "cell_type": "code",
   "execution_count": 19,
   "id": "7e9c58b4-b481-4c98-9ffb-989788325ee8",
   "metadata": {},
   "outputs": [
    {
     "data": {
      "text/plain": [
       "45.75361"
      ]
     },
     "execution_count": 19,
     "metadata": {},
     "output_type": "execute_result"
    }
   ],
   "source": [
    "dms2dd(45, 45, 13)"
   ]
  },
  {
   "cell_type": "markdown",
   "id": "058a140e-ce2b-40fc-8656-ac9c71593efa",
   "metadata": {},
   "source": [
    "## Conditional Expressions"
   ]
  },
  {
   "cell_type": "markdown",
   "id": "9329b759-2589-4674-8f4c-86af2e787417",
   "metadata": {},
   "source": [
    "`If / Else` statements are conditional expressions and determine the **way the code runs**, as well as the **output** based on whether the input meets certain conditions. See example below."
   ]
  },
  {
   "cell_type": "code",
   "execution_count": 13,
   "id": "3e51cbfc-4b22-433a-8b52-734029c954fe",
   "metadata": {},
   "outputs": [
    {
     "name": "stdout",
     "output_type": "stream",
     "text": [
      "3 is less than 5\n"
     ]
    }
   ],
   "source": [
    "x = 3\n",
    "\n",
    "if x < 5:\n",
    "    print(f'{x} is less than 5')\n",
    "else:\n",
    "    print(f'{x} is greater than 5')"
   ]
  },
  {
   "cell_type": "code",
   "execution_count": 15,
   "id": "0b5e587d-282b-41f4-994d-020e7269740f",
   "metadata": {},
   "outputs": [
    {
     "name": "stdout",
     "output_type": "stream",
     "text": [
      "1 is small\n",
      "2 is small\n",
      "3 is big\n"
     ]
    }
   ],
   "source": [
    "numbers = [1,2,3]\n",
    "\n",
    "for number in numbers:\n",
    "    if number <= 2:\n",
    "        print(f'{number} is small')\n",
    "    else:\n",
    "        print(f'{number} is big')"
   ]
  },
  {
   "cell_type": "markdown",
   "id": "99ab0f6b-cba5-4511-a663-ab84dcda6cb4",
   "metadata": {},
   "source": [
    "## Tests for Identity vs Tests for Membership"
   ]
  },
  {
   "cell_type": "markdown",
   "id": "d72fb990-1b05-4eca-bd1d-7e9f6f7fb919",
   "metadata": {},
   "source": [
    "Recall the list `numbers` we created earlier"
   ]
  },
  {
   "cell_type": "code",
   "execution_count": 21,
   "id": "68f5b473-de92-44ee-af5d-5afa8f0a1582",
   "metadata": {},
   "outputs": [
    {
     "data": {
      "text/plain": [
       "[1, 2, 3]"
      ]
     },
     "execution_count": 21,
     "metadata": {},
     "output_type": "execute_result"
    }
   ],
   "source": [
    "numbers"
   ]
  },
  {
   "cell_type": "code",
   "execution_count": 34,
   "id": "cb5f42fc-8194-4be3-9da6-d711c52f0085",
   "metadata": {},
   "outputs": [],
   "source": [
    "x = numbers[1] + numbers[2]\n",
    "y = 5.0"
   ]
  },
  {
   "cell_type": "code",
   "execution_count": 35,
   "id": "d392e8ca-5bf1-4c10-8d79-bffdcae378fe",
   "metadata": {},
   "outputs": [
    {
     "data": {
      "text/plain": [
       "False"
      ]
     },
     "execution_count": 35,
     "metadata": {},
     "output_type": "execute_result"
    }
   ],
   "source": [
    "# Test for identity\n",
    "x is y"
   ]
  },
  {
   "cell_type": "code",
   "execution_count": 36,
   "id": "1728b184-af44-40d4-8916-e594b6719a6e",
   "metadata": {},
   "outputs": [
    {
     "data": {
      "text/plain": [
       "True"
      ]
     },
     "execution_count": 36,
     "metadata": {},
     "output_type": "execute_result"
    }
   ],
   "source": [
    "# Test for equality\n",
    "x == y"
   ]
  },
  {
   "cell_type": "code",
   "execution_count": 29,
   "id": "559e4615-c9fc-4175-ad91-f0c0b2f11f62",
   "metadata": {},
   "outputs": [
    {
     "data": {
      "text/plain": [
       "False"
      ]
     },
     "execution_count": 29,
     "metadata": {},
     "output_type": "execute_result"
    }
   ],
   "source": [
    "# Test for membership\n",
    "x in numbers"
   ]
  }
 ],
 "metadata": {
  "kernelspec": {
   "display_name": "Python 3 (ipykernel)",
   "language": "python",
   "name": "python3"
  },
  "language_info": {
   "codemirror_mode": {
    "name": "ipython",
    "version": 3
   },
   "file_extension": ".py",
   "mimetype": "text/x-python",
   "name": "python",
   "nbconvert_exporter": "python",
   "pygments_lexer": "ipython3",
   "version": "3.9.5"
  }
 },
 "nbformat": 4,
 "nbformat_minor": 5
}
