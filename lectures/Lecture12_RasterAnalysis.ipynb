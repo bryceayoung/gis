{
 "cells": [
  {
   "cell_type": "markdown",
   "id": "f6b74b14",
   "metadata": {},
   "source": [
    "# Scaling-Up Raster Data Analysis\n",
    "\n",
    "*March 12, 2024*"
   ]
  },
  {
   "cell_type": "markdown",
   "id": "9bf55c06",
   "metadata": {},
   "source": [
    "```sh\n",
    "pip install dask numpy scipy\n",
    "```\n",
    "\n",
    "[**Download the dataset here and it make it accessible to this notebook.**](http://files.ntsg.umt.edu/data/GIS_Programming/data/MOD17A3HGF_C61_h19v08_annual_NPP_gCm-2yr-1_2001-2021.h5)"
   ]
  },
  {
   "cell_type": "code",
   "execution_count": 2,
   "id": "42a9394b",
   "metadata": {},
   "outputs": [],
   "source": [
    "import h5py\n",
    "\n",
    "hdf = h5py.File('data/MOD17A3HGF_C61_h19v08_annual_NPP_gCm-2yr-1_2001-2021.h5', 'r')"
   ]
  },
  {
   "cell_type": "code",
   "execution_count": 3,
   "id": "bc21242a-6f99-4715-89db-e89a56342a03",
   "metadata": {},
   "outputs": [
    {
     "data": {
      "text/plain": [
       "<KeysViewHDF5 ['NPP']>"
      ]
     },
     "execution_count": 3,
     "metadata": {},
     "output_type": "execute_result"
    }
   ],
   "source": [
    "hdf.keys()"
   ]
  },
  {
   "cell_type": "code",
   "execution_count": 4,
   "id": "005f196b-1132-4812-97e9-05c2781a8a66",
   "metadata": {},
   "outputs": [
    {
     "data": {
      "text/plain": [
       "<HDF5 dataset \"NPP\": shape (21, 2400, 2400), type \"<i2\">"
      ]
     },
     "execution_count": 4,
     "metadata": {},
     "output_type": "execute_result"
    }
   ],
   "source": [
    "hdf['NPP']"
   ]
  },
  {
   "cell_type": "code",
   "execution_count": 5,
   "id": "1fbc4bd0-d8ab-4ea7-8162-1c3afcaabbee",
   "metadata": {},
   "outputs": [
    {
     "data": {
      "text/plain": [
       "<KeysViewHDF5 ['source', 'units']>"
      ]
     },
     "execution_count": 5,
     "metadata": {},
     "output_type": "execute_result"
    }
   ],
   "source": [
    "hdf['NPP'].attrs.keys()"
   ]
  },
  {
   "cell_type": "code",
   "execution_count": 14,
   "id": "c0ffba0d-7892-4676-9066-2c9d6d3bfa1d",
   "metadata": {},
   "outputs": [
    {
     "data": {
      "text/plain": [
       "(2400, 2400)"
      ]
     },
     "execution_count": 14,
     "metadata": {},
     "output_type": "execute_result"
    }
   ],
   "source": [
    "npp = hdf['NPP'][0].astype(np.float32) # First year of data (out of 21 years)\n",
    "npp.shape                              # Verify this with shape"
   ]
  },
  {
   "cell_type": "code",
   "execution_count": 8,
   "id": "04981094-2bfd-421f-9273-cef08d299e3e",
   "metadata": {},
   "outputs": [
    {
     "data": {
      "text/plain": [
       "-9999"
      ]
     },
     "execution_count": 8,
     "metadata": {},
     "output_type": "execute_result"
    }
   ],
   "source": [
    "npp.min()"
   ]
  },
  {
   "cell_type": "code",
   "execution_count": 12,
   "id": "8e873a48-8cdf-46a0-9610-42369f684b4b",
   "metadata": {},
   "outputs": [
    {
     "data": {
      "text/plain": [
       "array([[False, False, False, ..., False, False, False],\n",
       "       [False, False, False, ..., False, False, False],\n",
       "       [False, False, False, ..., False, False, False],\n",
       "       ...,\n",
       "       [False, False, False, ..., False, False, False],\n",
       "       [False, False, False, ..., False, False, False],\n",
       "       [False, False, False, ..., False, False, False]])"
      ]
     },
     "execution_count": 12,
     "metadata": {},
     "output_type": "execute_result"
    }
   ],
   "source": [
    "npp == -9999"
   ]
  },
  {
   "cell_type": "code",
   "execution_count": 15,
   "id": "f95975cc-96e1-4a72-9c7c-1b7e5ea564f1",
   "metadata": {},
   "outputs": [],
   "source": [
    "npp[npp == -9999] = np.nan # Convert -9999 values to NaN"
   ]
  },
  {
   "cell_type": "markdown",
   "id": "c2808e8d-68de-43bf-95b0-d79682c13e33",
   "metadata": {},
   "source": [
    "## Introduction\n",
    "\n",
    "- A good chip circa 2004: [https://en.wikipedia.org/wiki/Pentium_4](https://en.wikipedia.org/wiki/Pentium_4)\n",
    "- A good chip circa 2024: [https://ark.intel.com/content/www/us/en/ark/products/236781/intel-core-i7-processor-14700-33m-cache-up-to-5-40-ghz.html](https://ark.intel.com/content/www/us/en/ark/products/236781/intel-core-i7-processor-14700-33m-cache-up-to-5-40-ghz.html)"
   ]
  },
  {
   "cell_type": "markdown",
   "id": "97ade19a",
   "metadata": {},
   "source": [
    "## Bottlenecks in Computing"
   ]
  },
  {
   "cell_type": "markdown",
   "id": "ed3887c1",
   "metadata": {},
   "source": [
    "![](Moore.png)\n",
    "\n",
    "*Image courtesy of XSEDE*\n",
    "\n",
    "[Quantum tunneling is one of the reasons it's hard to make smaller and smaller transistors.](https://en.wikipedia.org/wiki/Quantum_tunnelling#Electronics)"
   ]
  },
  {
   "cell_type": "markdown",
   "id": "25f11c33",
   "metadata": {},
   "source": [
    "---\n",
    "\n",
    "## Motivation\n",
    "\n",
    "Before we start working with huge raster datasets, let's explore some of the basic tools involved in parallel processing."
   ]
  },
  {
   "cell_type": "markdown",
   "id": "c3e68d67-590f-4e3c-9777-5bf4b0b66749",
   "metadata": {},
   "source": [
    "#### PARALLEL PROCESSING!!!!!!!!!!!!"
   ]
  },
  {
   "cell_type": "code",
   "execution_count": 17,
   "id": "ca23da2d-e4dc-4db0-882d-bb20005ff2e7",
   "metadata": {},
   "outputs": [
    {
     "data": {
      "text/plain": [
       "array([10, 11, 12, 13, 14, 15, 16, 17, 18, 19, 20, 21, 22, 23, 24, 25, 26,\n",
       "       27, 28, 29, 30, 31, 32, 33, 34, 35, 36, 37, 38, 39, 40, 41, 42, 43,\n",
       "       44, 45, 46, 47, 48, 49])"
      ]
     },
     "execution_count": 17,
     "metadata": {},
     "output_type": "execute_result"
    }
   ],
   "source": [
    "my_numbers = np.arange(10, 50)\n",
    "my_numbers"
   ]
  },
  {
   "cell_type": "code",
   "execution_count": 19,
   "id": "929949c2-e20c-4e56-8880-fb7745e98a81",
   "metadata": {},
   "outputs": [
    {
     "data": {
      "text/plain": [
       "<map at 0x255e46d8e20>"
      ]
     },
     "execution_count": 19,
     "metadata": {},
     "output_type": "execute_result"
    }
   ],
   "source": [
    "map(str, my_numbers)"
   ]
  },
  {
   "cell_type": "code",
   "execution_count": 22,
   "id": "a84876a1-cedd-4615-b8e6-6087d12df895",
   "metadata": {
    "collapsed": true,
    "jupyter": {
     "outputs_hidden": true
    }
   },
   "outputs": [
    {
     "data": {
      "text/plain": [
       "['10',\n",
       " '11',\n",
       " '12',\n",
       " '13',\n",
       " '14',\n",
       " '15',\n",
       " '16',\n",
       " '17',\n",
       " '18',\n",
       " '19',\n",
       " '20',\n",
       " '21',\n",
       " '22',\n",
       " '23',\n",
       " '24',\n",
       " '25',\n",
       " '26',\n",
       " '27',\n",
       " '28',\n",
       " '29',\n",
       " '30',\n",
       " '31',\n",
       " '32',\n",
       " '33',\n",
       " '34',\n",
       " '35',\n",
       " '36',\n",
       " '37',\n",
       " '38',\n",
       " '39',\n",
       " '40',\n",
       " '41',\n",
       " '42',\n",
       " '43',\n",
       " '44',\n",
       " '45',\n",
       " '46',\n",
       " '47',\n",
       " '48',\n",
       " '49']"
      ]
     },
     "execution_count": 22,
     "metadata": {},
     "output_type": "execute_result"
    }
   ],
   "source": [
    "list(map(str, my_numbers)) # Give me a list of these numbers converted to strings"
   ]
  },
  {
   "cell_type": "code",
   "execution_count": 16,
   "id": "2459ac93",
   "metadata": {},
   "outputs": [],
   "source": [
    "def factorial(n):\n",
    "    result = 1\n",
    "    for i in range(n, 1, -1):\n",
    "        result = result * i\n",
    "    return result"
   ]
  },
  {
   "cell_type": "code",
   "execution_count": 26,
   "id": "32808034-281d-44a9-8919-1264dc411126",
   "metadata": {},
   "outputs": [
    {
     "name": "stdout",
     "output_type": "stream",
     "text": [
      "640 ns ± 65.5 ns per loop (mean ± std. dev. of 7 runs, 100 loops each)\n"
     ]
    }
   ],
   "source": [
    "%%timeit -n 100 #Magic function\n",
    "\n",
    "factorial(5)"
   ]
  },
  {
   "cell_type": "code",
   "execution_count": 32,
   "id": "8a4747e4",
   "metadata": {},
   "outputs": [
    {
     "data": {
      "text/plain": [
       "Text(0, 0.5, 'Execution Time (secs)')"
      ]
     },
     "execution_count": 32,
     "metadata": {},
     "output_type": "execute_result"
    },
    {
     "data": {
      "image/png": "[encoded data removed]",
      "text/plain": [
       "<Figure size 640x480 with 1 Axes>"
      ]
     },
     "metadata": {},
     "output_type": "display_data"
    }
   ],
   "source": [
    "import dask\n",
    "import numpy as np\n",
    "import matplotlib.pyplot as plt\n",
    "import timeit\n",
    "\n",
    "times = []\n",
    "for n in my_numbers:\n",
    "    t = timeit.timeit(f\"factorial({n})\", globals = globals(), number = 1000)\n",
    "    times.append(t)\n",
    "    \n",
    "plt.bar(my_numbers, times)\n",
    "plt.xlabel('Number of Values')\n",
    "plt.ylabel('Execution Time (secs)')"
   ]
  },
  {
   "cell_type": "markdown",
   "id": "f92d61f2-fd24-4389-b3b2-a1ccced037bd",
   "metadata": {},
   "source": [
    "---\n",
    "\n",
    "## Concurrent Processes"
   ]
  },
  {
   "cell_type": "code",
   "execution_count": 35,
   "id": "5b3c3494-9525-45f8-ad4d-38a02f66a6f9",
   "metadata": {},
   "outputs": [],
   "source": [
    "myfunc = lambda n: -1 ** n # -1 raised to the nth power"
   ]
  },
  {
   "cell_type": "code",
   "execution_count": 36,
   "id": "49132378-1b3c-4a3d-a0a2-df30c6eceff7",
   "metadata": {},
   "outputs": [
    {
     "data": {
      "text/plain": [
       "-1"
      ]
     },
     "execution_count": 36,
     "metadata": {},
     "output_type": "execute_result"
    }
   ],
   "source": [
    "myfunc(5)"
   ]
  },
  {
   "cell_type": "code",
   "execution_count": 39,
   "id": "c0571551-9f19-4982-a6d6-491c3de2e00e",
   "metadata": {},
   "outputs": [
    {
     "data": {
      "text/plain": [
       "400000000"
      ]
     },
     "execution_count": 39,
     "metadata": {},
     "output_type": "execute_result"
    }
   ],
   "source": [
    "# Create a list of 400,000,000 random integers (uint8 for data saving)\n",
    "np.random.seed(42)\n",
    "numbers = np.random.randint(low = 2, high = 200, size = int(4e8), dtype = np.uint8)\n",
    "numbers.size"
   ]
  },
  {
   "cell_type": "code",
   "execution_count": 40,
   "id": "bd36b1b3-5a20-4c5d-87cd-1db6c5dc173c",
   "metadata": {},
   "outputs": [],
   "source": [
    "numbers = numbers.reshape((20000, 20000))"
   ]
  },
  {
   "cell_type": "code",
   "execution_count": 41,
   "id": "24e3f46f-5f95-4547-ba6d-daecdfbc9473",
   "metadata": {},
   "outputs": [
    {
     "data": {
      "text/plain": [
       "array([114,  88, 136,  26,   3, 149, 112,  90, 109,   7,  50, 143,  76,\n",
       "       163,  89, 136,  60, 102, 164, 158,  75,  95, 104, 171, 183,  37,\n",
       "        73,  13,  76, 189,  12,  74,  95,  16, 152,  61, 191,   2, 195,\n",
       "       118, 191,  51,  25, 176,  76,   3, 191, 141,  80, 160,  52,  31,\n",
       "        53, 109,   9,  99,  56, 166, 133,   6, 183,  65, 125, 170, 153,\n",
       "       199, 127, 121, 132,  46,  13,  15,  39,  52,  17, 138, 157, 136,\n",
       "       164,  42, 176,  22, 122, 169,  45,  74,  85, 117, 168,  58, 169,\n",
       "        18,  19,  87, 103,   5, 133,  43,  90,  36], dtype=uint8)"
      ]
     },
     "execution_count": 41,
     "metadata": {},
     "output_type": "execute_result"
    }
   ],
   "source": [
    "test = numbers.ravel()[100:200]\n",
    "test"
   ]
  },
  {
   "cell_type": "code",
   "execution_count": 44,
   "id": "5fcfd814-8ef9-47b4-babc-821039c16f2d",
   "metadata": {},
   "outputs": [
    {
     "name": "stdout",
     "output_type": "stream",
     "text": [
      "16 µs ± 5.78 µs per loop (mean ± std. dev. of 10 runs, 1,000 loops each)\n"
     ]
    }
   ],
   "source": [
    "%%timeit -n 1000 -r 10\n",
    "\n",
    "# Below is the np equivalent of `map(myfunc, test)`\n",
    "np.apply_along_axis(myfunc, 0, test)\n",
    "\n",
    "# The result is how long it will take 1 CORE to do what we're asking it"
   ]
  },
  {
   "cell_type": "code",
   "execution_count": 45,
   "id": "32c5748d-bb03-47ff-a452-c4c9199e8598",
   "metadata": {},
   "outputs": [
    {
     "data": {
      "text/plain": [
       "120.0"
      ]
     },
     "execution_count": 45,
     "metadata": {},
     "output_type": "execute_result"
    }
   ],
   "source": [
    "(30e-6/100) * numbers.size # This is how long it will theoretically take for 400,000,000 numbers"
   ]
  },
  {
   "cell_type": "code",
   "execution_count": 46,
   "id": "4877e37a-0513-4dca-b65a-5466ef87a588",
   "metadata": {},
   "outputs": [],
   "source": [
    "import dask.array as da"
   ]
  },
  {
   "cell_type": "code",
   "execution_count": 47,
   "id": "d4f60e81-37e3-432c-9773-cc7be195198b",
   "metadata": {},
   "outputs": [
    {
     "data": {
      "text/html": [
       "<table>\n",
       "    <tr>\n",
       "        <td>\n",
       "            <table style=\"border-collapse: collapse;\">\n",
       "                <thead>\n",
       "                    <tr>\n",
       "                        <td> </td>\n",
       "                        <th> Array </th>\n",
       "                        <th> Chunk </th>\n",
       "                    </tr>\n",
       "                </thead>\n",
       "                <tbody>\n",
       "                    \n",
       "                    <tr>\n",
       "                        <th> Bytes </th>\n",
       "                        <td> 381.47 MiB </td>\n",
       "                        <td> 127.99 MiB </td>\n",
       "                    </tr>\n",
       "                    \n",
       "                    <tr>\n",
       "                        <th> Shape </th>\n",
       "                        <td> (20000, 20000) </td>\n",
       "                        <td> (11585, 11585) </td>\n",
       "                    </tr>\n",
       "                    <tr>\n",
       "                        <th> Dask graph </th>\n",
       "                        <td colspan=\"2\"> 4 chunks in 1 graph layer </td>\n",
       "                    </tr>\n",
       "                    <tr>\n",
       "                        <th> Data type </th>\n",
       "                        <td colspan=\"2\"> uint8 numpy.ndarray </td>\n",
       "                    </tr>\n",
       "                </tbody>\n",
       "            </table>\n",
       "        </td>\n",
       "        <td>\n",
       "        <svg width=\"170\" height=\"170\" style=\"stroke:rgb(0,0,0);stroke-width:1\" >\n",
       "\n",
       "  <!-- Horizontal lines -->\n",
       "  <line x1=\"0\" y1=\"0\" x2=\"120\" y2=\"0\" style=\"stroke-width:2\" />\n",
       "  <line x1=\"0\" y1=\"69\" x2=\"120\" y2=\"69\" />\n",
       "  <line x1=\"0\" y1=\"120\" x2=\"120\" y2=\"120\" style=\"stroke-width:2\" />\n",
       "\n",
       "  <!-- Vertical lines -->\n",
       "  <line x1=\"0\" y1=\"0\" x2=\"0\" y2=\"120\" style=\"stroke-width:2\" />\n",
       "  <line x1=\"69\" y1=\"0\" x2=\"69\" y2=\"120\" />\n",
       "  <line x1=\"120\" y1=\"0\" x2=\"120\" y2=\"120\" style=\"stroke-width:2\" />\n",
       "\n",
       "  <!-- Colored Rectangle -->\n",
       "  <polygon points=\"0.0,0.0 120.0,0.0 120.0,120.0 0.0,120.0\" style=\"fill:#ECB172A0;stroke-width:0\"/>\n",
       "\n",
       "  <!-- Text -->\n",
       "  <text x=\"60.000000\" y=\"140.000000\" font-size=\"1.0rem\" font-weight=\"100\" text-anchor=\"middle\" >20000</text>\n",
       "  <text x=\"140.000000\" y=\"60.000000\" font-size=\"1.0rem\" font-weight=\"100\" text-anchor=\"middle\" transform=\"rotate(-90,140.000000,60.000000)\">20000</text>\n",
       "</svg>\n",
       "        </td>\n",
       "    </tr>\n",
       "</table>"
      ],
      "text/plain": [
       "dask.array<array, shape=(20000, 20000), dtype=uint8, chunksize=(11585, 11585), chunktype=numpy.ndarray>"
      ]
     },
     "execution_count": 47,
     "metadata": {},
     "output_type": "execute_result"
    }
   ],
   "source": [
    "d_numbers = da.from_array(numbers)\n",
    "d_numbers"
   ]
  },
  {
   "cell_type": "markdown",
   "id": "76562eaa-74bf-4ee3-b5c9-2d95fb981c04",
   "metadata": {},
   "source": [
    "#### Based on how many cores and how much memory you have, dask tells you the best way to break up your data for processing!"
   ]
  },
  {
   "cell_type": "code",
   "execution_count": 48,
   "id": "7685dd52-ace0-4912-b447-4753776e6bd9",
   "metadata": {},
   "outputs": [
    {
     "data": {
      "text/html": [
       "<table>\n",
       "    <tr>\n",
       "        <td>\n",
       "            <table style=\"border-collapse: collapse;\">\n",
       "                <thead>\n",
       "                    <tr>\n",
       "                        <td> </td>\n",
       "                        <th> Array </th>\n",
       "                        <th> Chunk </th>\n",
       "                    </tr>\n",
       "                </thead>\n",
       "                <tbody>\n",
       "                    \n",
       "                    <tr>\n",
       "                        <th> Bytes </th>\n",
       "                        <td> 381.47 MiB </td>\n",
       "                        <td> 95.37 MiB </td>\n",
       "                    </tr>\n",
       "                    \n",
       "                    <tr>\n",
       "                        <th> Shape </th>\n",
       "                        <td> (20000, 20000) </td>\n",
       "                        <td> (10000, 10000) </td>\n",
       "                    </tr>\n",
       "                    <tr>\n",
       "                        <th> Dask graph </th>\n",
       "                        <td colspan=\"2\"> 4 chunks in 2 graph layers </td>\n",
       "                    </tr>\n",
       "                    <tr>\n",
       "                        <th> Data type </th>\n",
       "                        <td colspan=\"2\"> uint8 numpy.ndarray </td>\n",
       "                    </tr>\n",
       "                </tbody>\n",
       "            </table>\n",
       "        </td>\n",
       "        <td>\n",
       "        <svg width=\"170\" height=\"170\" style=\"stroke:rgb(0,0,0);stroke-width:1\" >\n",
       "\n",
       "  <!-- Horizontal lines -->\n",
       "  <line x1=\"0\" y1=\"0\" x2=\"120\" y2=\"0\" style=\"stroke-width:2\" />\n",
       "  <line x1=\"0\" y1=\"60\" x2=\"120\" y2=\"60\" />\n",
       "  <line x1=\"0\" y1=\"120\" x2=\"120\" y2=\"120\" style=\"stroke-width:2\" />\n",
       "\n",
       "  <!-- Vertical lines -->\n",
       "  <line x1=\"0\" y1=\"0\" x2=\"0\" y2=\"120\" style=\"stroke-width:2\" />\n",
       "  <line x1=\"60\" y1=\"0\" x2=\"60\" y2=\"120\" />\n",
       "  <line x1=\"120\" y1=\"0\" x2=\"120\" y2=\"120\" style=\"stroke-width:2\" />\n",
       "\n",
       "  <!-- Colored Rectangle -->\n",
       "  <polygon points=\"0.0,0.0 120.0,0.0 120.0,120.0 0.0,120.0\" style=\"fill:#ECB172A0;stroke-width:0\"/>\n",
       "\n",
       "  <!-- Text -->\n",
       "  <text x=\"60.000000\" y=\"140.000000\" font-size=\"1.0rem\" font-weight=\"100\" text-anchor=\"middle\" >20000</text>\n",
       "  <text x=\"140.000000\" y=\"60.000000\" font-size=\"1.0rem\" font-weight=\"100\" text-anchor=\"middle\" transform=\"rotate(-90,140.000000,60.000000)\">20000</text>\n",
       "</svg>\n",
       "        </td>\n",
       "    </tr>\n",
       "</table>"
      ],
      "text/plain": [
       "dask.array<rechunk-merge, shape=(20000, 20000), dtype=uint8, chunksize=(10000, 10000), chunktype=numpy.ndarray>"
      ]
     },
     "execution_count": 48,
     "metadata": {},
     "output_type": "execute_result"
    }
   ],
   "source": [
    "d_numbers = d_numbers.rechunk(balance = True) # This will break up `numbers` into chunks of equal size\n",
    "d_numbers"
   ]
  },
  {
   "cell_type": "code",
   "execution_count": 49,
   "id": "bc377f08-5425-4fc0-94b5-5761ca94b2c9",
   "metadata": {},
   "outputs": [
    {
     "name": "stdout",
     "output_type": "stream",
     "text": [
      "1.24 s ± 11.9 ms per loop (mean ± std. dev. of 7 runs, 1 loop each)\n"
     ]
    }
   ],
   "source": [
    "%%timeit -n 1\n",
    "\n",
    "np.apply_along_axis(myfunc, 0, numbers)"
   ]
  },
  {
   "cell_type": "markdown",
   "id": "0e47482c-df08-4e33-b84e-3b204bd7552f",
   "metadata": {},
   "source": [
    "#### WOW! SUPER FAST! Especially compared to the estimated 2 minutes!"
   ]
  },
  {
   "cell_type": "code",
   "execution_count": 50,
   "id": "3d3d0c4d-18c4-448c-a67f-43d495a6ee0f",
   "metadata": {},
   "outputs": [
    {
     "name": "stdout",
     "output_type": "stream",
     "text": [
      "461 ms ± 156 ms per loop (mean ± std. dev. of 7 runs, 1 loop each)\n"
     ]
    }
   ],
   "source": [
    "%%timeit -n 1\n",
    "\n",
    "# map(myfunc, d_numbers)\n",
    "result = d_numbers.map_blocks(myfunc)\n",
    "result.compute() # This is where it actually runs"
   ]
  },
  {
   "cell_type": "code",
   "execution_count": 52,
   "id": "778dd6e6-18c1-4059-be67-9125d0809162",
   "metadata": {},
   "outputs": [
    {
     "data": {
      "text/plain": [
       "2.689804772234273"
      ]
     },
     "execution_count": 52,
     "metadata": {},
     "output_type": "execute_result"
    }
   ],
   "source": [
    "1.24 / 461e-3 # We see through this computation that the chunking is 2.7 x faster"
   ]
  },
  {
   "cell_type": "markdown",
   "id": "e70645f6-ed5b-4cbb-99b0-3d43e9f2aec2",
   "metadata": {},
   "source": [
    "---\n",
    "\n",
    "## Bottlenecks in Array Processing"
   ]
  },
  {
   "cell_type": "code",
   "execution_count": 53,
   "id": "68e404c0-4bf8-44ab-8baa-1a1ac7f302b2",
   "metadata": {},
   "outputs": [
    {
     "data": {
      "text/plain": [
       "120960000"
      ]
     },
     "execution_count": 53,
     "metadata": {},
     "output_type": "execute_result"
    }
   ],
   "source": [
    "21 * 2400 * 2400"
   ]
  },
  {
   "cell_type": "code",
   "execution_count": 54,
   "id": "6d90b822-60e7-488c-b9e9-c6514965a630",
   "metadata": {},
   "outputs": [
    {
     "data": {
      "text/plain": [
       "120960000"
      ]
     },
     "execution_count": 54,
     "metadata": {},
     "output_type": "execute_result"
    }
   ],
   "source": [
    "npp.size * 21"
   ]
  },
  {
   "cell_type": "code",
   "execution_count": 55,
   "id": "32ca262e-4724-455a-9433-8d7e26e8d52f",
   "metadata": {},
   "outputs": [
    {
     "data": {
      "text/plain": [
       "241.92"
      ]
     },
     "execution_count": 55,
     "metadata": {},
     "output_type": "execute_result"
    }
   ],
   "source": [
    "num_bits = ((21 * 2400 * 2400) * 16)\n",
    "num_bytes = num_bits / 8 # Convert to bytes (8 bits)\n",
    "num_mb = num_bytes / 1e6 # Convert to megabytes (1,000,000 bytes)\n",
    "num_mb"
   ]
  },
  {
   "cell_type": "markdown",
   "id": "6112434a",
   "metadata": {},
   "source": [
    "---\n",
    "\n",
    "## Analyzing Large Raster Data Cubes"
   ]
  },
  {
   "cell_type": "code",
   "execution_count": 56,
   "id": "1d2da831",
   "metadata": {},
   "outputs": [
    {
     "data": {
      "text/plain": [
       "(21, 2400, 2400)"
      ]
     },
     "execution_count": 56,
     "metadata": {},
     "output_type": "execute_result"
    }
   ],
   "source": [
    "import h5py\n",
    "\n",
    "hdf = h5py.File('data/MOD17A3HGF_C61_h19v08_annual_NPP_gCm-2yr-1_2001-2021.h5', 'r')\n",
    "npp = hdf['NPP'][:]\n",
    "hdf.close()\n",
    "\n",
    "npp.shape"
   ]
  },
  {
   "cell_type": "code",
   "execution_count": 57,
   "id": "a7ce614d",
   "metadata": {},
   "outputs": [],
   "source": [
    "from scipy import stats\n",
    "\n",
    "def linear_trend(array, n_years = 21):\n",
    "    # linregress(x, y) takes two arguments: y is regressed on x\n",
    "    result = stats.linregress(np.arange(0, n_years), array)\n",
    "    return result[0] # Just the slope"
   ]
  },
  {
   "cell_type": "code",
   "execution_count": 62,
   "id": "4a9a5266-327d-4b61-b7b0-c27a272ccb74",
   "metadata": {},
   "outputs": [],
   "source": [
    " test1 = npp[:, 100, 100].shape # If we time the amount of time it will take for the whole dataset it's like 45 hours\n"
   ]
  },
  {
   "cell_type": "markdown",
   "id": "062908cf",
   "metadata": {},
   "source": [
    "### Estimating Time to Completion"
   ]
  },
  {
   "cell_type": "markdown",
   "id": "7d1f52f5",
   "metadata": {},
   "source": [
    "---"
   ]
  },
  {
   "cell_type": "markdown",
   "id": "e8546354",
   "metadata": {},
   "source": [
    "## Concurrency in Python"
   ]
  },
  {
   "cell_type": "markdown",
   "id": "0c172e5c",
   "metadata": {},
   "source": [
    "![](concurrency.jpg)\n",
    "\n",
    "*Image by Kelvin Wahome*"
   ]
  },
  {
   "cell_type": "markdown",
   "id": "1feeac03",
   "metadata": {},
   "source": [
    "### Independent Processes"
   ]
  },
  {
   "cell_type": "code",
   "execution_count": 63,
   "id": "15e95b3b-4a28-4412-b549-08ce551b17f7",
   "metadata": {},
   "outputs": [
    {
     "data": {
      "text/plain": [
       "<function __main__.linear_trend(array, n_years=21)>"
      ]
     },
     "execution_count": 63,
     "metadata": {},
     "output_type": "execute_result"
    }
   ],
   "source": [
    "linear_trend"
   ]
  },
  {
   "cell_type": "code",
   "execution_count": 65,
   "id": "99db8604-7486-42d3-8960-3ba5d0459daa",
   "metadata": {
    "collapsed": true,
    "jupyter": {
     "outputs_hidden": true
    }
   },
   "outputs": [
    {
     "data": {
      "text/plain": [
       "{'__name__': '__main__',\n",
       " '__doc__': 'Automatically created module for IPython interactive environment',\n",
       " '__package__': None,\n",
       " '__loader__': None,\n",
       " '__spec__': None,\n",
       " '__builtin__': <module 'builtins' (built-in)>,\n",
       " '__builtins__': <module 'builtins' (built-in)>,\n",
       " '_ih': ['',\n",
       "  \"import h5py\\n\\nhdf = h5py.File('data/MOD17A3HGF_C61_h19v08_annual_NPP_gCm-2yr-1_2001-2021.h5', 'r')\",\n",
       "  \"import h5py\\n\\nhdf = h5py.File('data/MOD17A3HGF_C61_h19v08_annual_NPP_gCm-2yr-1_2001-2021.h5', 'r')\",\n",
       "  'hdf.keys()',\n",
       "  \"hdf['NPP']\",\n",
       "  \"hdf['NPP'].attrs.keys()\",\n",
       "  \"npp = hdf['NPP'][0] # First year of data (out of 21 years)\",\n",
       "  \"npp = hdf['NPP'][0] # First year of data (out of 21 years)\\nnpp.shape           # Verify this with shape\",\n",
       "  'npp.min()',\n",
       "  'import dask\\nimport numpy as np\\nimport matplotlib.pyplot as plt\\nimport timeit\\n\\ntimes = []\\nfor n in my_numbers:\\n    t = timeit.timeit(f\"factorial({n})\", globals = globals(), number = 1000)\\n    times.append(t)\\n    \\npyplot.bar(my_numbers, times)\\npyplot.xlabel(\\'Number of Values\\')\\npyplot.ylabel(\\'Execution Time (secs)\\')',\n",
       "  'import dask\\nimport numpy as np\\nimport matplotlib.pyplot as plt\\nimport timeit\\n\\ntimes = []\\nfor n in my_numbers:\\n    t = timeit.timeit(f\"factorial({n})\", globals = globals(), number = 1000)\\n    times.append(t)\\n    \\nplt.bar(my_numbers, times)\\nplt.xlabel(\\'Number of Values\\')\\nplt.ylabel(\\'Execution Time (secs)\\')',\n",
       "  'npp[npp == -9999] = np.nan # Convert -9999 values to NaN',\n",
       "  'npp == -9999',\n",
       "  'npp[npp == -9999] = np.nan # Convert -9999 values to NaN',\n",
       "  \"npp = hdf['NPP'][0].astype(np.float32) # First year of data (out of 21 years)\\nnpp.shape                              # Verify this with shape\",\n",
       "  'npp[npp == -9999] = np.nan # Convert -9999 values to NaN',\n",
       "  'def factorial(n):\\n    result = 1\\n    for i in range(n, 1, -1):\\n        result = result * i\\n    return result',\n",
       "  'my_numbers = np.arange(10, 50)\\nmy_numbers',\n",
       "  'import dask\\nimport numpy as np\\nimport matplotlib.pyplot as plt\\nimport timeit\\n\\ntimes = []\\nfor n in my_numbers:\\n    t = timeit.timeit(f\"factorial({n})\", globals = globals(), number = 1000)\\n    times.append(t)\\n    \\nplt.bar(my_numbers, times)\\nplt.xlabel(\\'Number of Values\\')\\nplt.ylabel(\\'Execution Time (secs)\\')',\n",
       "  'map(str, my_numbers)',\n",
       "  'list(map(str, numbers))',\n",
       "  'list(map(str, my_numbers))',\n",
       "  'list(map(str, my_numbers)) # Give me a list of these numbers converted to strings',\n",
       "  \"# Magic commands\\nget_ipython().run_line_magic('%timeit', '-n 1000')\\n\\nfactorial(5)\",\n",
       "  \"# Magic commands\\nget_ipython().run_line_magic('%timeit', '-n 100')\\n\\nfactorial(5)\",\n",
       "  \"get_ipython().run_cell_magic('timeit', '-n 100', '\\\\nfactorial(5)\\\\n')\",\n",
       "  \"get_ipython().run_cell_magic('timeit', '-n 100 #Magic function', '\\\\nfactorial(5)\\\\n')\",\n",
       "  'import dask\\nimport numpy as np\\nimport matplotlib.pyplot as plt\\nimport timeit\\n\\ntimes = []\\nfor n in my_numbers:\\n    t = timeit.timeit(f\"factorial({n})\", globals = globals(), number = 1000)\\n    times.append(t)\\n    \\nplt.bar(my_numbers, times)\\nplt.xlabel(\\'Number of Values\\')\\nplt.ylabel(\\'Execution Time (secs)\\')',\n",
       "  'import dask\\nimport numpy as np\\nimport matplotlib.pyplot as plt\\nimport timeit\\n\\ntimes = []\\nfor n in my_numbers:\\n    t = timeit.timeit(f\"factorial({n})\", globals = globals(), number = 1000)\\n    times.append(t)\\n    \\nplt.bar(my_numbers, times)\\nplt.xlabel(\\'Number of Values\\')\\nplt.ylabel(\\'Execution Time (secs)\\')',\n",
       "  'import dask\\nimport numpy as np\\nimport matplotlib.pyplot as plt\\nimport timeit\\n\\ntimes = []\\nfor n in my_numbers:\\n    t = timeit.timeit(f\"factorial({n})\", globals = globals(), number = 1000)\\n    times.append(t)\\n    \\nplt.bar(my_numbers, times)\\nplt.xlabel(\\'Number of Values\\')\\nplt.ylabel(\\'Execution Time (secs)\\')',\n",
       "  'import dask\\nimport numpy as np\\nimport matplotlib.pyplot as plt\\nimport timeit\\n\\ntimes = []\\nfor n in my_numbers:\\n    t = timeit.timeit(f\"factorial({n})\", globals = globals(), number = 1000)\\n    times.append(t)\\n    \\nplt.bar(my_numbers, times)\\nplt.xlabel(\\'Number of Values\\')\\nplt.ylabel(\\'Execution Time (secs)\\')',\n",
       "  'import dask\\nimport numpy as np\\nimport matplotlib.pyplot as plt\\nimport timeit\\n\\ntimes = []\\nfor n in my_numbers:\\n    t = timeit.timeit(f\"factorial({n})\", globals = globals(), number = 1000)\\n    times.append(t)\\n    \\nplt.bar(my_numbers, times)\\nplt.xlabel(\\'Number of Values\\')\\nplt.ylabel(\\'Execution Time (secs)\\')',\n",
       "  'import dask\\nimport numpy as np\\nimport matplotlib.pyplot as plt\\nimport timeit\\n\\ntimes = []\\nfor n in my_numbers:\\n    t = timeit.timeit(f\"factorial({n})\", globals = globals(), number = 1000)\\n    times.append(t)\\n    \\nplt.bar(my_numbers, times)\\nplt.xlabel(\\'Number of Values\\')\\nplt.ylabel(\\'Execution Time (secs)\\')',\n",
       "  'myfunc = lambda n: -1 ** n # -1 raised to the nth power',\n",
       "  'myfunc = 5',\n",
       "  'myfunc = lambda n: -1 ** n # -1 raised to the nth power',\n",
       "  'myfunc(5)',\n",
       "  'numbers = np.random.randint(low = 2, high = 200, size = int(4e8))\\nnumbers.size',\n",
       "  'numbers = np.random.randint(low = 2, high = 200, size = int(4e8), dtype = np.uint8)\\nnumbers.size',\n",
       "  '# Create a list of 400,000,000 random integers (uint8 for data saving)\\nnp.random.seed(42)\\nnumbers = np.random.randint(low = 2, high = 200, size = int(4e8), dtype = np.uint8)\\nnumbers.size',\n",
       "  'numbers = numbers.reshape((20000, 20000))',\n",
       "  'test = numbers.ravel()[100:200]\\ntest',\n",
       "  \"get_ipython().run_cell_magic('timeit', '-n 1000 -r 10', '\\\\n# Below is the np equivalent of `map(myfunc, test)`\\\\nnp.apply_along_axis(myfunc, 0, test)\\\\n')\",\n",
       "  '(30e-6/100) * numbers.size',\n",
       "  'get_ipython().run_cell_magic(\\'timeit\\', \\'-n 1000 -r 10\\', \"\\\\n# Below is the np equivalent of `map(myfunc, test)`\\\\nnp.apply_along_axis(myfunc, 0, test)\\\\n\\\\n# The result is how long it will take 1 CORE to do what we\\'re asking it\\\\n\")',\n",
       "  '(30e-6/100) * numbers.size # This is how long it will theoretically take for 400,000,000 numbers',\n",
       "  'import dask.array as da',\n",
       "  'd_numbers = da.from_array(numbers)\\nd_numbers',\n",
       "  'd_numbers = d_numbers.rechunk(balance = True) # This will break up `numbers` into chunks of equal size\\nd_numbers',\n",
       "  \"get_ipython().run_cell_magic('timeit', '-n 1', '\\\\nnp.apply_along_axis(myfunc, 0, numbers)\\\\n')\",\n",
       "  \"get_ipython().run_cell_magic('timeit', '-n 1', '\\\\n# map(myfunc, d_numbers)\\\\nresult = d_numbers.map_blocks(myfunc)\\\\nresult.compute() # This is where it actually runs\\\\n')\",\n",
       "  '1.24 / 461e-3',\n",
       "  '1.24 / 461e-3 # We see through this computation that the chunking is 2.7 x faster',\n",
       "  '21 * 2400 * 2400',\n",
       "  'npp.size * 21',\n",
       "  'num_bits = ((21 * 2400 * 2400) * 16)\\nnum_bytes = num_bits / 8 # Convert to bytes (8 bits)\\nnum_mb = num_bytes / 1e6 # Convert to megabytes (1,000,000 bytes)\\nnum_mb',\n",
       "  \"import h5py\\n\\nhdf = h5py.File('data/MOD17A3HGF_C61_h19v08_annual_NPP_gCm-2yr-1_2001-2021.h5', 'r')\\nnpp = hdf['NPP'][:]\\nhdf.close()\\n\\nnpp.shape\",\n",
       "  'from scipy import stats\\n\\ndef linear_trend(array, n_years = 21):\\n    # linregress(x, y) takes two arguments: y is regressed on x\\n    result = stats.linregress(np.arange(0, n_years), array)\\n    return result[0] # Just the slope',\n",
       "  'npp[:, 100, 100].shape',\n",
       "  'test1 = npp[:, 100, 100].shape',\n",
       "  'np.apply_along_axis(myfunc, 0, test1)',\n",
       "  \"get_ipython().run_cell_magic('timeit', '-n 100', '\\\\nnp.apply_along_axis(myfunc, 0, test1)\\\\n')\",\n",
       "  \"test1 = npp[:, 100, 100].shape # If we time the amount of time it will take for the whole dataset it's like 45 hours\",\n",
       "  'linear_trend',\n",
       "  'globals()',\n",
       "  \"globals() # This tells us what's in the entire global namespace\"],\n",
       " '_oh': {3: <KeysViewHDF5 ['NPP']>,\n",
       "  4: <HDF5 dataset \"NPP\": shape (21, 2400, 2400), type \"<i2\">,\n",
       "  5: <KeysViewHDF5 ['source', 'units']>,\n",
       "  7: (2400, 2400),\n",
       "  8: -9999,\n",
       "  12: array([[False, False, False, ..., False, False, False],\n",
       "         [False, False, False, ..., False, False, False],\n",
       "         [False, False, False, ..., False, False, False],\n",
       "         ...,\n",
       "         [False, False, False, ..., False, False, False],\n",
       "         [False, False, False, ..., False, False, False],\n",
       "         [False, False, False, ..., False, False, False]]),\n",
       "  14: (2400, 2400),\n",
       "  17: array([10, 11, 12, 13, 14, 15, 16, 17, 18, 19, 20, 21, 22, 23, 24, 25, 26,\n",
       "         27, 28, 29, 30, 31, 32, 33, 34, 35, 36, 37, 38, 39, 40, 41, 42, 43,\n",
       "         44, 45, 46, 47, 48, 49]),\n",
       "  18: Text(24.0, 0.5, 'Execution Time (secs)'),\n",
       "  19: <map at 0x255e46d8e20>,\n",
       "  21: ['10',\n",
       "   '11',\n",
       "   '12',\n",
       "   '13',\n",
       "   '14',\n",
       "   '15',\n",
       "   '16',\n",
       "   '17',\n",
       "   '18',\n",
       "   '19',\n",
       "   '20',\n",
       "   '21',\n",
       "   '22',\n",
       "   '23',\n",
       "   '24',\n",
       "   '25',\n",
       "   '26',\n",
       "   '27',\n",
       "   '28',\n",
       "   '29',\n",
       "   '30',\n",
       "   '31',\n",
       "   '32',\n",
       "   '33',\n",
       "   '34',\n",
       "   '35',\n",
       "   '36',\n",
       "   '37',\n",
       "   '38',\n",
       "   '39',\n",
       "   '40',\n",
       "   '41',\n",
       "   '42',\n",
       "   '43',\n",
       "   '44',\n",
       "   '45',\n",
       "   '46',\n",
       "   '47',\n",
       "   '48',\n",
       "   '49'],\n",
       "  22: ['10',\n",
       "   '11',\n",
       "   '12',\n",
       "   '13',\n",
       "   '14',\n",
       "   '15',\n",
       "   '16',\n",
       "   '17',\n",
       "   '18',\n",
       "   '19',\n",
       "   '20',\n",
       "   '21',\n",
       "   '22',\n",
       "   '23',\n",
       "   '24',\n",
       "   '25',\n",
       "   '26',\n",
       "   '27',\n",
       "   '28',\n",
       "   '29',\n",
       "   '30',\n",
       "   '31',\n",
       "   '32',\n",
       "   '33',\n",
       "   '34',\n",
       "   '35',\n",
       "   '36',\n",
       "   '37',\n",
       "   '38',\n",
       "   '39',\n",
       "   '40',\n",
       "   '41',\n",
       "   '42',\n",
       "   '43',\n",
       "   '44',\n",
       "   '45',\n",
       "   '46',\n",
       "   '47',\n",
       "   '48',\n",
       "   '49'],\n",
       "  27: Text(24.0, 0.5, 'Execution Time (secs)'),\n",
       "  28: Text(24.0, 0.5, 'Execution Time (secs)'),\n",
       "  29: Text(24.0, 0.5, 'Execution Time (secs)'),\n",
       "  30: Text(24.0, 0.5, 'Execution Time (secs)'),\n",
       "  31: Text(24.0, 0.5, 'Execution Time (secs)'),\n",
       "  32: Text(24.0, 0.5, 'Execution Time (secs)'),\n",
       "  36: -1,\n",
       "  37: 400000000,\n",
       "  38: 400000000,\n",
       "  39: 400000000,\n",
       "  41: array([114,  88, 136,  26,   3, 149, 112,  90, 109,   7,  50, 143,  76,\n",
       "         163,  89, 136,  60, 102, 164, 158,  75,  95, 104, 171, 183,  37,\n",
       "          73,  13,  76, 189,  12,  74,  95,  16, 152,  61, 191,   2, 195,\n",
       "         118, 191,  51,  25, 176,  76,   3, 191, 141,  80, 160,  52,  31,\n",
       "          53, 109,   9,  99,  56, 166, 133,   6, 183,  65, 125, 170, 153,\n",
       "         199, 127, 121, 132,  46,  13,  15,  39,  52,  17, 138, 157, 136,\n",
       "         164,  42, 176,  22, 122, 169,  45,  74,  85, 117, 168,  58, 169,\n",
       "          18,  19,  87, 103,   5, 133,  43,  90,  36], dtype=uint8),\n",
       "  43: 120.0,\n",
       "  45: 120.0,\n",
       "  47: dask.array<array, shape=(20000, 20000), dtype=uint8, chunksize=(11585, 11585), chunktype=numpy.ndarray>,\n",
       "  48: dask.array<rechunk-merge, shape=(20000, 20000), dtype=uint8, chunksize=(10000, 10000), chunktype=numpy.ndarray>,\n",
       "  51: 2.689804772234273,\n",
       "  52: 2.689804772234273,\n",
       "  53: 120960000,\n",
       "  54: 120960000,\n",
       "  55: 241.92,\n",
       "  56: (21, 2400, 2400),\n",
       "  58: (21,),\n",
       "  60: array([-1], dtype=int32),\n",
       "  63: <function __main__.linear_trend(array, n_years=21)>,\n",
       "  64: {...}},\n",
       " '_dh': [WindowsPath('T:/GPHY_489/Students/by197116')],\n",
       " 'In': ['',\n",
       "  \"import h5py\\n\\nhdf = h5py.File('data/MOD17A3HGF_C61_h19v08_annual_NPP_gCm-2yr-1_2001-2021.h5', 'r')\",\n",
       "  \"import h5py\\n\\nhdf = h5py.File('data/MOD17A3HGF_C61_h19v08_annual_NPP_gCm-2yr-1_2001-2021.h5', 'r')\",\n",
       "  'hdf.keys()',\n",
       "  \"hdf['NPP']\",\n",
       "  \"hdf['NPP'].attrs.keys()\",\n",
       "  \"npp = hdf['NPP'][0] # First year of data (out of 21 years)\",\n",
       "  \"npp = hdf['NPP'][0] # First year of data (out of 21 years)\\nnpp.shape           # Verify this with shape\",\n",
       "  'npp.min()',\n",
       "  'import dask\\nimport numpy as np\\nimport matplotlib.pyplot as plt\\nimport timeit\\n\\ntimes = []\\nfor n in my_numbers:\\n    t = timeit.timeit(f\"factorial({n})\", globals = globals(), number = 1000)\\n    times.append(t)\\n    \\npyplot.bar(my_numbers, times)\\npyplot.xlabel(\\'Number of Values\\')\\npyplot.ylabel(\\'Execution Time (secs)\\')',\n",
       "  'import dask\\nimport numpy as np\\nimport matplotlib.pyplot as plt\\nimport timeit\\n\\ntimes = []\\nfor n in my_numbers:\\n    t = timeit.timeit(f\"factorial({n})\", globals = globals(), number = 1000)\\n    times.append(t)\\n    \\nplt.bar(my_numbers, times)\\nplt.xlabel(\\'Number of Values\\')\\nplt.ylabel(\\'Execution Time (secs)\\')',\n",
       "  'npp[npp == -9999] = np.nan # Convert -9999 values to NaN',\n",
       "  'npp == -9999',\n",
       "  'npp[npp == -9999] = np.nan # Convert -9999 values to NaN',\n",
       "  \"npp = hdf['NPP'][0].astype(np.float32) # First year of data (out of 21 years)\\nnpp.shape                              # Verify this with shape\",\n",
       "  'npp[npp == -9999] = np.nan # Convert -9999 values to NaN',\n",
       "  'def factorial(n):\\n    result = 1\\n    for i in range(n, 1, -1):\\n        result = result * i\\n    return result',\n",
       "  'my_numbers = np.arange(10, 50)\\nmy_numbers',\n",
       "  'import dask\\nimport numpy as np\\nimport matplotlib.pyplot as plt\\nimport timeit\\n\\ntimes = []\\nfor n in my_numbers:\\n    t = timeit.timeit(f\"factorial({n})\", globals = globals(), number = 1000)\\n    times.append(t)\\n    \\nplt.bar(my_numbers, times)\\nplt.xlabel(\\'Number of Values\\')\\nplt.ylabel(\\'Execution Time (secs)\\')',\n",
       "  'map(str, my_numbers)',\n",
       "  'list(map(str, numbers))',\n",
       "  'list(map(str, my_numbers))',\n",
       "  'list(map(str, my_numbers)) # Give me a list of these numbers converted to strings',\n",
       "  \"# Magic commands\\nget_ipython().run_line_magic('%timeit', '-n 1000')\\n\\nfactorial(5)\",\n",
       "  \"# Magic commands\\nget_ipython().run_line_magic('%timeit', '-n 100')\\n\\nfactorial(5)\",\n",
       "  \"get_ipython().run_cell_magic('timeit', '-n 100', '\\\\nfactorial(5)\\\\n')\",\n",
       "  \"get_ipython().run_cell_magic('timeit', '-n 100 #Magic function', '\\\\nfactorial(5)\\\\n')\",\n",
       "  'import dask\\nimport numpy as np\\nimport matplotlib.pyplot as plt\\nimport timeit\\n\\ntimes = []\\nfor n in my_numbers:\\n    t = timeit.timeit(f\"factorial({n})\", globals = globals(), number = 1000)\\n    times.append(t)\\n    \\nplt.bar(my_numbers, times)\\nplt.xlabel(\\'Number of Values\\')\\nplt.ylabel(\\'Execution Time (secs)\\')',\n",
       "  'import dask\\nimport numpy as np\\nimport matplotlib.pyplot as plt\\nimport timeit\\n\\ntimes = []\\nfor n in my_numbers:\\n    t = timeit.timeit(f\"factorial({n})\", globals = globals(), number = 1000)\\n    times.append(t)\\n    \\nplt.bar(my_numbers, times)\\nplt.xlabel(\\'Number of Values\\')\\nplt.ylabel(\\'Execution Time (secs)\\')',\n",
       "  'import dask\\nimport numpy as np\\nimport matplotlib.pyplot as plt\\nimport timeit\\n\\ntimes = []\\nfor n in my_numbers:\\n    t = timeit.timeit(f\"factorial({n})\", globals = globals(), number = 1000)\\n    times.append(t)\\n    \\nplt.bar(my_numbers, times)\\nplt.xlabel(\\'Number of Values\\')\\nplt.ylabel(\\'Execution Time (secs)\\')',\n",
       "  'import dask\\nimport numpy as np\\nimport matplotlib.pyplot as plt\\nimport timeit\\n\\ntimes = []\\nfor n in my_numbers:\\n    t = timeit.timeit(f\"factorial({n})\", globals = globals(), number = 1000)\\n    times.append(t)\\n    \\nplt.bar(my_numbers, times)\\nplt.xlabel(\\'Number of Values\\')\\nplt.ylabel(\\'Execution Time (secs)\\')',\n",
       "  'import dask\\nimport numpy as np\\nimport matplotlib.pyplot as plt\\nimport timeit\\n\\ntimes = []\\nfor n in my_numbers:\\n    t = timeit.timeit(f\"factorial({n})\", globals = globals(), number = 1000)\\n    times.append(t)\\n    \\nplt.bar(my_numbers, times)\\nplt.xlabel(\\'Number of Values\\')\\nplt.ylabel(\\'Execution Time (secs)\\')',\n",
       "  'import dask\\nimport numpy as np\\nimport matplotlib.pyplot as plt\\nimport timeit\\n\\ntimes = []\\nfor n in my_numbers:\\n    t = timeit.timeit(f\"factorial({n})\", globals = globals(), number = 1000)\\n    times.append(t)\\n    \\nplt.bar(my_numbers, times)\\nplt.xlabel(\\'Number of Values\\')\\nplt.ylabel(\\'Execution Time (secs)\\')',\n",
       "  'myfunc = lambda n: -1 ** n # -1 raised to the nth power',\n",
       "  'myfunc = 5',\n",
       "  'myfunc = lambda n: -1 ** n # -1 raised to the nth power',\n",
       "  'myfunc(5)',\n",
       "  'numbers = np.random.randint(low = 2, high = 200, size = int(4e8))\\nnumbers.size',\n",
       "  'numbers = np.random.randint(low = 2, high = 200, size = int(4e8), dtype = np.uint8)\\nnumbers.size',\n",
       "  '# Create a list of 400,000,000 random integers (uint8 for data saving)\\nnp.random.seed(42)\\nnumbers = np.random.randint(low = 2, high = 200, size = int(4e8), dtype = np.uint8)\\nnumbers.size',\n",
       "  'numbers = numbers.reshape((20000, 20000))',\n",
       "  'test = numbers.ravel()[100:200]\\ntest',\n",
       "  \"get_ipython().run_cell_magic('timeit', '-n 1000 -r 10', '\\\\n# Below is the np equivalent of `map(myfunc, test)`\\\\nnp.apply_along_axis(myfunc, 0, test)\\\\n')\",\n",
       "  '(30e-6/100) * numbers.size',\n",
       "  'get_ipython().run_cell_magic(\\'timeit\\', \\'-n 1000 -r 10\\', \"\\\\n# Below is the np equivalent of `map(myfunc, test)`\\\\nnp.apply_along_axis(myfunc, 0, test)\\\\n\\\\n# The result is how long it will take 1 CORE to do what we\\'re asking it\\\\n\")',\n",
       "  '(30e-6/100) * numbers.size # This is how long it will theoretically take for 400,000,000 numbers',\n",
       "  'import dask.array as da',\n",
       "  'd_numbers = da.from_array(numbers)\\nd_numbers',\n",
       "  'd_numbers = d_numbers.rechunk(balance = True) # This will break up `numbers` into chunks of equal size\\nd_numbers',\n",
       "  \"get_ipython().run_cell_magic('timeit', '-n 1', '\\\\nnp.apply_along_axis(myfunc, 0, numbers)\\\\n')\",\n",
       "  \"get_ipython().run_cell_magic('timeit', '-n 1', '\\\\n# map(myfunc, d_numbers)\\\\nresult = d_numbers.map_blocks(myfunc)\\\\nresult.compute() # This is where it actually runs\\\\n')\",\n",
       "  '1.24 / 461e-3',\n",
       "  '1.24 / 461e-3 # We see through this computation that the chunking is 2.7 x faster',\n",
       "  '21 * 2400 * 2400',\n",
       "  'npp.size * 21',\n",
       "  'num_bits = ((21 * 2400 * 2400) * 16)\\nnum_bytes = num_bits / 8 # Convert to bytes (8 bits)\\nnum_mb = num_bytes / 1e6 # Convert to megabytes (1,000,000 bytes)\\nnum_mb',\n",
       "  \"import h5py\\n\\nhdf = h5py.File('data/MOD17A3HGF_C61_h19v08_annual_NPP_gCm-2yr-1_2001-2021.h5', 'r')\\nnpp = hdf['NPP'][:]\\nhdf.close()\\n\\nnpp.shape\",\n",
       "  'from scipy import stats\\n\\ndef linear_trend(array, n_years = 21):\\n    # linregress(x, y) takes two arguments: y is regressed on x\\n    result = stats.linregress(np.arange(0, n_years), array)\\n    return result[0] # Just the slope',\n",
       "  'npp[:, 100, 100].shape',\n",
       "  'test1 = npp[:, 100, 100].shape',\n",
       "  'np.apply_along_axis(myfunc, 0, test1)',\n",
       "  \"get_ipython().run_cell_magic('timeit', '-n 100', '\\\\nnp.apply_along_axis(myfunc, 0, test1)\\\\n')\",\n",
       "  \"test1 = npp[:, 100, 100].shape # If we time the amount of time it will take for the whole dataset it's like 45 hours\",\n",
       "  'linear_trend',\n",
       "  'globals()',\n",
       "  \"globals() # This tells us what's in the entire global namespace\"],\n",
       " 'Out': {3: <KeysViewHDF5 ['NPP']>,\n",
       "  4: <HDF5 dataset \"NPP\": shape (21, 2400, 2400), type \"<i2\">,\n",
       "  5: <KeysViewHDF5 ['source', 'units']>,\n",
       "  7: (2400, 2400),\n",
       "  8: -9999,\n",
       "  12: array([[False, False, False, ..., False, False, False],\n",
       "         [False, False, False, ..., False, False, False],\n",
       "         [False, False, False, ..., False, False, False],\n",
       "         ...,\n",
       "         [False, False, False, ..., False, False, False],\n",
       "         [False, False, False, ..., False, False, False],\n",
       "         [False, False, False, ..., False, False, False]]),\n",
       "  14: (2400, 2400),\n",
       "  17: array([10, 11, 12, 13, 14, 15, 16, 17, 18, 19, 20, 21, 22, 23, 24, 25, 26,\n",
       "         27, 28, 29, 30, 31, 32, 33, 34, 35, 36, 37, 38, 39, 40, 41, 42, 43,\n",
       "         44, 45, 46, 47, 48, 49]),\n",
       "  18: Text(24.0, 0.5, 'Execution Time (secs)'),\n",
       "  19: <map at 0x255e46d8e20>,\n",
       "  21: ['10',\n",
       "   '11',\n",
       "   '12',\n",
       "   '13',\n",
       "   '14',\n",
       "   '15',\n",
       "   '16',\n",
       "   '17',\n",
       "   '18',\n",
       "   '19',\n",
       "   '20',\n",
       "   '21',\n",
       "   '22',\n",
       "   '23',\n",
       "   '24',\n",
       "   '25',\n",
       "   '26',\n",
       "   '27',\n",
       "   '28',\n",
       "   '29',\n",
       "   '30',\n",
       "   '31',\n",
       "   '32',\n",
       "   '33',\n",
       "   '34',\n",
       "   '35',\n",
       "   '36',\n",
       "   '37',\n",
       "   '38',\n",
       "   '39',\n",
       "   '40',\n",
       "   '41',\n",
       "   '42',\n",
       "   '43',\n",
       "   '44',\n",
       "   '45',\n",
       "   '46',\n",
       "   '47',\n",
       "   '48',\n",
       "   '49'],\n",
       "  22: ['10',\n",
       "   '11',\n",
       "   '12',\n",
       "   '13',\n",
       "   '14',\n",
       "   '15',\n",
       "   '16',\n",
       "   '17',\n",
       "   '18',\n",
       "   '19',\n",
       "   '20',\n",
       "   '21',\n",
       "   '22',\n",
       "   '23',\n",
       "   '24',\n",
       "   '25',\n",
       "   '26',\n",
       "   '27',\n",
       "   '28',\n",
       "   '29',\n",
       "   '30',\n",
       "   '31',\n",
       "   '32',\n",
       "   '33',\n",
       "   '34',\n",
       "   '35',\n",
       "   '36',\n",
       "   '37',\n",
       "   '38',\n",
       "   '39',\n",
       "   '40',\n",
       "   '41',\n",
       "   '42',\n",
       "   '43',\n",
       "   '44',\n",
       "   '45',\n",
       "   '46',\n",
       "   '47',\n",
       "   '48',\n",
       "   '49'],\n",
       "  27: Text(24.0, 0.5, 'Execution Time (secs)'),\n",
       "  28: Text(24.0, 0.5, 'Execution Time (secs)'),\n",
       "  29: Text(24.0, 0.5, 'Execution Time (secs)'),\n",
       "  30: Text(24.0, 0.5, 'Execution Time (secs)'),\n",
       "  31: Text(24.0, 0.5, 'Execution Time (secs)'),\n",
       "  32: Text(24.0, 0.5, 'Execution Time (secs)'),\n",
       "  36: -1,\n",
       "  37: 400000000,\n",
       "  38: 400000000,\n",
       "  39: 400000000,\n",
       "  41: array([114,  88, 136,  26,   3, 149, 112,  90, 109,   7,  50, 143,  76,\n",
       "         163,  89, 136,  60, 102, 164, 158,  75,  95, 104, 171, 183,  37,\n",
       "          73,  13,  76, 189,  12,  74,  95,  16, 152,  61, 191,   2, 195,\n",
       "         118, 191,  51,  25, 176,  76,   3, 191, 141,  80, 160,  52,  31,\n",
       "          53, 109,   9,  99,  56, 166, 133,   6, 183,  65, 125, 170, 153,\n",
       "         199, 127, 121, 132,  46,  13,  15,  39,  52,  17, 138, 157, 136,\n",
       "         164,  42, 176,  22, 122, 169,  45,  74,  85, 117, 168,  58, 169,\n",
       "          18,  19,  87, 103,   5, 133,  43,  90,  36], dtype=uint8),\n",
       "  43: 120.0,\n",
       "  45: 120.0,\n",
       "  47: dask.array<array, shape=(20000, 20000), dtype=uint8, chunksize=(11585, 11585), chunktype=numpy.ndarray>,\n",
       "  48: dask.array<rechunk-merge, shape=(20000, 20000), dtype=uint8, chunksize=(10000, 10000), chunktype=numpy.ndarray>,\n",
       "  51: 2.689804772234273,\n",
       "  52: 2.689804772234273,\n",
       "  53: 120960000,\n",
       "  54: 120960000,\n",
       "  55: 241.92,\n",
       "  56: (21, 2400, 2400),\n",
       "  58: (21,),\n",
       "  60: array([-1], dtype=int32),\n",
       "  63: <function __main__.linear_trend(array, n_years=21)>,\n",
       "  64: {...}},\n",
       " 'get_ipython': <bound method InteractiveShell.get_ipython of <ipykernel.zmqshell.ZMQInteractiveShell object at 0x00000255DEF29BB0>>,\n",
       " 'exit': <IPython.core.autocall.ZMQExitAutocall at 0x255def398e0>,\n",
       " 'quit': <IPython.core.autocall.ZMQExitAutocall at 0x255def398e0>,\n",
       " 'open': <function io.open(file, mode='r', buffering=-1, encoding=None, errors=None, newline=None, closefd=True, opener=None)>,\n",
       " '_': {...},\n",
       " '__': <function __main__.linear_trend(array, n_years=21)>,\n",
       " '___': array([-1], dtype=int32),\n",
       " '__session__': 'T:\\\\GPHY_489\\\\Students\\\\by197116\\\\Lecture12_RasterAnalysis.ipynb',\n",
       " '_i': 'globals()',\n",
       " '_ii': 'linear_trend',\n",
       " '_iii': \" test1 = npp[:, 100, 100].shape # If we time the amount of time it will take for the whole dataset it's like 45 hours\",\n",
       " '_i1': \"import h5py\\n\\nhdf = h5py.File('data/MOD17A3HGF_C61_h19v08_annual_NPP_gCm-2yr-1_2001-2021.h5', 'r')\",\n",
       " 'h5py': <module 'h5py' from 'C:\\\\Program Files\\\\ArcGIS\\\\Pro\\\\bin\\\\Python\\\\envs\\\\arcgispro-py3\\\\lib\\\\site-packages\\\\h5py\\\\__init__.py'>,\n",
       " '_i2': \"import h5py\\n\\nhdf = h5py.File('data/MOD17A3HGF_C61_h19v08_annual_NPP_gCm-2yr-1_2001-2021.h5', 'r')\",\n",
       " 'hdf': <Closed HDF5 file>,\n",
       " '_i3': 'hdf.keys()',\n",
       " '_3': <KeysViewHDF5 ['NPP']>,\n",
       " '_i4': \"hdf['NPP']\",\n",
       " '_4': <HDF5 dataset \"NPP\": shape (21, 2400, 2400), type \"<i2\">,\n",
       " '_i5': \"hdf['NPP'].attrs.keys()\",\n",
       " '_5': <KeysViewHDF5 ['source', 'units']>,\n",
       " '_i6': \"npp = hdf['NPP'][0] # First year of data (out of 21 years)\",\n",
       " 'npp': array([[[ 222,  220,  225, ...,    0,    0,    0],\n",
       "         [ 229,  219,  222, ...,    0,    2,    4],\n",
       "         [ 247,  212,  213, ...,    0,    6,   18],\n",
       "         ...,\n",
       "         [1106, 1097, 1096, ...,  813,  827,  798],\n",
       "         [1093, 1047,  932, ...,  832,  830,  799],\n",
       "         [1049, 1071, 1067, ...,  817,  839,  829]],\n",
       " \n",
       "        [[ 312,  308,  290, ...,  179,  186,  208],\n",
       "         [ 320,  305,  290, ...,  178,  206,  222],\n",
       "         [ 352,  312,  295, ...,  186,  196,  207],\n",
       "         ...,\n",
       "         [ 934, 1010, 1096, ..., 1111, 1105, 1094],\n",
       "         [1055, 1145, 1143, ..., 1115, 1121, 1107],\n",
       "         [ 992, 1091, 1146, ..., 1133, 1127, 1127]],\n",
       " \n",
       "        [[ 172,  173,  177, ...,  163,  181,  182],\n",
       "         [ 183,  181,  184, ...,  177,  192,  188],\n",
       "         [ 224,  170,  190, ...,  191,  188,  201],\n",
       "         ...,\n",
       "         [ 974, 1012, 1005, ..., 1108, 1097, 1105],\n",
       "         [ 964, 1045, 1046, ..., 1098, 1112, 1095],\n",
       "         [ 916,  841, 1038, ..., 1103, 1108, 1118]],\n",
       " \n",
       "        ...,\n",
       " \n",
       "        [[ 279,  283,  295, ...,  162,  177,  173],\n",
       "         [ 299,  288,  284, ...,  167,  175,  180],\n",
       "         [ 340,  273,  277, ...,  166,  174,  174],\n",
       "         ...,\n",
       "         [1068, 1035, 1110, ..., 1206, 1197, 1186],\n",
       "         [1064, 1113,  981, ..., 1191, 1185, 1185],\n",
       "         [1087, 1079,  988, ..., 1151, 1172, 1187]],\n",
       " \n",
       "        [[ 169,  160,  168, ...,    0,    0,    0],\n",
       "         [ 166,  174,  177, ...,    0,    0,    0],\n",
       "         [ 228,  157,  162, ...,    0,    0,    0],\n",
       "         ...,\n",
       "         [ 986,  936,  947, ...,  933,  939,  934],\n",
       "         [ 908,  954,  918, ...,  937,  935,  914],\n",
       "         [1096, 1014,  923, ...,  934,  913,  901]],\n",
       " \n",
       "        [[ 219,  216,  222, ...,  120,  139,  139],\n",
       "         [ 207,  203,  217, ...,  145,  165,  138],\n",
       "         [ 269,  213,  210, ...,  153,  173,  163],\n",
       "         ...,\n",
       "         [1092,  936, 1046, ..., 1098, 1095, 1079],\n",
       "         [ 945,  971, 1106, ..., 1087, 1079, 1089],\n",
       "         [1057, 1087, 1014, ..., 1100, 1095, 1095]]], dtype=int16),\n",
       " '_i7': \"npp = hdf['NPP'][0] # First year of data (out of 21 years)\\nnpp.shape           # Verify this with shape\",\n",
       " '_7': (2400, 2400),\n",
       " '_i8': 'npp.min()',\n",
       " '_8': -9999,\n",
       " '_i9': 'import dask\\nimport numpy as np\\nimport matplotlib.pyplot as plt\\nimport timeit\\n\\ntimes = []\\nfor n in my_numbers:\\n    t = timeit.timeit(f\"factorial({n})\", globals = globals(), number = 1000)\\n    times.append(t)\\n    \\npyplot.bar(my_numbers, times)\\npyplot.xlabel(\\'Number of Values\\')\\npyplot.ylabel(\\'Execution Time (secs)\\')',\n",
       " 'dask': <module 'dask' from 'C:\\\\Program Files\\\\ArcGIS\\\\Pro\\\\bin\\\\Python\\\\envs\\\\arcgispro-py3\\\\lib\\\\site-packages\\\\dask\\\\__init__.py'>,\n",
       " 'np': <module 'numpy' from 'C:\\\\Program Files\\\\ArcGIS\\\\Pro\\\\bin\\\\Python\\\\envs\\\\arcgispro-py3\\\\lib\\\\site-packages\\\\numpy\\\\__init__.py'>,\n",
       " 'plt': <module 'matplotlib.pyplot' from 'C:\\\\Program Files\\\\ArcGIS\\\\Pro\\\\bin\\\\Python\\\\envs\\\\arcgispro-py3\\\\lib\\\\site-packages\\\\matplotlib\\\\pyplot.py'>,\n",
       " 'timeit': <module 'timeit' from 'C:\\\\Program Files\\\\ArcGIS\\\\Pro\\\\bin\\\\Python\\\\envs\\\\arcgispro-py3\\\\lib\\\\timeit.py'>,\n",
       " 'times': [0.0004779999999300344,\n",
       "  0.0005200999999033229,\n",
       "  0.0005407000003287976,\n",
       "  0.0005915000001550652,\n",
       "  0.0006703999997625942,\n",
       "  0.0007300000002032903,\n",
       "  0.0007954000002428074,\n",
       "  0.00081659999978001,\n",
       "  0.0008671000000504137,\n",
       "  0.0009035000002768356,\n",
       "  0.0009866000000329223,\n",
       "  0.001083699999981036,\n",
       "  0.0011062999997193401,\n",
       "  0.0011912999998457963,\n",
       "  0.0012397999998938758,\n",
       "  0.0012707999999292952,\n",
       "  0.001310000000103173,\n",
       "  0.0013689999996131519,\n",
       "  0.0015672999998059822,\n",
       "  0.0009218000000146276,\n",
       "  0.0009467999998378218,\n",
       "  0.0010014000004048285,\n",
       "  0.0009998000000450702,\n",
       "  0.0010201000000051863,\n",
       "  0.0010677999998733867,\n",
       "  0.0011097999999947206,\n",
       "  0.001139099999818427,\n",
       "  0.0011471999996501836,\n",
       "  0.001164000000244414,\n",
       "  0.0012268999998923391,\n",
       "  0.0012769999998454296,\n",
       "  0.0012910999998894113,\n",
       "  0.0012845999999626656,\n",
       "  0.0015033999998195213,\n",
       "  0.0013582000001406414,\n",
       "  0.0014078999997764186,\n",
       "  0.0014040999999451742,\n",
       "  0.0014333999997688807,\n",
       "  0.001471999999921536,\n",
       "  0.0015348999995694612],\n",
       " '_i10': 'import dask\\nimport numpy as np\\nimport matplotlib.pyplot as plt\\nimport timeit\\n\\ntimes = []\\nfor n in my_numbers:\\n    t = timeit.timeit(f\"factorial({n})\", globals = globals(), number = 1000)\\n    times.append(t)\\n    \\nplt.bar(my_numbers, times)\\nplt.xlabel(\\'Number of Values\\')\\nplt.ylabel(\\'Execution Time (secs)\\')',\n",
       " '_i11': 'npp[npp == -9999] = np.nan # Convert -9999 values to NaN',\n",
       " '_i12': 'npp == -9999',\n",
       " '_12': array([[False, False, False, ..., False, False, False],\n",
       "        [False, False, False, ..., False, False, False],\n",
       "        [False, False, False, ..., False, False, False],\n",
       "        ...,\n",
       "        [False, False, False, ..., False, False, False],\n",
       "        [False, False, False, ..., False, False, False],\n",
       "        [False, False, False, ..., False, False, False]]),\n",
       " '_i13': 'npp[npp == -9999] = np.nan # Convert -9999 values to NaN',\n",
       " '_i14': \"npp = hdf['NPP'][0].astype(np.float32) # First year of data (out of 21 years)\\nnpp.shape                              # Verify this with shape\",\n",
       " '_14': (2400, 2400),\n",
       " '_i15': 'npp[npp == -9999] = np.nan # Convert -9999 values to NaN',\n",
       " '_i16': 'def factorial(n):\\n    result = 1\\n    for i in range(n, 1, -1):\\n        result = result * i\\n    return result',\n",
       " 'factorial': <function __main__.factorial(n)>,\n",
       " '_i17': 'my_numbers = np.arange(10, 50)\\nmy_numbers',\n",
       " 'my_numbers': array([10, 11, 12, 13, 14, 15, 16, 17, 18, 19, 20, 21, 22, 23, 24, 25, 26,\n",
       "        27, 28, 29, 30, 31, 32, 33, 34, 35, 36, 37, 38, 39, 40, 41, 42, 43,\n",
       "        44, 45, 46, 47, 48, 49]),\n",
       " '_17': array([10, 11, 12, 13, 14, 15, 16, 17, 18, 19, 20, 21, 22, 23, 24, 25, 26,\n",
       "        27, 28, 29, 30, 31, 32, 33, 34, 35, 36, 37, 38, 39, 40, 41, 42, 43,\n",
       "        44, 45, 46, 47, 48, 49]),\n",
       " '_i18': 'import dask\\nimport numpy as np\\nimport matplotlib.pyplot as plt\\nimport timeit\\n\\ntimes = []\\nfor n in my_numbers:\\n    t = timeit.timeit(f\"factorial({n})\", globals = globals(), number = 1000)\\n    times.append(t)\\n    \\nplt.bar(my_numbers, times)\\nplt.xlabel(\\'Number of Values\\')\\nplt.ylabel(\\'Execution Time (secs)\\')',\n",
       " 'n': 49,\n",
       " 't': 0.0015348999995694612,\n",
       " '_18': Text(24.0, 0.5, 'Execution Time (secs)'),\n",
       " '_i19': 'map(str, my_numbers)',\n",
       " '_19': <map at 0x255e46d8e20>,\n",
       " '_i20': 'list(map(str, numbers))',\n",
       " '_i21': 'list(map(str, my_numbers))',\n",
       " '_21': ['10',\n",
       "  '11',\n",
       "  '12',\n",
       "  '13',\n",
       "  '14',\n",
       "  '15',\n",
       "  '16',\n",
       "  '17',\n",
       "  '18',\n",
       "  '19',\n",
       "  '20',\n",
       "  '21',\n",
       "  '22',\n",
       "  '23',\n",
       "  '24',\n",
       "  '25',\n",
       "  '26',\n",
       "  '27',\n",
       "  '28',\n",
       "  '29',\n",
       "  '30',\n",
       "  '31',\n",
       "  '32',\n",
       "  '33',\n",
       "  '34',\n",
       "  '35',\n",
       "  '36',\n",
       "  '37',\n",
       "  '38',\n",
       "  '39',\n",
       "  '40',\n",
       "  '41',\n",
       "  '42',\n",
       "  '43',\n",
       "  '44',\n",
       "  '45',\n",
       "  '46',\n",
       "  '47',\n",
       "  '48',\n",
       "  '49'],\n",
       " '_i22': 'list(map(str, my_numbers)) # Give me a list of these numbers converted to strings',\n",
       " '_22': ['10',\n",
       "  '11',\n",
       "  '12',\n",
       "  '13',\n",
       "  '14',\n",
       "  '15',\n",
       "  '16',\n",
       "  '17',\n",
       "  '18',\n",
       "  '19',\n",
       "  '20',\n",
       "  '21',\n",
       "  '22',\n",
       "  '23',\n",
       "  '24',\n",
       "  '25',\n",
       "  '26',\n",
       "  '27',\n",
       "  '28',\n",
       "  '29',\n",
       "  '30',\n",
       "  '31',\n",
       "  '32',\n",
       "  '33',\n",
       "  '34',\n",
       "  '35',\n",
       "  '36',\n",
       "  '37',\n",
       "  '38',\n",
       "  '39',\n",
       "  '40',\n",
       "  '41',\n",
       "  '42',\n",
       "  '43',\n",
       "  '44',\n",
       "  '45',\n",
       "  '46',\n",
       "  '47',\n",
       "  '48',\n",
       "  '49'],\n",
       " '_i23': '# Magic commands\\n%%timeit -n 1000\\n\\nfactorial(5)',\n",
       " '_i24': '# Magic commands\\n%%timeit -n 100\\n\\nfactorial(5)',\n",
       " '_i25': '%%timeit -n 100\\n\\nfactorial(5)',\n",
       " '_i26': '%%timeit -n 100 #Magic function\\n\\nfactorial(5)',\n",
       " '_i27': 'import dask\\nimport numpy as np\\nimport matplotlib.pyplot as plt\\nimport timeit\\n\\ntimes = []\\nfor n in my_numbers:\\n    t = timeit.timeit(f\"factorial({n})\", globals = globals(), number = 1000)\\n    times.append(t)\\n    \\nplt.bar(my_numbers, times)\\nplt.xlabel(\\'Number of Values\\')\\nplt.ylabel(\\'Execution Time (secs)\\')',\n",
       " '_27': Text(24.0, 0.5, 'Execution Time (secs)'),\n",
       " '_i28': 'import dask\\nimport numpy as np\\nimport matplotlib.pyplot as plt\\nimport timeit\\n\\ntimes = []\\nfor n in my_numbers:\\n    t = timeit.timeit(f\"factorial({n})\", globals = globals(), number = 1000)\\n    times.append(t)\\n    \\nplt.bar(my_numbers, times)\\nplt.xlabel(\\'Number of Values\\')\\nplt.ylabel(\\'Execution Time (secs)\\')',\n",
       " '_28': Text(24.0, 0.5, 'Execution Time (secs)'),\n",
       " '_i29': 'import dask\\nimport numpy as np\\nimport matplotlib.pyplot as plt\\nimport timeit\\n\\ntimes = []\\nfor n in my_numbers:\\n    t = timeit.timeit(f\"factorial({n})\", globals = globals(), number = 1000)\\n    times.append(t)\\n    \\nplt.bar(my_numbers, times)\\nplt.xlabel(\\'Number of Values\\')\\nplt.ylabel(\\'Execution Time (secs)\\')',\n",
       " '_29': Text(24.0, 0.5, 'Execution Time (secs)'),\n",
       " '_i30': 'import dask\\nimport numpy as np\\nimport matplotlib.pyplot as plt\\nimport timeit\\n\\ntimes = []\\nfor n in my_numbers:\\n    t = timeit.timeit(f\"factorial({n})\", globals = globals(), number = 1000)\\n    times.append(t)\\n    \\nplt.bar(my_numbers, times)\\nplt.xlabel(\\'Number of Values\\')\\nplt.ylabel(\\'Execution Time (secs)\\')',\n",
       " '_30': Text(24.0, 0.5, 'Execution Time (secs)'),\n",
       " '_i31': 'import dask\\nimport numpy as np\\nimport matplotlib.pyplot as plt\\nimport timeit\\n\\ntimes = []\\nfor n in my_numbers:\\n    t = timeit.timeit(f\"factorial({n})\", globals = globals(), number = 1000)\\n    times.append(t)\\n    \\nplt.bar(my_numbers, times)\\nplt.xlabel(\\'Number of Values\\')\\nplt.ylabel(\\'Execution Time (secs)\\')',\n",
       " '_31': Text(24.0, 0.5, 'Execution Time (secs)'),\n",
       " '_i32': 'import dask\\nimport numpy as np\\nimport matplotlib.pyplot as plt\\nimport timeit\\n\\ntimes = []\\nfor n in my_numbers:\\n    t = timeit.timeit(f\"factorial({n})\", globals = globals(), number = 1000)\\n    times.append(t)\\n    \\nplt.bar(my_numbers, times)\\nplt.xlabel(\\'Number of Values\\')\\nplt.ylabel(\\'Execution Time (secs)\\')',\n",
       " '_32': Text(24.0, 0.5, 'Execution Time (secs)'),\n",
       " '_i33': 'myfunc = lambda n: -1 ** n # -1 raised to the nth power',\n",
       " 'myfunc': <function __main__.<lambda>(n)>,\n",
       " '_i34': 'myfunc = 5',\n",
       " '_i35': 'myfunc = lambda n: -1 ** n # -1 raised to the nth power',\n",
       " '_i36': 'myfunc(5)',\n",
       " '_36': -1,\n",
       " '_i37': 'numbers = np.random.randint(low = 2, high = 200, size = int(4e8))\\nnumbers.size',\n",
       " 'numbers': array([[104,  97, 181, ...,  11, 108, 122],\n",
       "        [112,  44, 161, ..., 149, 169, 119],\n",
       "        [172, 134,   2, ..., 134, 124,  11],\n",
       "        ...,\n",
       "        [145, 170, 162, ...,  14, 115,  18],\n",
       "        [181,  59,  29, ..., 184,  96, 192],\n",
       "        [ 33, 177,  80, ..., 135, 133, 110]], dtype=uint8),\n",
       " '_37': 400000000,\n",
       " '_i38': 'numbers = np.random.randint(low = 2, high = 200, size = int(4e8), dtype = np.uint8)\\nnumbers.size',\n",
       " '_38': 400000000,\n",
       " '_i39': '# Create a list of 400,000,000 random integers (uint8 for data saving)\\nnp.random.seed(42)\\nnumbers = np.random.randint(low = 2, high = 200, size = int(4e8), dtype = np.uint8)\\nnumbers.size',\n",
       " '_39': 400000000,\n",
       " '_i40': 'numbers = numbers.reshape((20000, 20000))',\n",
       " '_i41': 'test = numbers.ravel()[100:200]\\ntest',\n",
       " 'test': array([114,  88, 136,  26,   3, 149, 112,  90, 109,   7,  50, 143,  76,\n",
       "        163,  89, 136,  60, 102, 164, 158,  75,  95, 104, 171, 183,  37,\n",
       "         73,  13,  76, 189,  12,  74,  95,  16, 152,  61, 191,   2, 195,\n",
       "        118, 191,  51,  25, 176,  76,   3, 191, 141,  80, 160,  52,  31,\n",
       "         53, 109,   9,  99,  56, 166, 133,   6, 183,  65, 125, 170, 153,\n",
       "        199, 127, 121, 132,  46,  13,  15,  39,  52,  17, 138, 157, 136,\n",
       "        164,  42, 176,  22, 122, 169,  45,  74,  85, 117, 168,  58, 169,\n",
       "         18,  19,  87, 103,   5, 133,  43,  90,  36], dtype=uint8),\n",
       " '_41': array([114,  88, 136,  26,   3, 149, 112,  90, 109,   7,  50, 143,  76,\n",
       "        163,  89, 136,  60, 102, 164, 158,  75,  95, 104, 171, 183,  37,\n",
       "         73,  13,  76, 189,  12,  74,  95,  16, 152,  61, 191,   2, 195,\n",
       "        118, 191,  51,  25, 176,  76,   3, 191, 141,  80, 160,  52,  31,\n",
       "         53, 109,   9,  99,  56, 166, 133,   6, 183,  65, 125, 170, 153,\n",
       "        199, 127, 121, 132,  46,  13,  15,  39,  52,  17, 138, 157, 136,\n",
       "        164,  42, 176,  22, 122, 169,  45,  74,  85, 117, 168,  58, 169,\n",
       "         18,  19,  87, 103,   5, 133,  43,  90,  36], dtype=uint8),\n",
       " '_i42': '%%timeit -n 1000 -r 10\\n\\n# Below is the np equivalent of `map(myfunc, test)`\\nnp.apply_along_axis(myfunc, 0, test)',\n",
       " '_i43': '(30e-6/100) * numbers.size',\n",
       " '_43': 120.0,\n",
       " '_i44': \"%%timeit -n 1000 -r 10\\n\\n# Below is the np equivalent of `map(myfunc, test)`\\nnp.apply_along_axis(myfunc, 0, test)\\n\\n# The result is how long it will take 1 CORE to do what we're asking it\",\n",
       " '_i45': '(30e-6/100) * numbers.size # This is how long it will theoretically take for 400,000,000 numbers',\n",
       " '_45': 120.0,\n",
       " '_i46': 'import dask.array as da',\n",
       " 'da': <module 'dask.array' from 'C:\\\\Program Files\\\\ArcGIS\\\\Pro\\\\bin\\\\Python\\\\envs\\\\arcgispro-py3\\\\lib\\\\site-packages\\\\dask\\\\array\\\\__init__.py'>,\n",
       " '_i47': 'd_numbers = da.from_array(numbers)\\nd_numbers',\n",
       " 'd_numbers': dask.array<rechunk-merge, shape=(20000, 20000), dtype=uint8, chunksize=(10000, 10000), chunktype=numpy.ndarray>,\n",
       " '_47': dask.array<array, shape=(20000, 20000), dtype=uint8, chunksize=(11585, 11585), chunktype=numpy.ndarray>,\n",
       " '_i48': 'd_numbers = d_numbers.rechunk(balance = True) # This will break up `numbers` into chunks of equal size\\nd_numbers',\n",
       " '_48': dask.array<rechunk-merge, shape=(20000, 20000), dtype=uint8, chunksize=(10000, 10000), chunktype=numpy.ndarray>,\n",
       " '_i49': '%%timeit -n 1\\n\\nnp.apply_along_axis(myfunc, 0, numbers)',\n",
       " '_i50': '%%timeit -n 1\\n\\n# map(myfunc, d_numbers)\\nresult = d_numbers.map_blocks(myfunc)\\nresult.compute() # This is where it actually runs',\n",
       " '_i51': '1.24 / 461e-3',\n",
       " '_51': 2.689804772234273,\n",
       " '_i52': '1.24 / 461e-3 # We see through this computation that the chunking is 2.7 x faster',\n",
       " '_52': 2.689804772234273,\n",
       " '_i53': '21 * 2400 * 2400',\n",
       " '_53': 120960000,\n",
       " '_i54': 'npp.size * 21',\n",
       " '_54': 120960000,\n",
       " '_i55': 'num_bits = ((21 * 2400 * 2400) * 16)\\nnum_bytes = num_bits / 8 # Convert to bytes (8 bits)\\nnum_mb = num_bytes / 1e6 # Convert to megabytes (1,000,000 bytes)\\nnum_mb',\n",
       " 'num_bits': 1935360000,\n",
       " 'num_bytes': 241920000.0,\n",
       " 'num_mb': 241.92,\n",
       " '_55': 241.92,\n",
       " '_i56': \"import h5py\\n\\nhdf = h5py.File('data/MOD17A3HGF_C61_h19v08_annual_NPP_gCm-2yr-1_2001-2021.h5', 'r')\\nnpp = hdf['NPP'][:]\\nhdf.close()\\n\\nnpp.shape\",\n",
       " '_56': (21, 2400, 2400),\n",
       " '_i57': 'from scipy import stats\\n\\ndef linear_trend(array, n_years = 21):\\n    # linregress(x, y) takes two arguments: y is regressed on x\\n    result = stats.linregress(np.arange(0, n_years), array)\\n    return result[0] # Just the slope',\n",
       " 'stats': <module 'scipy.stats' from 'C:\\\\Program Files\\\\ArcGIS\\\\Pro\\\\bin\\\\Python\\\\envs\\\\arcgispro-py3\\\\lib\\\\site-packages\\\\scipy\\\\stats\\\\__init__.py'>,\n",
       " 'linear_trend': <function __main__.linear_trend(array, n_years=21)>,\n",
       " '_i58': 'npp[:, 100, 100].shape',\n",
       " '_58': (21,),\n",
       " '_i59': ' test1 = npp[:, 100, 100].shape',\n",
       " 'test1': (21,),\n",
       " '_i60': 'np.apply_along_axis(myfunc, 0, test1)',\n",
       " '_60': array([-1], dtype=int32),\n",
       " '_i61': '%%timeit -n 100\\n\\nnp.apply_along_axis(myfunc, 0, test1)',\n",
       " '_i62': \" test1 = npp[:, 100, 100].shape # If we time the amount of time it will take for the whole dataset it's like 45 hours\",\n",
       " '_i63': 'linear_trend',\n",
       " '_63': <function __main__.linear_trend(array, n_years=21)>,\n",
       " '_i64': 'globals()',\n",
       " '_64': {...},\n",
       " '_i65': \"globals() # This tells us what's in the entire global namespace\"}"
      ]
     },
     "execution_count": 65,
     "metadata": {},
     "output_type": "execute_result"
    }
   ],
   "source": [
    "globals() # This tells us what's in the entire global namespace"
   ]
  },
  {
   "cell_type": "code",
   "execution_count": 66,
   "id": "427d86b4-17a4-420f-a1a5-59549d7f8176",
   "metadata": {},
   "outputs": [
    {
     "data": {
      "text/plain": [
       "True"
      ]
     },
     "execution_count": 66,
     "metadata": {},
     "output_type": "execute_result"
    }
   ],
   "source": [
    "'linear_trend' in globals().keys()"
   ]
  },
  {
   "cell_type": "markdown",
   "id": "90a6c582",
   "metadata": {},
   "source": [
    "### How Many Processes?"
   ]
  },
  {
   "cell_type": "code",
   "execution_count": 69,
   "id": "0144b858",
   "metadata": {},
   "outputs": [
    {
     "data": {
      "text/plain": [
       "24"
      ]
     },
     "execution_count": 69,
     "metadata": {},
     "output_type": "execute_result"
    }
   ],
   "source": [
    "import os\n",
    "\n",
    "# This way includes CPU tricks like \"hyper-threading\" to make a CPU core act like multiple cores\n",
    "os.cpu_count()"
   ]
  },
  {
   "cell_type": "code",
   "execution_count": 70,
   "id": "2f669ad4",
   "metadata": {},
   "outputs": [
    {
     "data": {
      "text/plain": [
       "16"
      ]
     },
     "execution_count": 70,
     "metadata": {},
     "output_type": "execute_result"
    }
   ],
   "source": [
    "import psutil \n",
    "\n",
    "# This tell you the actual physical CPUs on your computer\n",
    "psutil.cpu_count(logical = False)"
   ]
  },
  {
   "cell_type": "code",
   "execution_count": null,
   "id": "6c0fb720-1df2-4deb-9681-7e7c421094f1",
   "metadata": {},
   "outputs": [],
   "source": []
  },
  {
   "cell_type": "markdown",
   "id": "1e77f518",
   "metadata": {},
   "source": [
    "---"
   ]
  },
  {
   "cell_type": "markdown",
   "id": "c885e663",
   "metadata": {},
   "source": [
    "## Concurrent Raster Data Processing\n",
    "\n",
    "**Now, let's see how to actually do concurrent raster processing with `dask`.**\n",
    "\n",
    "When doing concurrent operations on arrays, we want to let `dask` do most of the work figuring out exactly how to chunk up the spatial domain."
   ]
  },
  {
   "cell_type": "code",
   "execution_count": null,
   "id": "0a6cd9e2",
   "metadata": {},
   "outputs": [],
   "source": [
    "def maxval(x):\n",
    "    return np.array([np.max(x[:,i]) for i in range(0, x[0].size)])"
   ]
  },
  {
   "cell_type": "code",
   "execution_count": null,
   "id": "ef41e8c4-2c38-47ff-9b20-4c51db2cfe4d",
   "metadata": {},
   "outputs": [],
   "source": []
  },
  {
   "cell_type": "code",
   "execution_count": null,
   "id": "8aea1bbd",
   "metadata": {},
   "outputs": [],
   "source": [
    "d_npp = da.from_array(npp).reshape((21, 2400*2400)).rechunk((-1, 'auto'), block_size_limit = 65e6)\n",
    "d_npp"
   ]
  },
  {
   "cell_type": "code",
   "execution_count": null,
   "id": "30be4272-ea33-43ed-b37b-41d8a482a7a9",
   "metadata": {},
   "outputs": [],
   "source": []
  },
  {
   "cell_type": "code",
   "execution_count": null,
   "id": "129cbdb5",
   "metadata": {},
   "outputs": [],
   "source": [
    "d_npp = da.from_array(npp).reshape((21, 2400*2400)).rechunk((-1, 1440000))\n",
    "d_npp"
   ]
  },
  {
   "cell_type": "code",
   "execution_count": null,
   "id": "e88c7ef6-c3db-4642-a1ed-432f77eafe6c",
   "metadata": {},
   "outputs": [],
   "source": []
  },
  {
   "cell_type": "code",
   "execution_count": null,
   "id": "5f88d67a",
   "metadata": {},
   "outputs": [],
   "source": [
    "from matplotlib import pyplot\n",
    "\n",
    "max_npp = max_npp.reshape((2400,2400)).astype(np.float32)\n",
    "max_npp[max_npp < 0] = np.nan\n",
    "\n",
    "plt.imshow(max_npp, interpolation = 'nearest')\n",
    "plt.colorbar()\n",
    "plt.show()"
   ]
  },
  {
   "cell_type": "markdown",
   "id": "6e9fcd9c",
   "metadata": {},
   "source": [
    "---\n",
    "\n",
    "## At Home: Calculate a Linear Trend\n",
    "\n",
    "Try running `map_blocks()` with a different function! The `linear_trend2()` function, below, is designed to calculate linear trends on each pixel in a block of pixels, so it can be used with `dask` and `map_blocks()` to calculate trends over large raster data cubes.\n",
    "\n",
    "This took about 10 minutes with 4 processes on my Intel i7 CPU at home. You should expect it to take about the same amount of time."
   ]
  },
  {
   "cell_type": "code",
   "execution_count": null,
   "id": "53c1cf38",
   "metadata": {},
   "outputs": [],
   "source": [
    "def linear_trend2(block, n_years = 21):\n",
    "    x_data = np.arange(0, n_years)\n",
    "    # A fancy way of saying call stats.linregress() in a for loop,\n",
    "    #    once for each pixel in the block\n",
    "    return np.array([\n",
    "        stats.linregress(x_data, block[:,i])[0]\n",
    "        for i in range(0, block[0].size)\n",
    "    ])"
   ]
  },
  {
   "cell_type": "code",
   "execution_count": 56,
   "id": "62f3da4d",
   "metadata": {},
   "outputs": [
    {
     "name": "stdout",
     "output_type": "stream",
     "text": [
      "10min 4s ± 0 ns per loop (mean ± std. dev. of 1 run, 1 loop each)\n"
     ]
    }
   ],
   "source": [
    "%%timeit -n 1 -r 1\n",
    "\n",
    "result = d_npp.map_blocks(linear_trend2, drop_axis = 0, dtype = np.int16)\n",
    "result.compute()"
   ]
  }
 ],
 "metadata": {
  "kernelspec": {
   "display_name": "Python 3 (ipykernel)",
   "language": "python",
   "name": "python3"
  },
  "language_info": {
   "codemirror_mode": {
    "name": "ipython",
    "version": 3
   },
   "file_extension": ".py",
   "mimetype": "text/x-python",
   "name": "python",
   "nbconvert_exporter": "python",
   "pygments_lexer": "ipython3",
   "version": "3.9.18"
  }
 },
 "nbformat": 4,
 "nbformat_minor": 5
}
