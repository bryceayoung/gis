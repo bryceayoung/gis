{
 "cells": [
  {
   "cell_type": "markdown",
   "id": "cd60789e",
   "metadata": {},
   "source": [
    "# Numerical Data in Python"
   ]
  },
  {
   "cell_type": "markdown",
   "id": "a15cc94d",
   "metadata": {},
   "source": [
    "*February 13, 2023*"
   ]
  },
  {
   "cell_type": "markdown",
   "id": "2e135365",
   "metadata": {},
   "source": [
    "**Jumpstart Comprehension Check**\n",
    "\n",
    "```python\n",
    "months = ['Jan', 'Feb', 'Mar', 'Apr', 'May', 'Jun', 'Jul', 'Aug', 'Sep', 'Oct', 'Nov', 'Dec']\n",
    "```\n",
    "\n",
    "**What output would be produced by each of the following Python expressions?** Try to answer without typing anying.\n",
    "\n",
    "1. `months[2:4]`\n",
    "2. `list(range(months))`\n",
    "3. `months[4:]`\n",
    "4. `list(enumerate(months))`\n",
    "5. `months[-2]`"
   ]
  },
  {
   "cell_type": "code",
   "execution_count": 4,
   "id": "a0ffadc2-e570-4fa0-8299-c80840d824fe",
   "metadata": {},
   "outputs": [
    {
     "data": {
      "text/plain": [
       "[0, 1, 2, 3, 4, 5, 6, 7, 8, 9, 10, 11]"
      ]
     },
     "execution_count": 4,
     "metadata": {},
     "output_type": "execute_result"
    }
   ],
   "source": [
    "months = ['Jan', 'Feb', 'Mar', 'Apr', 'May', 'Jun', 'Jul', 'Aug', 'Sep', 'Oct', 'Nov', 'Dec']\n",
    "list(range(len(months)))"
   ]
  },
  {
   "cell_type": "code",
   "execution_count": 5,
   "id": "9b3ea698-d459-435f-b4e9-91c659b322c8",
   "metadata": {},
   "outputs": [
    {
     "data": {
      "text/plain": [
       "['May', 'Jun', 'Jul', 'Aug', 'Sep', 'Oct', 'Nov', 'Dec']"
      ]
     },
     "execution_count": 5,
     "metadata": {},
     "output_type": "execute_result"
    }
   ],
   "source": [
    "months[4:]"
   ]
  },
  {
   "cell_type": "code",
   "execution_count": 6,
   "id": "44b831b3-52d5-4a97-a6cc-37d726db9173",
   "metadata": {},
   "outputs": [
    {
     "data": {
      "text/plain": [
       "[(0, 'Jan'),\n",
       " (1, 'Feb'),\n",
       " (2, 'Mar'),\n",
       " (3, 'Apr'),\n",
       " (4, 'May'),\n",
       " (5, 'Jun'),\n",
       " (6, 'Jul'),\n",
       " (7, 'Aug'),\n",
       " (8, 'Sep'),\n",
       " (9, 'Oct'),\n",
       " (10, 'Nov'),\n",
       " (11, 'Dec')]"
      ]
     },
     "execution_count": 6,
     "metadata": {},
     "output_type": "execute_result"
    }
   ],
   "source": [
    "list(enumerate(months))"
   ]
  },
  {
   "cell_type": "code",
   "execution_count": 7,
   "id": "e0f8bc1b-b367-428a-9faf-233bbda2efe7",
   "metadata": {},
   "outputs": [
    {
     "data": {
      "text/plain": [
       "['Oct', 'Nov']"
      ]
     },
     "execution_count": 7,
     "metadata": {},
     "output_type": "execute_result"
    }
   ],
   "source": [
    "months[-3:-1]"
   ]
  },
  {
   "cell_type": "markdown",
   "id": "a05a0343",
   "metadata": {},
   "source": [
    "---\n",
    "\n",
    "## Introducing NumPy"
   ]
  },
  {
   "cell_type": "code",
   "execution_count": 13,
   "id": "540796bd-3851-4328-855f-70c8914b31a6",
   "metadata": {},
   "outputs": [
    {
     "data": {
      "text/plain": [
       "array([1, 2, 3])"
      ]
     },
     "execution_count": 13,
     "metadata": {},
     "output_type": "execute_result"
    }
   ],
   "source": [
    "# np.ndarray\n",
    "arr = np.array([1,2,3])\n",
    "arr"
   ]
  },
  {
   "cell_type": "code",
   "execution_count": 14,
   "id": "d1433d49-b3ed-4ccc-b6e3-ea7abe7f59f3",
   "metadata": {},
   "outputs": [
    {
     "data": {
      "text/plain": [
       "array([1, 0, 3])"
      ]
     },
     "execution_count": 14,
     "metadata": {},
     "output_type": "execute_result"
    }
   ],
   "source": [
    "arr1 = np.array([1, False, 3])\n",
    "arr1"
   ]
  },
  {
   "cell_type": "code",
   "execution_count": 23,
   "id": "82517e1c-5c92-4b4a-bf43-778d8ccd78b8",
   "metadata": {},
   "outputs": [
    {
     "data": {
      "text/plain": [
       "dtype('int32')"
      ]
     },
     "execution_count": 23,
     "metadata": {},
     "output_type": "execute_result"
    }
   ],
   "source": [
    "np.dtype(arr1[1]) # Dtype of second element in list"
   ]
  },
  {
   "cell_type": "code",
   "execution_count": 24,
   "id": "a72e8145-9008-4a58-a1ce-92f0b09d1e29",
   "metadata": {},
   "outputs": [
    {
     "data": {
      "text/plain": [
       "[[42.0, 45.5], [-118.1, -118.2]]"
      ]
     },
     "execution_count": 24,
     "metadata": {},
     "output_type": "execute_result"
    }
   ],
   "source": [
    "xy = [[42.0, 45.5], [-118.1, -118.2]]\n",
    "xy"
   ]
  },
  {
   "cell_type": "code",
   "execution_count": 25,
   "id": "916131cc-8e98-4846-bb48-dafe9bf0342c",
   "metadata": {},
   "outputs": [
    {
     "data": {
      "text/plain": [
       "array([[  42. ,   45.5],\n",
       "       [-118.1, -118.2]])"
      ]
     },
     "execution_count": 25,
     "metadata": {},
     "output_type": "execute_result"
    }
   ],
   "source": [
    "arr = np.array(xy)\n",
    "arr"
   ]
  },
  {
   "cell_type": "code",
   "execution_count": 26,
   "id": "fe20082e-a4d1-4c59-a287-89ce245d4023",
   "metadata": {},
   "outputs": [
    {
     "data": {
      "text/plain": [
       "array([42. , 45.5])"
      ]
     },
     "execution_count": 26,
     "metadata": {},
     "output_type": "execute_result"
    }
   ],
   "source": [
    "arr[0]"
   ]
  },
  {
   "cell_type": "code",
   "execution_count": 29,
   "id": "6cb3601a-22e6-4d06-bb5a-edeb6490b9ce",
   "metadata": {},
   "outputs": [
    {
     "data": {
      "text/plain": [
       "2"
      ]
     },
     "execution_count": 29,
     "metadata": {},
     "output_type": "execute_result"
    }
   ],
   "source": [
    "arr.ndim"
   ]
  },
  {
   "cell_type": "code",
   "execution_count": 30,
   "id": "d5e3eec8-b29e-41bc-a7ca-4401e6de4df6",
   "metadata": {},
   "outputs": [
    {
     "data": {
      "text/plain": [
       "(2, 2)"
      ]
     },
     "execution_count": 30,
     "metadata": {},
     "output_type": "execute_result"
    }
   ],
   "source": [
    "arr.shape"
   ]
  },
  {
   "cell_type": "markdown",
   "id": "515836b8",
   "metadata": {},
   "source": [
    "---"
   ]
  },
  {
   "cell_type": "markdown",
   "id": "9dbda277",
   "metadata": {},
   "source": [
    "## Working with NumPy Arrays"
   ]
  },
  {
   "cell_type": "markdown",
   "id": "03fc3d96",
   "metadata": {},
   "source": [
    "For the rest of this lesson, we'll be working with [data on near-surface air temperatures from the NOAA Center for Climate Prediction (CPC).](http://iridl.ldeo.columbia.edu/SOURCES/.NOAA/.NCEP/.CPC/.GHCN_CAMS/.gridded/.deg0p5/index.html) "
   ]
  },
  {
   "cell_type": "code",
   "execution_count": 8,
   "id": "4c59d4c1",
   "metadata": {},
   "outputs": [],
   "source": [
    "import pandas as pd\n",
    "\n",
    "temps = pd.read_csv(\n",
    "    'http://files.ntsg.umt.edu/data/GIS_Programming/data/NOAA_NCEP_CPC_gridded_deg0p5_1948-2022_Utqiagvik.txt',\n",
    "    header = None).to_numpy()"
   ]
  },
  {
   "cell_type": "code",
   "execution_count": 11,
   "id": "6d7200e8-684f-4e56-809f-ae5d7962485f",
   "metadata": {},
   "outputs": [],
   "source": [
    "import numpy as np"
   ]
  },
  {
   "cell_type": "code",
   "execution_count": 31,
   "id": "48af0136-c4b4-46ff-a2d6-86d638ea39c2",
   "metadata": {},
   "outputs": [
    {
     "data": {
      "text/plain": [
       "(75, 12)"
      ]
     },
     "execution_count": 31,
     "metadata": {},
     "output_type": "execute_result"
    }
   ],
   "source": [
    "temps.shape"
   ]
  },
  {
   "cell_type": "code",
   "execution_count": 32,
   "id": "2dd6c45c-0313-47df-bf74-9f5ec96eb542",
   "metadata": {},
   "outputs": [
    {
     "data": {
      "text/plain": [
       "array([-27.52, -25.63, -27.88, -16.84, -10.27,  -0.7 ,   4.9 ,   2.36,\n",
       "        -3.82, -11.5 , -21.82, -30.65])"
      ]
     },
     "execution_count": 32,
     "metadata": {},
     "output_type": "execute_result"
    }
   ],
   "source": [
    "# First year of data\n",
    "temps[0]"
   ]
  },
  {
   "cell_type": "code",
   "execution_count": 33,
   "id": "e977f3e1-0560-4c08-b113-d19b77e28dfd",
   "metadata": {},
   "outputs": [
    {
     "data": {
      "text/plain": [
       "-27.52"
      ]
     },
     "execution_count": 33,
     "metadata": {},
     "output_type": "execute_result"
    }
   ],
   "source": [
    "# First month of first year\n",
    "temps[0,0]"
   ]
  },
  {
   "cell_type": "code",
   "execution_count": 34,
   "id": "94753a95-0322-4fdb-98f8-d9a01b6e1ff7",
   "metadata": {},
   "outputs": [
    {
     "data": {
      "text/plain": [
       "array([-25.63, -30.53, -32.76, -31.  , -32.15])"
      ]
     },
     "execution_count": 34,
     "metadata": {},
     "output_type": "execute_result"
    }
   ],
   "source": [
    "# Second month of first five years\n",
    "temps[0:5, 1]"
   ]
  },
  {
   "cell_type": "code",
   "execution_count": 36,
   "id": "894c6ccc-8fcd-49d7-90c2-0e1c50acbf5a",
   "metadata": {},
   "outputs": [
    {
     "data": {
      "text/plain": [
       "array([-27.52, -25.03, -20.86, -33.64, -28.22, -29.13, -28.01, -24.26,\n",
       "       -28.72, -20.38, -26.03, -27.57, -28.86, -22.84, -20.94, -22.14,\n",
       "       -28.38, -28.54, -27.94, -25.05, -23.9 , -26.26, -26.7 , -31.04,\n",
       "       -28.07, -27.04, -25.43, -31.55, -27.58, -20.83, -20.67, -20.32,\n",
       "       -26.34, -18.03, -25.74, -30.18, -27.27, -22.49, -27.68, -25.08,\n",
       "       -23.53, -31.53, -30.05, -25.87, -28.84, -25.1 , -25.03, -25.35,\n",
       "       -24.79, -28.25, -27.98, -29.31, -26.31, -22.29, -25.8 , -23.65,\n",
       "       -24.35, -23.12, -26.99, -25.91, -26.89, -26.07, -27.62, -23.35,\n",
       "       -30.97, -23.  , -16.91, -24.29, -16.56, -24.61, -24.08, -23.47,\n",
       "       -29.37, -21.65, -28.45])"
      ]
     },
     "execution_count": 36,
     "metadata": {},
     "output_type": "execute_result"
    }
   ],
   "source": [
    "# Every year in January\n",
    "temps[:,0]"
   ]
  },
  {
   "cell_type": "code",
   "execution_count": 38,
   "id": "00c7cce8-6564-4a18-a389-96b3328a58d3",
   "metadata": {},
   "outputs": [
    {
     "data": {
      "text/plain": [
       "array([-5.88, -7.04])"
      ]
     },
     "execution_count": 38,
     "metadata": {},
     "output_type": "execute_result"
    }
   ],
   "source": [
    "# Last two years in October\n",
    "temps[-2:, -3]"
   ]
  },
  {
   "cell_type": "markdown",
   "id": "3af46811",
   "metadata": {},
   "source": [
    "![](numpy-matrix-indexing.png)"
   ]
  },
  {
   "cell_type": "markdown",
   "id": "7f01c9b0",
   "metadata": {},
   "source": [
    "*Image is from a presentation by Mauricio Sevilla.*"
   ]
  },
  {
   "cell_type": "markdown",
   "id": "f2b7f1f4",
   "metadata": {},
   "source": [
    "---"
   ]
  },
  {
   "cell_type": "markdown",
   "id": "be53c109",
   "metadata": {},
   "source": [
    "### Challenge: Working with Multi-dimensional Arrays"
   ]
  },
  {
   "cell_type": "markdown",
   "id": "ab791618",
   "metadata": {},
   "source": [
    "1. What's the average July temperature in Utqiagvik over the years?\n",
    "2. What was the minimum monthly temperature in 1979? Recall that the years of this data extend from 1948 through 2025."
   ]
  },
  {
   "cell_type": "code",
   "execution_count": 50,
   "id": "9574204f-7cd6-47b9-a806-757067527138",
   "metadata": {},
   "outputs": [
    {
     "data": {
      "text/plain": [
       "4.907466666666667"
      ]
     },
     "execution_count": 50,
     "metadata": {},
     "output_type": "execute_result"
    }
   ],
   "source": [
    "avg = np.mean(temps[:, 6])\n",
    "avg"
   ]
  },
  {
   "cell_type": "code",
   "execution_count": 49,
   "id": "1836e6df-5381-450a-be63-b9f41b3f1cc1",
   "metadata": {},
   "outputs": [
    {
     "data": {
      "text/plain": [
       "-25.55"
      ]
     },
     "execution_count": 49,
     "metadata": {},
     "output_type": "execute_result"
    }
   ],
   "source": [
    "min = np.min(temps[30, :])\n",
    "min"
   ]
  },
  {
   "cell_type": "markdown",
   "id": "8eb5567b",
   "metadata": {},
   "source": [
    "---"
   ]
  },
  {
   "cell_type": "markdown",
   "id": "b6538a72",
   "metadata": {},
   "source": [
    "## Calculations on NumPy Arrays"
   ]
  },
  {
   "cell_type": "code",
   "execution_count": 51,
   "id": "6fa6a535-3f36-417e-b6db-288793473b54",
   "metadata": {},
   "outputs": [
    {
     "data": {
      "text/plain": [
       "array([-26.275, -28.08 , -24.505, -20.69 , -10.295,  -0.96 ,   4.595,\n",
       "         4.06 ,  -1.285,  -8.945, -18.15 , -27.805])"
      ]
     },
     "execution_count": 51,
     "metadata": {},
     "output_type": "execute_result"
    }
   ],
   "source": [
    "# If you add a number or do a calculation to a numpy array, the calculation will be performed on every element in the array\n",
    "# For example, if I want the average temp for each month for the first two years, I can:\n",
    "(temps[0] + temps[1]) / 2"
   ]
  },
  {
   "cell_type": "code",
   "execution_count": 56,
   "id": "66d46051-a503-4a39-9cdc-5246a474322d",
   "metadata": {},
   "outputs": [
    {
     "data": {
      "text/plain": [
       "array([-25.70133333, -27.22226667, -25.85093333, -17.79946667,\n",
       "        -6.47933333,   1.8008    ,   4.90746667,   3.85333333,\n",
       "        -0.16373333,  -8.76786667, -17.87333333, -23.7628    ])"
      ]
     },
     "execution_count": 56,
     "metadata": {},
     "output_type": "execute_result"
    }
   ],
   "source": [
    "# Or if I want temp avg per month across all years\n",
    "temps.mean(axis = 0) # This specifies WHICH AXIS I WANT TO COLLAPSE\n",
    "# for example, axis = 0 are rows. I want to go across columns and only have 1 row"
   ]
  },
  {
   "cell_type": "code",
   "execution_count": 57,
   "id": "8c8d1288-17b5-468d-be98-7d0d7eb19d97",
   "metadata": {},
   "outputs": [
    {
     "data": {
      "text/plain": [
       "array([-14.11416667, -12.275     , -11.1975    , -12.40833333,\n",
       "       -13.42333333, -13.47583333, -12.45583333, -14.54416667,\n",
       "       -14.25083333, -11.965     , -11.7575    , -13.62916667,\n",
       "       -12.84333333, -13.56      , -11.19166667, -12.0875    ,\n",
       "       -14.75666667, -12.9475    , -13.39333333, -12.0125    ,\n",
       "       -12.53666667, -12.5225    , -13.59333333, -14.04416667,\n",
       "       -12.80333333, -12.22916667, -14.545     , -14.32666667,\n",
       "       -12.84833333, -11.90416667, -11.62333333, -11.24      ,\n",
       "       -12.6825    , -11.41333333, -13.1425    , -13.5475    ,\n",
       "       -14.82583333, -12.68416667, -12.11416667, -12.42833333,\n",
       "       -13.025     , -11.045     , -12.39833333, -12.865     ,\n",
       "       -12.47833333, -10.4775    , -12.75083333, -11.45083333,\n",
       "       -11.77      , -11.22833333,  -9.32083333, -12.25666667,\n",
       "       -11.6675    , -11.5725    , -10.03833333, -10.465     ,\n",
       "       -10.59166667, -10.3175    , -10.75416667,  -9.75      ,\n",
       "       -11.05      , -10.775     , -10.21833333, -10.46166667,\n",
       "       -11.4       , -10.33083333,  -9.2725    ,  -9.8275    ,\n",
       "        -8.33      ,  -9.71833333,  -8.86      ,  -8.23      ,\n",
       "       -10.9375    , -12.12583333, -11.01666667])"
      ]
     },
     "execution_count": 57,
     "metadata": {},
     "output_type": "execute_result"
    }
   ],
   "source": [
    "# Or if I want temp avg per year across months\n",
    "temps.mean(axis = 1)"
   ]
  },
  {
   "cell_type": "markdown",
   "id": "450d1733",
   "metadata": {},
   "source": [
    "It can be very difficult to remember what `axis` to use in calculating a summary... Here's a helpful visual representation.\n",
    "\n",
    "![](numpy-axis.jpg)\n",
    "\n",
    "*Image courtesy of Alex Riley*"
   ]
  },
  {
   "cell_type": "markdown",
   "id": "3bca9833",
   "metadata": {},
   "source": [
    "---"
   ]
  },
  {
   "cell_type": "markdown",
   "id": "0f57cbd7",
   "metadata": {},
   "source": [
    "### Challenge: Statistical Summary of an Array"
   ]
  },
  {
   "cell_type": "markdown",
   "id": "2a7b29f5",
   "metadata": {},
   "source": [
    "What's the minimum, maximum, and mean monthly temperature for August in Utqiagvik?"
   ]
  },
  {
   "cell_type": "code",
   "execution_count": 60,
   "id": "cb791b4d-8951-48fb-b4ec-166fc6728d64",
   "metadata": {},
   "outputs": [
    {
     "name": "stdout",
     "output_type": "stream",
     "text": [
      "-0.07\n",
      "7.0\n",
      "3.8533333333333326\n"
     ]
    }
   ],
   "source": [
    "print(temps[:, 7].min())\n",
    "print(temps[:, 7].max())\n",
    "print(temps[:, 7].mean())"
   ]
  },
  {
   "cell_type": "markdown",
   "id": "387ff079",
   "metadata": {},
   "source": [
    "---"
   ]
  },
  {
   "cell_type": "markdown",
   "id": "6630de65",
   "metadata": {},
   "source": [
    "## Sorting and Filtering Arrays"
   ]
  },
  {
   "cell_type": "code",
   "execution_count": 65,
   "id": "0a2154b9-959a-4390-ab0d-76f64782deab",
   "metadata": {
    "scrolled": true
   },
   "outputs": [
    {
     "data": {
      "text/plain": [
       "array([[ True,  True,  True,  True,  True, False, False, False, False,\n",
       "         True,  True,  True],\n",
       "       [ True,  True,  True,  True,  True, False, False, False, False,\n",
       "         True,  True,  True],\n",
       "       [ True,  True,  True,  True,  True, False, False, False, False,\n",
       "         True,  True,  True],\n",
       "       [ True,  True,  True,  True,  True, False, False, False, False,\n",
       "         True,  True,  True],\n",
       "       [ True,  True,  True,  True,  True, False, False, False, False,\n",
       "         True,  True,  True],\n",
       "       [ True,  True,  True,  True,  True, False, False, False, False,\n",
       "         True,  True,  True],\n",
       "       [ True,  True,  True,  True,  True, False, False, False, False,\n",
       "         True,  True,  True],\n",
       "       [ True,  True,  True,  True,  True, False, False, False, False,\n",
       "         True,  True,  True],\n",
       "       [ True,  True,  True,  True,  True, False, False, False, False,\n",
       "         True,  True,  True],\n",
       "       [ True,  True,  True,  True,  True, False, False, False, False,\n",
       "         True,  True,  True],\n",
       "       [ True,  True,  True,  True,  True, False, False, False, False,\n",
       "         True,  True,  True],\n",
       "       [ True,  True,  True,  True,  True, False, False, False, False,\n",
       "         True,  True,  True],\n",
       "       [ True,  True,  True,  True,  True, False, False, False, False,\n",
       "         True,  True,  True],\n",
       "       [ True,  True,  True,  True,  True, False, False, False, False,\n",
       "         True,  True,  True],\n",
       "       [ True,  True,  True,  True,  True, False, False, False, False,\n",
       "         True,  True,  True],\n",
       "       [ True,  True,  True,  True, False, False, False, False, False,\n",
       "         True,  True,  True],\n",
       "       [ True,  True,  True,  True,  True, False, False, False, False,\n",
       "         True,  True,  True],\n",
       "       [ True,  True,  True,  True,  True, False, False, False, False,\n",
       "         True,  True,  True],\n",
       "       [ True,  True,  True,  True,  True, False, False, False, False,\n",
       "         True,  True,  True],\n",
       "       [ True,  True,  True,  True,  True, False, False, False, False,\n",
       "         True,  True,  True],\n",
       "       [ True,  True,  True,  True,  True, False, False, False, False,\n",
       "         True,  True,  True],\n",
       "       [ True,  True,  True,  True,  True, False, False, False, False,\n",
       "         True,  True,  True],\n",
       "       [ True,  True,  True,  True,  True, False, False, False, False,\n",
       "         True,  True,  True],\n",
       "       [ True,  True,  True,  True,  True, False, False, False, False,\n",
       "         True,  True,  True],\n",
       "       [ True,  True,  True,  True,  True, False, False, False, False,\n",
       "         True,  True,  True],\n",
       "       [ True,  True,  True,  True,  True, False, False, False, False,\n",
       "         True,  True,  True],\n",
       "       [ True,  True,  True,  True,  True, False, False, False, False,\n",
       "         True,  True,  True],\n",
       "       [ True,  True,  True,  True,  True, False, False, False, False,\n",
       "         True,  True,  True],\n",
       "       [ True,  True,  True,  True,  True, False, False, False, False,\n",
       "         True,  True,  True],\n",
       "       [ True,  True,  True,  True,  True, False, False, False, False,\n",
       "         True,  True,  True],\n",
       "       [ True,  True,  True,  True,  True, False, False, False, False,\n",
       "         True,  True,  True],\n",
       "       [ True,  True,  True,  True,  True, False, False, False, False,\n",
       "         True,  True,  True],\n",
       "       [ True,  True,  True,  True,  True, False, False, False, False,\n",
       "         True,  True,  True],\n",
       "       [ True,  True,  True,  True, False, False, False, False, False,\n",
       "         True,  True,  True],\n",
       "       [ True,  True,  True,  True,  True, False, False, False, False,\n",
       "         True,  True,  True],\n",
       "       [ True,  True,  True,  True,  True, False, False, False, False,\n",
       "         True,  True,  True],\n",
       "       [ True,  True,  True,  True,  True, False, False, False, False,\n",
       "         True,  True,  True],\n",
       "       [ True,  True,  True,  True,  True, False, False, False, False,\n",
       "         True,  True,  True],\n",
       "       [ True,  True,  True,  True,  True, False, False, False, False,\n",
       "         True,  True,  True],\n",
       "       [ True,  True,  True,  True,  True, False, False, False, False,\n",
       "         True,  True,  True],\n",
       "       [ True,  True,  True,  True,  True, False, False, False, False,\n",
       "         True,  True,  True],\n",
       "       [ True,  True,  True,  True,  True, False, False, False, False,\n",
       "         True,  True,  True],\n",
       "       [ True,  True,  True,  True, False, False, False, False, False,\n",
       "         True,  True,  True],\n",
       "       [ True,  True,  True,  True, False, False, False, False, False,\n",
       "         True,  True,  True],\n",
       "       [ True,  True,  True,  True, False, False, False, False, False,\n",
       "         True,  True,  True],\n",
       "       [ True,  True,  True,  True,  True, False, False, False, False,\n",
       "         True,  True,  True],\n",
       "       [ True,  True,  True,  True, False, False, False, False, False,\n",
       "         True,  True,  True],\n",
       "       [ True,  True,  True,  True, False, False, False, False, False,\n",
       "         True,  True,  True],\n",
       "       [ True,  True,  True,  True, False, False, False, False, False,\n",
       "         True,  True,  True],\n",
       "       [ True,  True,  True,  True,  True, False, False, False, False,\n",
       "         True,  True,  True],\n",
       "       [ True,  True,  True,  True, False, False, False, False, False,\n",
       "         True,  True,  True],\n",
       "       [ True,  True,  True,  True, False, False, False, False, False,\n",
       "         True,  True,  True],\n",
       "       [ True,  True,  True,  True,  True, False, False, False, False,\n",
       "         True,  True,  True],\n",
       "       [ True,  True,  True,  True,  True, False, False, False, False,\n",
       "         True,  True,  True],\n",
       "       [ True,  True,  True,  True, False, False, False, False, False,\n",
       "        False,  True,  True],\n",
       "       [ True,  True,  True,  True,  True, False, False, False, False,\n",
       "        False,  True,  True],\n",
       "       [ True,  True,  True,  True, False, False, False, False, False,\n",
       "         True,  True,  True],\n",
       "       [ True,  True,  True,  True, False, False, False, False, False,\n",
       "         True,  True,  True],\n",
       "       [ True,  True,  True,  True, False, False, False, False, False,\n",
       "        False,  True,  True],\n",
       "       [ True,  True,  True,  True,  True, False, False, False, False,\n",
       "         True,  True,  True],\n",
       "       [ True,  True,  True,  True,  True, False, False, False, False,\n",
       "         True,  True,  True],\n",
       "       [ True,  True,  True,  True, False, False, False, False, False,\n",
       "        False,  True,  True],\n",
       "       [ True,  True,  True,  True,  True, False, False, False, False,\n",
       "         True,  True,  True],\n",
       "       [ True,  True,  True,  True,  True, False, False, False, False,\n",
       "         True,  True,  True],\n",
       "       [ True,  True,  True,  True,  True, False, False, False, False,\n",
       "        False,  True,  True],\n",
       "       [ True,  True,  True,  True,  True, False, False, False, False,\n",
       "        False,  True,  True],\n",
       "       [ True,  True,  True,  True,  True, False, False, False, False,\n",
       "         True,  True,  True],\n",
       "       [ True,  True,  True,  True, False, False, False, False, False,\n",
       "         True,  True,  True],\n",
       "       [ True,  True,  True,  True, False, False, False, False, False,\n",
       "        False,  True,  True],\n",
       "       [ True,  True,  True,  True, False, False, False, False, False,\n",
       "         True,  True,  True],\n",
       "       [ True,  True,  True,  True, False, False, False, False, False,\n",
       "        False,  True,  True],\n",
       "       [ True,  True,  True,  True, False, False, False, False, False,\n",
       "         True,  True,  True],\n",
       "       [ True,  True,  True,  True, False, False, False, False, False,\n",
       "         True,  True,  True],\n",
       "       [ True,  True,  True,  True,  True, False, False, False, False,\n",
       "         True,  True,  True],\n",
       "       [ True,  True,  True,  True,  True, False, False, False, False,\n",
       "         True,  True,  True]])"
      ]
     },
     "execution_count": 65,
     "metadata": {},
     "output_type": "execute_result"
    }
   ],
   "source": [
    "# In which of these months is the temperature below -5C?\n",
    "temps <= -5\n",
    "\n",
    "# This is a really cool operation for rasters because you can create\n",
    "# a whole new raster converted based on threshhold values of pixels\n",
    "# e.g. burned area vs. non-burned area basd on ndbr\n",
    "# e.g. height threshholds for vegetation in HIZ"
   ]
  },
  {
   "cell_type": "code",
   "execution_count": 66,
   "id": "84d8c5ed-58a9-4773-b8d6-6a4d4a3c77af",
   "metadata": {},
   "outputs": [
    {
     "data": {
      "text/plain": [
       "array([[ 0,  0],\n",
       "       [ 0,  1],\n",
       "       [ 0,  2],\n",
       "       ...,\n",
       "       [74,  9],\n",
       "       [74, 10],\n",
       "       [74, 11]], dtype=int64)"
      ]
     },
     "execution_count": 66,
     "metadata": {},
     "output_type": "execute_result"
    }
   ],
   "source": [
    "# You can find where it's true (e.g. what months of what years were avg temps < -5C)\n",
    "np.argwhere(temps <= -5)"
   ]
  },
  {
   "cell_type": "markdown",
   "id": "5ea524fd",
   "metadata": {},
   "source": [
    "---"
   ]
  },
  {
   "cell_type": "markdown",
   "id": "6dfcd9c4",
   "metadata": {},
   "source": [
    "## More Resources"
   ]
  },
  {
   "cell_type": "markdown",
   "id": "5c4b7746",
   "metadata": {},
   "source": [
    "- [Visual introduction to NumPy](https://jmsevillam.github.io/slides/Python/Numpy.slides.html#/)"
   ]
  }
 ],
 "metadata": {
  "kernelspec": {
   "display_name": "Python 3 (ipykernel)",
   "language": "python",
   "name": "python3"
  },
  "language_info": {
   "codemirror_mode": {
    "name": "ipython",
    "version": 3
   },
   "file_extension": ".py",
   "mimetype": "text/x-python",
   "name": "python",
   "nbconvert_exporter": "python",
   "pygments_lexer": "ipython3",
   "version": "3.9.18"
  }
 },
 "nbformat": 4,
 "nbformat_minor": 5
}
